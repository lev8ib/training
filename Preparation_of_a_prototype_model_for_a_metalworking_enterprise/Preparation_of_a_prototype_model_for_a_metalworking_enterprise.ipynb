{
 "cells": [
  {
   "cell_type": "markdown",
   "metadata": {},
   "source": [
    "# Описание проекта\n",
    "\n",
    "Подготовьте прототип модели машинного обучения для «Цифры». Компания разрабатывает решения для эффективной работы промышленных предприятий.\n",
    "\n",
    "Модель должна предсказать коэффициент восстановления золота из золотосодержащей руды. В вашем распоряжении данные с параметрами добычи и очистки. \n",
    "\n",
    "Модель поможет оптимизировать производство, чтобы не запускать предприятие с убыточными характеристиками.\n",
    "\n",
    "Вам нужно:\n",
    "\n",
    "1. Подготовить данные;\n",
    "2. Провести исследовательский анализ данных;\n",
    "3. Построить и обучить модель.\n",
    "\n",
    "Чтобы выполнить проект, обращайтесь к библиотекам *pandas*, *matplotlib* и *sklearn.* Вам поможет их документация."
   ]
  },
  {
   "cell_type": "markdown",
   "metadata": {},
   "source": [
    "# Описание данных\n",
    "\n",
    "Данные находятся в трёх файлах:\n",
    "* gold_recovery_train.csv — обучающая выборка Скачать датасет;\n",
    "* gold_recovery_test.csv — тестовая выборка Скачать датасет;\n",
    "* gold_recovery_full.csv — исходные данные Скачать датасет.\n",
    "\n",
    "Данные индексируются датой и временем получения информации (признак date). Соседние по времени параметры часто похожи."
   ]
  },
  {
   "cell_type": "markdown",
   "metadata": {},
   "source": [
    "#  Содержание проекта\n",
    "\n",
    "<a href='#step1'>1.Подготовка данных</a>\n",
    "* Импорт библиотек\n",
    "* Загрузка датасетов\n",
    "* Очистка данных\n",
    "* Предобработка данных\n",
    "\n",
    "<a href='#step2'>2.Анализ данных</a>\n",
    "* Расмотрение концентрации металлов (Au, Ag, Pb)\n",
    "* Распределение размеров гранул сырья \n",
    "* Исследование суммарной концентрации всех веществ на разных стадиях: в сырье, в черновом и финальном концентратах\n",
    "\n",
    "<a href='#step3'>3.Модель</a>\n",
    "* Вычисление итоговой sMAPE\n",
    "* Обучение различных модели и оценка их качества кросс-валидацией\n",
    "* Вывод\n",
    "\n"
   ]
  },
  {
   "cell_type": "markdown",
   "metadata": {},
   "source": [
    "# 1. Подготовка данных <a id='step1'></a>"
   ]
  },
  {
   "cell_type": "markdown",
   "metadata": {},
   "source": [
    "Импортируем необходимы для проекта библиотеки\n",
    "\n",
    "Установим последнюю версию scikit learn"
   ]
  },
  {
   "cell_type": "code",
   "execution_count": 1,
   "metadata": {},
   "outputs": [
    {
     "name": "stdout",
     "output_type": "stream",
     "text": [
      "Requirement already up-to-date: scikit-learn in /home/jovyan/.local/lib/python3.7/site-packages (0.23.2)\n",
      "Requirement already satisfied, skipping upgrade: threadpoolctl>=2.0.0 in /home/jovyan/.local/lib/python3.7/site-packages (from scikit-learn) (2.1.0)\n",
      "Requirement already satisfied, skipping upgrade: numpy>=1.13.3 in /opt/conda/lib/python3.7/site-packages (from scikit-learn) (1.19.0)\n",
      "Requirement already satisfied, skipping upgrade: joblib>=0.11 in /opt/conda/lib/python3.7/site-packages (from scikit-learn) (0.16.0)\n",
      "Requirement already satisfied, skipping upgrade: scipy>=0.19.1 in /opt/conda/lib/python3.7/site-packages (from scikit-learn) (1.4.1)\n",
      "Note: you may need to restart the kernel to use updated packages.\n"
     ]
    }
   ],
   "source": [
    "pip install -U scikit-learn --user"
   ]
  },
  {
   "cell_type": "code",
   "execution_count": 2,
   "metadata": {},
   "outputs": [],
   "source": [
    "import numpy as np\n",
    "import pandas as pd\n",
    "from sklearn.metrics import mean_absolute_error\n",
    "from sklearn.impute import KNNImputer\n",
    "import matplotlib.pyplot as plt\n",
    "import seaborn as sns\n",
    "from sklearn.model_selection import cross_val_score\n",
    "from sklearn.model_selection import cross_val_predict\n",
    "from sklearn.metrics import r2_score\n",
    "from sklearn.linear_model import LinearRegression\n",
    "from sklearn import tree\n",
    "from sklearn.ensemble import RandomForestRegressor\n",
    "from sklearn.ensemble import GradientBoostingRegressor\n",
    "from sklearn.dummy import DummyRegressor"
   ]
  },
  {
   "cell_type": "markdown",
   "metadata": {},
   "source": [
    "Загружаем необходимые датасеты"
   ]
  },
  {
   "cell_type": "code",
   "execution_count": 3,
   "metadata": {},
   "outputs": [],
   "source": [
    "full = pd.read_csv('/datasets/gold_recovery_full.csv')\n",
    "test = pd.read_csv('/datasets/gold_recovery_test.csv')\n",
    "train = pd.read_csv('/datasets/gold_recovery_train.csv')"
   ]
  },
  {
   "cell_type": "markdown",
   "metadata": {},
   "source": [
    "Проверка эффективности обогащения"
   ]
  },
  {
   "cell_type": "code",
   "execution_count": 4,
   "metadata": {},
   "outputs": [],
   "source": [
    "def effectivity(col):\n",
    "    C = col['rougher.output.concentrate_au']\n",
    "    F=col['rougher.input.feed_au']\n",
    "    T=col['rougher.output.tail_au']\n",
    "    try:\n",
    "        recovery = (C*(F-T))/(F*(C-T))*100\n",
    "        return recovery\n",
    "    except:\n",
    "        return np.nan"
   ]
  },
  {
   "cell_type": "markdown",
   "metadata": {},
   "source": [
    "Удаляем пропуски"
   ]
  },
  {
   "cell_type": "code",
   "execution_count": 5,
   "metadata": {},
   "outputs": [],
   "source": [
    "train_clean = train.dropna()"
   ]
  },
  {
   "cell_type": "code",
   "execution_count": 6,
   "metadata": {},
   "outputs": [
    {
     "data": {
      "text/plain": [
       "count    11017.000000\n",
       "mean        82.741888\n",
       "std         13.590523\n",
       "min         -0.000000\n",
       "25%         79.997468\n",
       "50%         84.847754\n",
       "75%         89.635149\n",
       "max        100.000000\n",
       "dtype: float64"
      ]
     },
     "execution_count": 6,
     "metadata": {},
     "output_type": "execute_result"
    }
   ],
   "source": [
    "effectivity(train_clean).describe()"
   ]
  },
  {
   "cell_type": "code",
   "execution_count": 7,
   "metadata": {},
   "outputs": [
    {
     "data": {
      "text/plain": [
       "count    11017.000000\n",
       "mean        82.741888\n",
       "std         13.590523\n",
       "min          0.000000\n",
       "25%         79.997468\n",
       "50%         84.847754\n",
       "75%         89.635149\n",
       "max        100.000000\n",
       "Name: rougher.output.recovery, dtype: float64"
      ]
     },
     "execution_count": 7,
     "metadata": {},
     "output_type": "execute_result"
    }
   ],
   "source": [
    "train_clean['rougher.output.recovery'].describe()"
   ]
  },
  {
   "cell_type": "markdown",
   "metadata": {},
   "source": [
    "Расчитаем отклонение ошибки между расчетным и имеющимся значениями эффективности обогащения"
   ]
  },
  {
   "cell_type": "code",
   "execution_count": 8,
   "metadata": {},
   "outputs": [
    {
     "name": "stdout",
     "output_type": "stream",
     "text": [
      "MAE = 9.555596961987514e-15\n"
     ]
    }
   ],
   "source": [
    "print('MAE =', mean_absolute_error(effectivity(train_clean), train_clean['rougher.output.recovery']))"
   ]
  },
  {
   "cell_type": "markdown",
   "metadata": {},
   "source": [
    "Отклонение ошибки минимальное имеющимся данным эффективности обогащения можно доверять."
   ]
  },
  {
   "cell_type": "markdown",
   "metadata": {},
   "source": [
    "Анализ признаков, недоступных в тестовой выборке"
   ]
  },
  {
   "cell_type": "code",
   "execution_count": 9,
   "metadata": {},
   "outputs": [
    {
     "data": {
      "text/plain": [
       "{'final.output.concentrate_ag',\n",
       " 'final.output.concentrate_au',\n",
       " 'final.output.concentrate_pb',\n",
       " 'final.output.concentrate_sol',\n",
       " 'final.output.recovery',\n",
       " 'final.output.tail_ag',\n",
       " 'final.output.tail_au',\n",
       " 'final.output.tail_pb',\n",
       " 'final.output.tail_sol',\n",
       " 'primary_cleaner.output.concentrate_ag',\n",
       " 'primary_cleaner.output.concentrate_au',\n",
       " 'primary_cleaner.output.concentrate_pb',\n",
       " 'primary_cleaner.output.concentrate_sol',\n",
       " 'primary_cleaner.output.tail_ag',\n",
       " 'primary_cleaner.output.tail_au',\n",
       " 'primary_cleaner.output.tail_pb',\n",
       " 'primary_cleaner.output.tail_sol',\n",
       " 'rougher.calculation.au_pb_ratio',\n",
       " 'rougher.calculation.floatbank10_sulfate_to_au_feed',\n",
       " 'rougher.calculation.floatbank11_sulfate_to_au_feed',\n",
       " 'rougher.calculation.sulfate_to_au_concentrate',\n",
       " 'rougher.output.concentrate_ag',\n",
       " 'rougher.output.concentrate_au',\n",
       " 'rougher.output.concentrate_pb',\n",
       " 'rougher.output.concentrate_sol',\n",
       " 'rougher.output.recovery',\n",
       " 'rougher.output.tail_ag',\n",
       " 'rougher.output.tail_au',\n",
       " 'rougher.output.tail_pb',\n",
       " 'rougher.output.tail_sol',\n",
       " 'secondary_cleaner.output.tail_ag',\n",
       " 'secondary_cleaner.output.tail_au',\n",
       " 'secondary_cleaner.output.tail_pb',\n",
       " 'secondary_cleaner.output.tail_sol'}"
      ]
     },
     "execution_count": 9,
     "metadata": {},
     "output_type": "execute_result"
    }
   ],
   "source": [
    "set(train.columns)-set(test.columns)"
   ]
  },
  {
   "cell_type": "markdown",
   "metadata": {},
   "source": [
    "Эти данные относятся уже к еще не определенным параметрам относящимся к технологическим процессам и немогут находиться в тестовой выборке. В тестовой выборке могут находиться только те параметры которые определены на старте и не изменяються во время технологическиго процесса.\n",
    "\n",
    "Признаки с итоговыми данными или выходными характеристиками продуктов на каждом технологическом процессе."
   ]
  },
  {
   "cell_type": "markdown",
   "metadata": {},
   "source": [
    "Проведем предобработку данных"
   ]
  },
  {
   "cell_type": "markdown",
   "metadata": {},
   "source": [
    "Осуществим генерацию функции заполнения пропусков"
   ]
  },
  {
   "cell_type": "markdown",
   "metadata": {},
   "source": [
    "Используем при заполении пропусков KNNImputer"
   ]
  },
  {
   "cell_type": "code",
   "execution_count": 10,
   "metadata": {},
   "outputs": [],
   "source": [
    "imputer = KNNImputer()"
   ]
  },
  {
   "cell_type": "code",
   "execution_count": 11,
   "metadata": {},
   "outputs": [],
   "source": [
    "full.loc[:, full.columns != 'date'] = imputer.fit_transform(full.loc[:, full.columns != 'date'])"
   ]
  },
  {
   "cell_type": "code",
   "execution_count": 12,
   "metadata": {},
   "outputs": [],
   "source": [
    "train.loc[:, train.columns != 'date'] = imputer.fit_transform(train.loc[:, train.columns != 'date'])"
   ]
  },
  {
   "cell_type": "code",
   "execution_count": 13,
   "metadata": {},
   "outputs": [],
   "source": [
    "test.loc[:, test.columns != 'date'] = imputer.fit_transform(test.loc[:, test.columns != 'date'])"
   ]
  },
  {
   "cell_type": "markdown",
   "metadata": {},
   "source": [
    "# 2. Анализ данных <a id='step2'></a>"
   ]
  },
  {
   "cell_type": "markdown",
   "metadata": {},
   "source": [
    "Посмотрим, как меняется концентрация металлов (Au, Ag, Pb) на различных этапах очистки."
   ]
  },
  {
   "cell_type": "markdown",
   "metadata": {},
   "source": [
    "Сформируем словарь элементов"
   ]
  },
  {
   "cell_type": "code",
   "execution_count": 14,
   "metadata": {},
   "outputs": [],
   "source": [
    "elements = {'au': 'au',\n",
    "          'ag': 'ag',\n",
    "           'pb': 'pb'}"
   ]
  },
  {
   "cell_type": "markdown",
   "metadata": {},
   "source": [
    "Подготовим цикл для формирования диаграмм размаха концентраций элементов Au, Ag, Pb на различных этапах очистки"
   ]
  },
  {
   "cell_type": "code",
   "execution_count": 15,
   "metadata": {},
   "outputs": [
    {
     "data": {
      "image/png": "[encoded data removed]",
      "text/plain": [
       "<Figure size 1152x432 with 1 Axes>"
      ]
     },
     "metadata": {
      "needs_background": "light"
     },
     "output_type": "display_data"
    },
    {
     "data": {
      "image/png": "[encoded data removed]",
      "text/plain": [
       "<Figure size 1152x432 with 1 Axes>"
      ]
     },
     "metadata": {
      "needs_background": "light"
     },
     "output_type": "display_data"
    },
    {
     "data": {
      "image/png": "[encoded data removed]",
      "text/plain": [
       "<Figure size 1152x432 with 1 Axes>"
      ]
     },
     "metadata": {
      "needs_background": "light"
     },
     "output_type": "display_data"
    }
   ],
   "source": [
    "for key in elements.keys(): \n",
    "    plt.figure(figsize=(16,6))\n",
    "    plt.title('Диаграмма размаха концентрации {} на разных технолгических этапах.'.format(elements[key]))\n",
    "    sns.boxplot(data=full[['rougher.input.feed_' + elements[key],\n",
    "                           'rougher.output.concentrate_' + elements[key], \n",
    "                           'primary_cleaner.output.concentrate_'+ elements[key], \n",
    "                           'final.output.concentrate_' + elements[key],]])\n",
    "    plt.xticks([0,1,2,3], ['Исходное сырье', 'Флорация', 'Первичная очистка', 'Финальный концентрат'])\n",
    "plt.show()"
   ]
  },
  {
   "cell_type": "markdown",
   "metadata": {},
   "source": [
    "Концентрация золота растет, серебра падает, а концентрация свинца незначительно возрасла на флорации и стабильна на первичной очистке и финале."
   ]
  },
  {
   "cell_type": "markdown",
   "metadata": {},
   "source": [
    "Сравним распределения размеров гранул сырья на обучающей и тестовой выборках."
   ]
  },
  {
   "cell_type": "markdown",
   "metadata": {},
   "source": [
    "График распределения размеров гранул перед флорацией"
   ]
  },
  {
   "cell_type": "code",
   "execution_count": 16,
   "metadata": {},
   "outputs": [
    {
     "data": {
      "text/plain": [
       "Text(0.5, 1.0, 'График распределения размеров гранул перед флорацией')"
      ]
     },
     "execution_count": 16,
     "metadata": {},
     "output_type": "execute_result"
    },
    {
     "data": {
      "image/png": "[encoded data removed]",
      "text/plain": [
       "<Figure size 432x288 with 1 Axes>"
      ]
     },
     "metadata": {
      "needs_background": "light"
     },
     "output_type": "display_data"
    }
   ],
   "source": [
    "sns.distplot(train['rougher.input.feed_size']) \n",
    "sns.distplot(test['rougher.input.feed_size'])\n",
    "plt.title(\"График распределения размеров гранул перед флорацией\")"
   ]
  },
  {
   "cell_type": "markdown",
   "metadata": {},
   "source": [
    "График распределения размеров гранул в финальном концентрате"
   ]
  },
  {
   "cell_type": "code",
   "execution_count": 17,
   "metadata": {},
   "outputs": [
    {
     "data": {
      "text/plain": [
       "Text(0.5, 1.0, 'График распределения размеров гранул в финальном концентрате')"
      ]
     },
     "execution_count": 17,
     "metadata": {},
     "output_type": "execute_result"
    },
    {
     "data": {
      "image/png": "[encoded data removed]",
      "text/plain": [
       "<Figure size 432x288 with 1 Axes>"
      ]
     },
     "metadata": {
      "needs_background": "light"
     },
     "output_type": "display_data"
    }
   ],
   "source": [
    "sns.distplot(train['primary_cleaner.input.feed_size'])\n",
    "sns.distplot(test['primary_cleaner.input.feed_size'])\n",
    "plt.title(\"График распределения размеров гранул в финальном концентрате\")"
   ]
  },
  {
   "cell_type": "markdown",
   "metadata": {},
   "source": [
    "Распределения размеров гранул сырья перед флорацией и в финальном концентрате в тестовой и тренировочной выборках практически не отличаются. Оценка моделей будет адекватной."
   ]
  },
  {
   "cell_type": "markdown",
   "metadata": {},
   "source": [
    "Исследуем суммарную концентрацию всех веществ на разных стадиях"
   ]
  },
  {
   "cell_type": "markdown",
   "metadata": {},
   "source": [
    "Функция фильтрации аномалий"
   ]
  },
  {
   "cell_type": "code",
   "execution_count": 18,
   "metadata": {},
   "outputs": [],
   "source": [
    "def filter_outliers(df, column_name, remove_outliers=False):\n",
    "    df_column = df[column_name]\n",
    "    quartile_1 = df_column.describe()['25%']\n",
    "    quartile_3 = df_column.describe()['75%']\n",
    "    interquartile_range = quartile_3 - quartile_1\n",
    "    upper_whisker = quartile_1 + 1.5 * interquartile_range\n",
    "    lower_whisker = max(quartile_1 - 1.5 * interquartile_range, df_column.min())\n",
    "    outliers = df[(df_column < lower_whisker) | (df_column > upper_whisker) |\n",
    "                 (df_column.isnull())]\n",
    "    if remove_outliers:\n",
    "        df.drop(outliers.index, inplace=True)"
   ]
  },
  {
   "cell_type": "markdown",
   "metadata": {},
   "source": [
    "Тренировочкая выборка. Поиск аномалий и фильтрация."
   ]
  },
  {
   "cell_type": "code",
   "execution_count": 19,
   "metadata": {},
   "outputs": [],
   "source": [
    "train['rougher.input.feed_sum'] = train['rougher.input.feed_ag'] + train['rougher.input.feed_pb'] + train['rougher.input.feed_sol'] + train['rougher.input.feed_au']"
   ]
  },
  {
   "cell_type": "code",
   "execution_count": 20,
   "metadata": {},
   "outputs": [],
   "source": [
    "train['final.output.concentrate_sum'] = train['final.output.concentrate_ag'] + train['final.output.concentrate_pb'] + train['final.output.concentrate_sol'] + train['final.output.concentrate_au']\n",
    "train['rougher.output.concentrate_sum'] = train['rougher.output.concentrate_ag'] + train['rougher.output.concentrate_pb'] + train['rougher.output.concentrate_sol'] + train['rougher.output.concentrate_au']"
   ]
  },
  {
   "cell_type": "markdown",
   "metadata": {},
   "source": [
    "Диаграмм размаха суммарной концентрации на разных тех процессах на тренировочной выборке"
   ]
  },
  {
   "cell_type": "code",
   "execution_count": 21,
   "metadata": {},
   "outputs": [
    {
     "data": {
      "image/png": "[encoded data removed]",
      "text/plain": [
       "<Figure size 1152x432 with 1 Axes>"
      ]
     },
     "metadata": {
      "needs_background": "light"
     },
     "output_type": "display_data"
    }
   ],
   "source": [
    "plt.figure(figsize=(16,6)) \n",
    "plt.title('Диаграмма размаха сумарной концентрации на разных технолгических этапах.')\n",
    "sns.boxplot(data=train[['rougher.input.feed_sum','rougher.output.concentrate_sum', 'final.output.concentrate_sum']])\n",
    "plt.xticks([0,1,2], ['Сырьё','Черновая','Финальный концентрат'])\n",
    "plt.show()"
   ]
  },
  {
   "cell_type": "markdown",
   "metadata": {},
   "source": [
    "Фильтрация выбросов"
   ]
  },
  {
   "cell_type": "code",
   "execution_count": 22,
   "metadata": {},
   "outputs": [],
   "source": [
    "columns = ['rougher.input.feed_sum','rougher.output.concentrate_sum','final.output.concentrate_sum']\n",
    "for column_name in columns:\n",
    "    filter_outliers(train, column_name, remove_outliers=True)"
   ]
  },
  {
   "cell_type": "code",
   "execution_count": 23,
   "metadata": {},
   "outputs": [],
   "source": [
    "num_rows_before = train.shape[0]"
   ]
  },
  {
   "cell_type": "markdown",
   "metadata": {},
   "source": [
    "Формирование диаграмм размаха суммарных концентрация по тех процессам"
   ]
  },
  {
   "cell_type": "code",
   "execution_count": 24,
   "metadata": {},
   "outputs": [
    {
     "data": {
      "image/png": "[encoded data removed]",
      "text/plain": [
       "<Figure size 1152x432 with 1 Axes>"
      ]
     },
     "metadata": {
      "needs_background": "light"
     },
     "output_type": "display_data"
    }
   ],
   "source": [
    "plt.figure(figsize=(16,6))\n",
    "plt.title('Диаграмма размаха сумарной концентрации на разных технолгических этапах.')\n",
    "sns.boxplot(data=train[['rougher.input.feed_sum','rougher.output.concentrate_sum', 'final.output.concentrate_sum']])\n",
    "plt.xticks([0,1,2], ['Сырьё','Черновая','Финальный концентрат'])\n",
    "plt.show()"
   ]
  },
  {
   "cell_type": "markdown",
   "metadata": {},
   "source": [
    "Сбросим значений для сохранения целосности данных тренировочной выборки"
   ]
  },
  {
   "cell_type": "code",
   "execution_count": 25,
   "metadata": {},
   "outputs": [],
   "source": [
    "train = train.drop(['rougher.input.feed_sum','final.output.concentrate_sum','rougher.output.concentrate_sum'], axis=1)"
   ]
  },
  {
   "cell_type": "markdown",
   "metadata": {},
   "source": [
    "Тестовая выборка. Поиск аномалий и фильтрация."
   ]
  },
  {
   "cell_type": "code",
   "execution_count": 26,
   "metadata": {},
   "outputs": [],
   "source": [
    "test['rougher.input.feed_sum'] = test['rougher.input.feed_ag'] + test['rougher.input.feed_pb'] + test['rougher.input.feed_sol'] + test['rougher.input.feed_au']"
   ]
  },
  {
   "cell_type": "markdown",
   "metadata": {},
   "source": [
    "Диаграммы размаха и поиск выбросов"
   ]
  },
  {
   "cell_type": "code",
   "execution_count": 27,
   "metadata": {},
   "outputs": [
    {
     "data": {
      "image/png": "[encoded data removed]",
      "text/plain": [
       "<Figure size 216x432 with 1 Axes>"
      ]
     },
     "metadata": {
      "needs_background": "light"
     },
     "output_type": "display_data"
    }
   ],
   "source": [
    "plt.figure(figsize=(3,6))\n",
    "plt.title('Диаграмма размаха сумарной концентрации на разных технолгических этапах.')\n",
    "sns.boxplot(data=test[['rougher.input.feed_sum']])\n",
    "plt.xticks([0], ['Сырьё'])\n",
    "plt.show()"
   ]
  },
  {
   "cell_type": "markdown",
   "metadata": {},
   "source": [
    "Отфильтруем выбросы и аномалий"
   ]
  },
  {
   "cell_type": "code",
   "execution_count": 28,
   "metadata": {},
   "outputs": [],
   "source": [
    "filter_outliers(test, 'rougher.input.feed_sum', remove_outliers=True)"
   ]
  },
  {
   "cell_type": "code",
   "execution_count": 29,
   "metadata": {},
   "outputs": [],
   "source": [
    "num_rows_before = test.shape[0]"
   ]
  },
  {
   "cell_type": "markdown",
   "metadata": {},
   "source": [
    "Проверим результат фильтрации"
   ]
  },
  {
   "cell_type": "code",
   "execution_count": 30,
   "metadata": {},
   "outputs": [
    {
     "data": {
      "image/png": "[encoded data removed]",
      "text/plain": [
       "<Figure size 216x360 with 1 Axes>"
      ]
     },
     "metadata": {
      "needs_background": "light"
     },
     "output_type": "display_data"
    }
   ],
   "source": [
    "plt.figure(figsize=(3,5))\n",
    "plt.title('Диаграмма размаха сумарной концентрации на разных технолгических этапах.')\n",
    "sns.boxplot(data=test[['rougher.input.feed_sum']])\n",
    "plt.xticks([0], ['Сырьё'])\n",
    "plt.show()"
   ]
  },
  {
   "cell_type": "code",
   "execution_count": 31,
   "metadata": {},
   "outputs": [],
   "source": [
    "test = test.drop(['rougher.input.feed_sum'], axis=1)"
   ]
  },
  {
   "cell_type": "markdown",
   "metadata": {},
   "source": [
    "Сбросим значений для сохранения целосности данных трестовой выборки"
   ]
  },
  {
   "cell_type": "markdown",
   "metadata": {},
   "source": [
    "# 3. Модель <a id='step3'></a>"
   ]
  },
  {
   "cell_type": "markdown",
   "metadata": {},
   "source": [
    "Напишим функцию для вычисления итоговой sMAPE."
   ]
  },
  {
   "cell_type": "code",
   "execution_count": 32,
   "metadata": {},
   "outputs": [],
   "source": [
    "def smape_end(target_rougher, predict_rougher, target_final, predict_final):\n",
    "    smape_rougher = 100/len(target_rougher) * np.sum(2 * np.abs(predict_rougher - target_rougher) / \n",
    "                                                     (np.abs(target_rougher) + np.abs(predict_rougher)))\n",
    "    smape_final = 100/len(target_final) * np.sum(2 * np.abs(predict_final - target_final) / \n",
    "                                                 (np.abs(target_final) + np.abs(predict_final)))\n",
    "    return 0.25*(smape_rougher) + 0.75*(smape_final)"
   ]
  },
  {
   "cell_type": "markdown",
   "metadata": {},
   "source": [
    "Обучим разные модели и оценим их качество кросс-валидацией."
   ]
  },
  {
   "cell_type": "code",
   "execution_count": 33,
   "metadata": {},
   "outputs": [],
   "source": [
    "train.set_index('date', inplace=True)"
   ]
  },
  {
   "cell_type": "code",
   "execution_count": 34,
   "metadata": {},
   "outputs": [],
   "source": [
    "full.set_index('date', inplace=True)\n",
    "test.set_index('date', inplace=True)"
   ]
  },
  {
   "cell_type": "code",
   "execution_count": 35,
   "metadata": {},
   "outputs": [],
   "source": [
    "test['rougher.output.recovery'] = full['rougher.output.recovery']\n",
    "test['final.output.recovery'] = full['final.output.recovery']"
   ]
  },
  {
   "cell_type": "code",
   "execution_count": 36,
   "metadata": {},
   "outputs": [],
   "source": [
    "features_train_1 = train.drop(set(train.columns)-set(test.columns), axis=1).filter(regex='^rougher',axis=1)"
   ]
  },
  {
   "cell_type": "code",
   "execution_count": 37,
   "metadata": {},
   "outputs": [],
   "source": [
    "features_train_1 = features_train_1.drop(['rougher.output.recovery'], axis=1)"
   ]
  },
  {
   "cell_type": "code",
   "execution_count": 38,
   "metadata": {},
   "outputs": [],
   "source": [
    "target_train_1 = train['rougher.output.recovery']"
   ]
  },
  {
   "cell_type": "code",
   "execution_count": 39,
   "metadata": {},
   "outputs": [],
   "source": [
    "features_train_2 = train.drop(set(train.columns)-set(test.columns), axis=1)\n",
    "features_train_2 = features_train_2.drop(['rougher.output.recovery', 'final.output.recovery'], axis=1)"
   ]
  },
  {
   "cell_type": "code",
   "execution_count": 40,
   "metadata": {},
   "outputs": [],
   "source": [
    "target_train_2 = train['final.output.recovery']"
   ]
  },
  {
   "cell_type": "code",
   "execution_count": 41,
   "metadata": {},
   "outputs": [],
   "source": [
    "features_test_1 = test.filter(regex='^rougher',axis=1).drop(['rougher.output.recovery'], axis=1)"
   ]
  },
  {
   "cell_type": "code",
   "execution_count": 42,
   "metadata": {},
   "outputs": [],
   "source": [
    "target_test_1 = test['rougher.output.recovery']"
   ]
  },
  {
   "cell_type": "code",
   "execution_count": 43,
   "metadata": {},
   "outputs": [],
   "source": [
    "features_test_2 = test.drop(['rougher.output.recovery', 'final.output.recovery'], axis=1)"
   ]
  },
  {
   "cell_type": "code",
   "execution_count": 44,
   "metadata": {},
   "outputs": [],
   "source": [
    "target_test_2 = test['final.output.recovery']"
   ]
  },
  {
   "cell_type": "markdown",
   "metadata": {},
   "source": [
    "Модель решающего дерева."
   ]
  },
  {
   "cell_type": "code",
   "execution_count": 45,
   "metadata": {},
   "outputs": [
    {
     "name": "stdout",
     "output_type": "stream",
     "text": [
      "depth 1\n",
      "Итоговое sMAPE: 9.066045285443309\n",
      "depth 2\n",
      "Итоговое sMAPE: 8.695346042399134\n",
      "depth 3\n",
      "Итоговое sMAPE: 8.625707450157218\n",
      "depth 4\n",
      "Итоговое sMAPE: 9.17811193028897\n",
      "\n"
     ]
    }
   ],
   "source": [
    "for depth in range(1, 5):\n",
    "    model = tree.DecisionTreeRegressor(random_state=12345, max_depth = depth)\n",
    "    y_pred_1 = cross_val_predict(model, features_train_1, target_train_1, cv=5)\n",
    "    y_pred_2 = cross_val_predict(model, features_train_2, target_train_2, cv=5)\n",
    "    print('depth',depth)\n",
    "    print('Итоговое sMAPE:',smape_end(target_train_1, y_pred_1, target_train_2, y_pred_2))\n",
    "print()"
   ]
  },
  {
   "cell_type": "markdown",
   "metadata": {},
   "source": [
    "Модель случайного леса."
   ]
  },
  {
   "cell_type": "code",
   "execution_count": null,
   "metadata": {},
   "outputs": [
    {
     "name": "stdout",
     "output_type": "stream",
     "text": [
      "depth 5\n",
      "num 27\n",
      "Итоговое sMAPE: 8.407514815007476\n"
     ]
    }
   ],
   "source": [
    "for depth in range(5, 8):\n",
    "    print('depth',depth)\n",
    "    for num in range(27, 30):\n",
    "        model_1 = RandomForestRegressor(random_state=12345, max_depth=depth, n_estimators = num)\n",
    "        y_pred_1 = cross_val_predict(model_1, features_train_1, target_train_1, cv=5)\n",
    "        y_pred_2 = cross_val_predict(model_1, features_train_2, target_train_2, cv=5)\n",
    "        print('num',num)\n",
    "        print('Итоговое sMAPE:',smape_end(target_train_1, y_pred_1, target_train_2, y_pred_2))\n",
    "    print()\n",
    "    \n",
    "print()"
   ]
  },
  {
   "cell_type": "markdown",
   "metadata": {},
   "source": [
    "Модель линейной регрессии."
   ]
  },
  {
   "cell_type": "code",
   "execution_count": null,
   "metadata": {},
   "outputs": [],
   "source": [
    "model_2 = LinearRegression()\n",
    "y_pred_1 = cross_val_predict(model_2, features_train_1, target_train_1, cv=5)\n",
    "y_pred_2 = cross_val_predict(model_2, features_train_2, target_train_2, cv=5)\n",
    "print('Итоговое sMAPE:',smape_end(target_train_1, y_pred_1, target_train_2, y_pred_2))"
   ]
  },
  {
   "cell_type": "markdown",
   "metadata": {},
   "source": [
    "Модель градиентного бустинга."
   ]
  },
  {
   "cell_type": "code",
   "execution_count": null,
   "metadata": {},
   "outputs": [],
   "source": [
    "model_3 = GradientBoostingRegressor(max_depth=1, random_state=12345, loss='ls')\n",
    "y_pred_1 = cross_val_predict(model_3, features_train_1, target_train_1, cv=5)\n",
    "y_pred_2 = cross_val_predict(model_3, features_train_2, target_train_2, cv=5)\n",
    "print('Итоговое sMAPE:',smape_end(target_train_1, y_pred_1, target_train_2, y_pred_2))"
   ]
  },
  {
   "cell_type": "markdown",
   "metadata": {},
   "source": [
    "Проверка на тестовой выборе."
   ]
  },
  {
   "cell_type": "code",
   "execution_count": null,
   "metadata": {},
   "outputs": [],
   "source": [
    "model_test_1 = GradientBoostingRegressor(max_depth=1, random_state=12345, loss='ls')\n",
    "model_test_2 = GradientBoostingRegressor(max_depth=1, random_state=12345, loss='ls')\n",
    "model_test_1.fit(features_train_1, target_train_1)\n",
    "model_test_2.fit(features_train_2, target_train_2)\n",
    "y_pred_1 = pd.Series(model_test_1.predict(features_test_1))\n",
    "y_pred_2 = pd.Series(model_test_2.predict(features_test_2))"
   ]
  },
  {
   "cell_type": "code",
   "execution_count": null,
   "metadata": {},
   "outputs": [],
   "source": [
    "target_test_1 = target_test_1.reset_index(drop=True)\n",
    "target_test_2 = target_test_2.reset_index(drop=True)"
   ]
  },
  {
   "cell_type": "code",
   "execution_count": null,
   "metadata": {},
   "outputs": [],
   "source": [
    "smape_end(target_test_1, y_pred_1, target_test_2, y_pred_2)"
   ]
  },
  {
   "cell_type": "markdown",
   "metadata": {},
   "source": [
    "Приверка модели на адекватность"
   ]
  },
  {
   "cell_type": "code",
   "execution_count": null,
   "metadata": {},
   "outputs": [],
   "source": [
    "dummy_regr_1 = DummyRegressor(strategy=\"mean\")\n",
    "dummy_regr_2 = DummyRegressor(strategy=\"mean\")\n",
    "dummy_regr_1.fit(features_train_1, target_train_1)\n",
    "dummy_regr_2.fit(features_train_2, target_train_2)\n",
    "y_pred_1 = dummy_regr_1.predict(features_test_1)\n",
    "y_pred_2 = dummy_regr_2.predict(features_test_2)"
   ]
  },
  {
   "cell_type": "code",
   "execution_count": null,
   "metadata": {},
   "outputs": [],
   "source": [
    "smape_end(target_test_1, y_pred_1, target_test_2, y_pred_2)"
   ]
  },
  {
   "cell_type": "markdown",
   "metadata": {},
   "source": [
    "Метрика по средниму больше модель адекватная. И эфективнее средних значений.\n",
    "\n",
    "Итоговый sMAPE 8.85% на тестовой выборке и 8.00% на тренировочной выборке. При поиске параметров и выборе моделей. Найдна с минимальным значением sMAPE.\n",
    "Выбранная модель GradientBoostingRegressor(max_depth=1)"
   ]
  },
  {
   "cell_type": "markdown",
   "metadata": {},
   "source": [
    "**Вывод** "
   ]
  },
  {
   "cell_type": "markdown",
   "metadata": {},
   "source": [
    "Произведены следующие этапы работ:\n",
    "\n",
    "1) Подготовка данных:\n",
    "\n",
    "- Удалены незаполняемые пропуски в данных, оставшиеся заменены.\n",
    "- Созданы отдельные таблицы для тренеровки и теста, согласно их индексу, на основании очищенных данных основной таблицы.\n",
    "- Согласно проверке (вычесление MAE), целевые признаки, полученные на практике, практически не отличаются от вычисленных.\n",
    "\n",
    "2) Анализ данных:\n",
    "\n",
    "- Проанализированы концентрации металлов на разных этапах очистки:\n",
    "    * Увеличение концентрации золота и свинца с каждым последующим этапом очистки.\n",
    "    * Уменьшение концентрации серебра с каждым последующим этапом очистки.\n",
    "- Проанализированы распределения размеров гранул сырья на обучающей и тестовой выборках, сильных различий не выявлено.\n",
    "- Проанализированы суммарные концентрации веществ на разных этапах очистки. Удалены пики близ нуля с верхней границей суммарной концентрации - 1.\n",
    "\n",
    "3) Построены модели:\n",
    "\n",
    "Итоговый sMAPE 8.85% на тестовой выборке и 8.00% на тренировочной выборке. При поиске параметров и выборе моделей. Найдна с минимальным значением sMAPE. Выбранная модель GradientBoostingRegressor(max_depth=1)"
   ]
  }
 ],
 "metadata": {
  "kernelspec": {
   "display_name": "Python 3",
   "language": "python",
   "name": "python3"
  },
  "language_info": {
   "codemirror_mode": {
    "name": "ipython",
    "version": 3
   },
   "file_extension": ".py",
   "mimetype": "text/x-python",
   "name": "python",
   "nbconvert_exporter": "python",
   "pygments_lexer": "ipython3",
   "version": "3.8.5"
  },
  "toc": {
   "base_numbering": 1,
   "nav_menu": {},
   "number_sections": true,
   "sideBar": true,
   "skip_h1_title": true,
   "title_cell": "Table of Contents",
   "title_sidebar": "Contents",
   "toc_cell": false,
   "toc_position": {},
   "toc_section_display": true,
   "toc_window_display": false
  }
 },
 "nbformat": 4,
 "nbformat_minor": 2
}
