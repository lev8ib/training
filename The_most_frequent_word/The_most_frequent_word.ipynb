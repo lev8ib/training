{
 "cells": [
  {
   "cell_type": "markdown",
   "metadata": {},
   "source": [
    "#### Алгоритм, который считывает текст из файла (в файле может быть больше одной строки) и выводит самое частое слово в этом тексте и через пробел то, сколько раз оно встретилось. Если таких слов несколько, вывести лексикографически первое. Слова, написанные в разных регистрах, считаются одинаковыми."
   ]
  },
  {
   "cell_type": "code",
   "execution_count": 2,
   "metadata": {},
   "outputs": [
    {
     "name": "stdout",
     "output_type": "stream",
     "text": [
      "Requirement already satisfied: wikipedia in c:\\users\\impud\\anaconda3\\lib\\site-packages (1.4.0)\n",
      "Requirement already satisfied: requests<3.0.0,>=2.0.0 in c:\\users\\impud\\anaconda3\\lib\\site-packages (from wikipedia) (2.24.0)\n",
      "Requirement already satisfied: beautifulsoup4 in c:\\users\\impud\\anaconda3\\lib\\site-packages (from wikipedia) (4.9.3)\n",
      "Requirement already satisfied: idna<3,>=2.5 in c:\\users\\impud\\anaconda3\\lib\\site-packages (from requests<3.0.0,>=2.0.0->wikipedia) (2.10)\n",
      "Requirement already satisfied: chardet<4,>=3.0.2 in c:\\users\\impud\\anaconda3\\lib\\site-packages (from requests<3.0.0,>=2.0.0->wikipedia) (3.0.4)\n",
      "Requirement already satisfied: certifi>=2017.4.17 in c:\\users\\impud\\anaconda3\\lib\\site-packages (from requests<3.0.0,>=2.0.0->wikipedia) (2020.6.20)\n",
      "Requirement already satisfied: urllib3!=1.25.0,!=1.25.1,<1.26,>=1.21.1 in c:\\users\\impud\\anaconda3\\lib\\site-packages (from requests<3.0.0,>=2.0.0->wikipedia) (1.25.11)\n",
      "Requirement already satisfied: soupsieve>1.2; python_version >= \"3.0\" in c:\\users\\impud\\anaconda3\\lib\\site-packages (from beautifulsoup4->wikipedia) (2.0.1)\n",
      "Note: you may need to restart the kernel to use updated packages.\n"
     ]
    }
   ],
   "source": [
    "pip install wikipedia "
   ]
  },
  {
   "cell_type": "code",
   "execution_count": 3,
   "metadata": {},
   "outputs": [
    {
     "name": "stdout",
     "output_type": "stream",
     "text": [
      "Алроса — российская группа алмазодобывающих компаний, занимающая лидирующую позицию в мире по объёму добычи алмазов (по состоянию на 2017 год). Корпорация занимается разведкой месторождений, добычей, обработкой и продажей алмазного сырья. Основная деятельность сосредоточена в Якутии, а также в Архангельской области и Африке.\n",
      "«Алроса» добывает 95 % всех алмазов России, доля компании в мировом объёме добычи алмазов составляет 27 %. Компания располагает разведанными запасами, достаточными для поддержания текущего уровня добычи не менее 18-20 лет. Прогнозные запасы «Алроса» составляют около одной трети общемировых запасов алмазов.\n",
      "«Алроса» — крупнейшая публичная компания в алмазодобывающем секторе, ценные бумаги которой торгуются на Московской Бирже (тиккер ALRS).\n",
      "Полное официальное наименование — Акционерная компания «Алроса» (публичное акционерное общество), краткое АК «Алроса» (ПАО). Сочетание букв «алроса» использовано в наименовании компании с 1996 года и является акронимом от слов русского языка «Алмазы России — Саха».\n",
      "Штаб-квартиры — в Мирном (Якутия) и в Москве.\n",
      "\n",
      "\n",
      "== История ==\n",
      "\n",
      "Развитие алмазодобывающей отрасли в СССР началось в 1954 году, когда в Якутии была открыта кимберлитовая трубка «Зарница», первое коренное месторождение алмазов на территории Советского Союза. В 1955 году были обнаружены трубки «Мир» и «Удачная», всего в тот год было открыто 15 коренных месторождений алмазов. В 1957 году было принято решение начать горно-эксплуатационные работы на россыпных и рудных месторождениях Якутии, и в Мирном был основан трест «Якуталмаз». В том же году были добыты первые промышленные алмазы, а спустя два года СССР начал продажи алмазов на мировом рынке.\n",
      "Основное развитие отрасли шло на базе разработки кимберлитовой трубки «Мир» и прилегающих к ней россыпей. В этот период были созданы основные рудники, построены фабрики, введены в строй энергетические мощности. В 1960 году была обнаружена кимберлитовая трубка «Айхал», а в 1969 году — трубка «Интернациональная».\n",
      "В 1963 году СССР заключил первые контракты о продаже части алмазов международной алмазодобывающей корпорации «Де Бирс» (De Beers). В декабре 2008 года по решению Еврокомиссии в целях реализации европейского антимонопольного законодательства соглашение между «Алроса» и «Де Бирс» было прекращено. С 2009 года «Алроса» самостоятельно реализует свою продукцию на мировом рынке.\n",
      "В 1980-е годы активное развитие алмазодобывающей промышленности продолжилось на основе месторождений в поселке Айхал, где началась разработка трубки «Юбилейная», и в г. Удачный. Основной карьер комбината «Удачный» на сегодняшний день является одним из крупнейших открытых карьеров в мире.\n",
      "В соответствии с Указом Президента Российской Федерации «Об образовании акционерной компании „Алмазы России — Саха“» от 19 февраля 1992 года № 158С была создана единая акционерная компания «Алроса» на базе предприятий «Якуталмаза», переименованная в 1998 году в АК «Алроса» (ЗАО). В 2011 году АК «Алроса» была преобразована в открытое акционерное общество. Акции «Алроса» поступили в свободное обращение на фондовом рынке.\n",
      "28 октября 2013 года компания провела IPO, в ходе которого было продано 16 % акций компании (по 7 % акций предоставили Российская Федерация и правительство Якутии, ещё 2 % — квазиказначейские бумаги). Более 60 % от объёма размещения купили инвесторы из США, 24 % — из Европы (20 % из Великобритании), 14 % получили инвесторы из России. По 2 % приобрели инвестиционные фонды Oppenheimer Funds и Lazard. В ходе IPO Алроса привлекла 41,3 млрд рублей (около 1,3 млрд $).\n",
      "В 2013 году стартовала программа выхода компании из непрофильных активов. Так, в апреле 2013 года было продано ЗАО «Гостиница Алроса», а в марте 2014 года было объявлено о продаже страховой компании «Алроса».\n",
      "В июле 2016 года было объявлено о продаже ещё 10,9 % акций, принадлежащих Российской Федерации, доля государства сократится до 33 %. \n",
      "В 2017 году «Алроса» вошла в ТОП-3 первого рейтинга экологической ответственности горнодобывающих и металлургических компаний России, подготовленного по инициативе WWF и проекта ПРООН/ГЭФ/МИНПРИРОДЫ России. По оценкам его составителей, внедренные системы экологического менеджмента компании соответствуют лучшим мировым практикам.\n",
      "В июне 2017 года «Алроса» вошла в ТОП-5 рейтинга «Полярный индекс». «Полярный индекс» - это первый и единственный в России специализированный рейтинг компаний, деятельность которых затрагивает Арктическую зону России.\n",
      "По результатам опубликованного в 2017 году исследования PwC, «Алроса» является абсолютным лидером по объему инвестиций в социальные программы, ежегодно направляя на социальные расходы в среднем порядка 2,8% выручки (при среднем уровне других участников рейтинга порядка 0,5%).\n",
      "В январе 2018 года «Алроса» вошла в Топ-10 компаний с наибольшим индексом прозрачности в рамках исследования «Прозрачность корпоративной отчетности», подготовленного российским отделением некоммерческой автономной организации Transparency International.\n",
      "В августе 2018 года компания опробовала расчеты с зарубежными клиентами в рублях. В порядке эксперимента соответствующие сделки были проведены с клиентами из Китая и Индии.\n",
      "По итогам 2020 года «Алроса» впервые обошла De Beers по объёму выручки от продаж природных алмазов и бриллиантов.\n",
      "\n",
      "\n",
      "== Собственники и руководство ==\n",
      "Доля акций в свободном обращении составляет 34%, на долю Российской Федерации, приходится 33%. Рыночная капитализация Компании по итогам 2017 года составила 553 млрд руб. (9,6 млрд долл.).\n",
      "Генеральный директор компании с 6 марта 2017 года — Иванов Сергей Сергеевич. \n",
      "\n",
      "\n",
      "== Производство ==\n",
      "По состоянию на январь 2018 года запасы месторождений, стоящих на балансе группы «Алроса», по стандартам ГКЗ РФ категории С1+С2 на 1 января 2018 года составили 1 171 951,7 тыс. карат (с учетом разведываемых месторождений в соответствии со стандартами ГКЗ он составил 1,182 млрд карат). \n",
      "Фактический прирост запасов алмазов группы «Алроса» в 2017 году составил 57,8 млн карат (без учета погашения запасов), что составляет 115,6% от целевого показателя. Коэффициент восполнения запасов в 2017 году составил 145,9%. По сравнению с 2016 годом группа «Алроса» увеличила добычу алмазов в 2017 году на 6,0% и 12,1% в натуральном и стоимостном выражении соответственно.\n",
      "Основные производственные мощности «Алроса» в настоящее время сосредоточены преимущественно в Западной Якутии и Архангельской области. Всего «Алроса» разрабатывает 27 месторождений. В производственную базу входит 11 коренных и 16 россыпных месторождений. Коренные месторождения отрабатываются как открытым (карьерным), так и подземным способом.\n",
      "Группе «Алроса» принадлежит шесть горнодобывающих комплексов, четыре из которых входят в состав АК «АЛРОСА» (ПАО): Удачнинский ГОК, Айхальский ГОК, Нюрбинский ГОК и Мирнинский ГОК, а два других представляют собой дочерние предприятия: Севералмаз (ПАО) (Ломоносовский ГОК) и Алмазы Анабара (АО) (включая Нижне-Ленское (АО).\n",
      "\n",
      "\n",
      "=== Мирнинский горно-обогатительный комбинат ===\n",
      "Мирнинский горно-обогатительный комбинат (ГОК) основан в 1957 году и является старейшим предприятием «Алроса». Доля ГОКа в общей добыче алмазов группы «Алроса» 2017 году составила 18 %. Мирнинский ГОК добывает алмазы на кимберлитовых трубках «Мир» (временно законсервирована), «Интернациональная», из россыпей «Водораздельные галечники», «Иреляхские россыпи», «Горное», а также из техногенного месторождения «Хвостохранилище фабрики №5». Объём добычи алмазов на кимберлитовой трубке «Интернациональная» в 2017 году составил 3,7 млн карат. На трубке «Мир» в 2017 году – 2,76 млн карат. Объем добычи алмазов из россыпных месторождений в 2017 году – 740 тыс. карат.\n",
      "\n",
      "\n",
      "=== Айхальский горно-обогатительный комбинат ===\n",
      "Айхальский горно-обогатительный комбинат был организован в 1986 году. По данным 2019 года в состав ГОКа входят следующие основные подразделения: карьеры «Комсомольский», “Юбилейный» и «Заря», а также подземный рудник «Айхал», автобаза технологического транспорта, обогатительные фабрики № 8 и № 14. Доля комбината в общей добыче алмазов группы «Алроса» в 2017 году составила 30 %. Объём добычи алмазов на карьере «Юбилейный» в 2017 году составил 10,16 млн карат. На карьере «Комсомольский» в 2017 году - 370,4 тыс. карат. На руднике «Айхал» в 2017 году - 2,48 млн карат..\n",
      "\n",
      "\n",
      "=== Удачнинский горно-обогатительный комбинат ===\n",
      "Удачнинский горно-обогатительный комбинат (ГОК) основан в 1979 году. Это градообразующее предприятие города Удачный, который расположен в 15 км от Полярного круга. В состав комбината входят горные, обогатительные, транспортные, ремонтные и вспомогательные подразделения. Удачнинский ГОК осуществляет добычу алмазов на следующих объектах: Подземный рудник «Удачный» им. Ф.Б. Андреева, Карьер «Зарница», Россыпные месторождения: «Законтурная делювиальная россыпь трубки «Удачная» и «Пироповый ручей» (отработка россыпных месторождений завершена В 2018 и в 2019 годах соответственно), Месторождение «Верхне-Мунское», Обогащение руды (Фабрика №12). В 2017 году производство товарной продукции Удачнинским ГОК составило 3,8 млн карат. В 2018 году планируется добыть почти 5,3 млн карат.\n",
      "\n",
      "\n",
      "=== Нюрбинский горно-обогатительный комбинат ===\n",
      "Нюрбинский горно-обогатительный комбинат (ГОК) — один из самых молодых предприятий «Алроса». Он ведет работы на Накынском рудном поле, в частности, на следующих объектах: карьерах «Нюрбинский» и «Ботуобинский», а также одноименных россыпных месторождениях. Доля Нюрбинского ГОКа в общей добыче алмазов группы «Алроса» в 2017 году составила 19 %. В состав Нюрбинского ГОКа входят обогатительная фабрика № 15 (мощность 0,5 млн тонн в год) и обогатительная фабрика № 16 (мощность 1,4 млн тонн в год).\n",
      "В Нюрбинском ГОКе впервые за всю историю «Алроса» применяется вахтовый метод с привлечением работников, проживающих в г. Мирном, г. Нюрбе, п. Верхневилюйске. В 2017 году производство товарной продукции Нюрнбинским ГОК составило 7,7 млн карат.\n",
      "\n",
      "\n",
      "=== Дочерние и зависимые общества ===\n",
      "АО «Алмазы Анабара»\n",
      "ОАО «Алмазы Анабара» создано в январе 1998 года для добычи россыпных алмазов в Анабарском улусе (крайний северо-запад Якутии). В августе 2004 года преобразовано в ОАО «Алмазы Анабара». ПАО «АО «Алмазы Анабара» входит в число ведущих предприятий Республики Саха (Якутия). С 2007 года 100% акций общества принадлежит «Алроса». Месторождения предприятия находятся в северо-западной части Республики Саха (Якутия), на территории нескольких улусов. Добыча ведется на 7 россыпях: «Моргогор», «Исток», «Холомолох», «Эбелях», «Гусиное», «Ручей 41» и «Курунг-Юрях». В 2013 году «Алмазы Анабара» приобрело алмазодобывающее АО «Нижне- Ленское», которое находится на территории Булунского и Анабарского улусов Якутии, в непосредственной близости от добывающих объектов АО «Алмазы Анабара». Доля компаний «Алмазы Анабара» (АО) и «Нижне-Ленское» (АО) в общей добыче алмазов группы «Алроса» в 2017 году составила 13 %. В 2017 году производство товарной продукции АО «Алмазы Анабара» и АО Нижне-Ленское составило 5,2 млн карат.ПАО «Севералмаз»\n",
      "ПАО «Севералмаз» — дочернее предприятие группы «Алроса» в Архангельской области, один из ключевых проектов развития компании (Алроса принадлежит 99,6% акций). «Севералмаз» разрабатывает месторождение им. Ломоносова, состоящее из 6 кимберлитовых трубок с общими ресурсами более 115 млн. карат алмазного сырья. Сегодня компания ведет добычу на двух объектах – трубках «Архангельская» и «Карпинского-1». Доля Ломоносовского ГОКа в общей добыче алмазов группы Алроса в 2017 году составила 7%.ПАО «АЛРОСА-Нюрба» \n",
      "ПАО «АЛРОСА-Нюрба» образовано в 1997 году, владеет лицензиями на разработку коренных месторождений алмазов «Нюрбинское» и «Ботуобинское», а также прилегающих к ним одноименных россыпей. Алроса в ПАО «АЛРОСА-Нюрба» принадлежит 97,48% акций. Общество ведет деятельность на территории Нюрбинского улуса Республики Саха (Якутия). Услуги по разработке месторождений для ПАО «АЛРОСА-Нюрба» в соответствии с договором оказывает Нюрбинский горно-обогатительный комбинат.\n",
      "ООО «Бриллианты АЛРОСА» \n",
      "В Москве действует филиал основного производства — ООО «Бриллианты АЛРОСА» — который является собственным гранильным предприятием компании, а также выполняет функции мониторинга рынка и маркетинга. В 2017 году продукцию филиала «Бриллианты АЛРОСА» приобрели 159 компаний, представляющих основные мировые центры торговли бриллиантами. Без учета продаж бриллиантов зарубежной сети ALROSA реализация филиала «Бриллианты АЛРОСА» на внешний рынок составила 74,0 млн долл.\n",
      "Акционерное общество «Инновационный Центр «Буревестник»\n",
      "С 2005 года является дочерним предприятием АК «Алроса», на сегодняшний день в собственности компании более 90 % акций АО ИЦ «Буревестник».\n",
      "Горнорудное общество «Катока Лтд.» \n",
      "Крупнейший производителя алмазов Центральной Африки, ведущий добычу алмазов в Анголе. «Алроса» владеет 32,8 % акций ГРО. «Катока» стало первой в истории Анголы горнодобывающей компанией, приступившей к крупномасштабной отработке одного из крупнейших коренных месторождений алмазов – четвертой в мире по размерам - кимберлитовой трубки Катока (провинция Лунда Сул).\n",
      "«Алроса» активно занимается разведкой новых месторождений. В её активе есть ряд новых месторождений в Западной Якутии — «Верхне-Мунское», россыпь «Солур-Восточная», трубки «Заря», «Дальняя», «Майская», «Законтурная делювиальная россыпь», «Пироповый ручей». Кроме того, «Алроса» ведёт поисковые и геологоразведочные работы на алмазное сырьё в Анголе и Ботсване на условиях СП с местными компаниями.\n",
      "Кроме того, в комплекс «Алроса» входит ряд геологоразведочных экспедиций, научных подразделений, строительное и автотранспортное предприятие. Также «Алроса» принадлежит 49 % минус одна акция железорудной компании «Тимир», занимающейся разработкой четырёх месторождений в Южной Якутии — Таёжного, Десовского, Тарыннахского и Горкитского.\n",
      "\n",
      "\n",
      "== Сбыт ==\n",
      "Сбытовая система «Алроса» построена на заключении долгосрочных контрактов с компаниями, производящими бриллианты и ювелирные изделия. На долю таких контрактов в 2017 году пришлось 77% продаж компании. «Алроса» также реализует алмазное сырьё на конкурсной основе (аукционы и тендеры) и в рамках разовых неконкурсных сделок.\n",
      "Сбытовые организации компании «Алроса» имеют представительства во всех основных мировых алмазных центрах — США, Бельгии, ОАЭ, Китае, Великобритании и Израиле.\n",
      "Торговая политика компании Алроса регламентируется Положением о порядке и условиях реализации природных алмазов, разработанным совместно с ФАС России. Основной его принцип — обеспечение равных условий доступа к алмазному сырью для всех клиентов, применение единых критериев и проведения единообразных процедур при проведении торгов.\n",
      "В 2012 году «Алроса» заключила долгосрочный контракт с бельгийской компанией Laurelton Diamonds Inc., которая закупает бриллианты для американской ювелирной компании Tiffany & Co.. По условиям заключённого трёхлетнего торгового соглашения на первом этапе Tiffany&Co. сможет ежегодно закупать алмазного сырья примерно на 60 млн $.\n",
      "В мае 2013 года «Алроса» и аукционный дом Sotheby’s подписали меморандум о сотрудничестве. По его условиям «Алроса» сможет реализовать на аукционах Sotheby’s крупные бриллианты премиум-класса, произведённые филиалом компании «Бриллианты АЛРОСА», а также ювелирные изделия с этими бриллиантами. Представляемые для продажи камни будут проходить сертификацию Геммологического института Америки (GIA).\n",
      "«Алроса» оказывает активное содействие российским государственным органам в реализации целей и исполнении требований Кимберлийского процесса. Алроса не осуществляет поставки алмазного сырья юридическим лицам и индивидуальным предпринимателям в случае, если они:\n",
      "\n",
      "имеют принадлежность к государству, не обладающему статусом официального члена Кимберлийского процесса;\n",
      "не соблюдают требования международной схемы сертификации алмазов в рамках Кимберлийского процесса (ССКП);\n",
      "нарушают принятый в мировой практике порядок раздельной продажи природных, синтетических и облагороженных природных алмазов и продукции из них;\n",
      "нарушают требования налогового, таможенного и иного законодательства;\n",
      "находятся в стадии реорганизации, ликвидации или банкротства;\n",
      "сообщили о себе недостоверные сведения и так далее.\n",
      "\n",
      "\n",
      "== Основные финансовые показатели ==\n",
      "Стандарт отчетности: МСФО\n",
      "Аудитор: PWC - без замечаний\n",
      "Ед.измерения: млрд.руб.\n",
      "\n",
      "\n",
      "== Показатели деятельности ==\n",
      "В 2017 году предприятия группы «Алроса» добыли 39,6 млн карат алмазов.\n",
      "Выручка «Алроса» от продажи алмазов в 2017 году составила $4,2 млрд, отреализации бриллиантов – $96,9 млн.\n",
      "\n",
      "Объём продаж алмазного сырья в 2017 году составил 41,2 млн карат.\n",
      "Рыночная капитализация Компании по итогам 2017 года составила 553 млрд руб.(9,6 млрд долл.)\n",
      "\n",
      "Чистая прибыль в 2017 году составила 78,6 млрд руб.\n",
      "Стратегия компании предусматривает рост добычи до 41 млн карат в 2019 году.\n",
      "\n",
      "\n",
      "== Претензии со стороны государственных органов ==\n",
      "Весной 2013 года Росприроднадзор Минприроды России уличил АК «АЛРОСА» в безлицензионном пользовании недрами и самовольной добыче алмазов на территории расположенного в Якутии техногенного месторождения «Водораздельные галечники» (хвостов обогатительной фабрики № 5). По данным государственного органа, компания в 2010—2012 годах незаконно добыла из месторождения, находящегося на государственном балансе, свыше 1,7 млн карат алмазов.\n",
      "По заявлениям представителей АК «АЛРОСА», компания таким образом внедряла новые технологии по рентабельной отработке отходов добычи — хвостохранилищ. Кроме того, АК «АЛРОСА» согласовывала это с Якутнедрами и Роснедрами, а также вносила все необходимые налоговые платежи с этого процесса. Позднее комиссия Минприроды — в рамках проверки АК «АЛРОСА», — признала необходимость внедрения новых технологий отработки отходов производства и пришла к выводу, что такая ситуация законом не описана.\n",
      "\n",
      "\n",
      "== Профессиональные союзы ==\n",
      "Профессиональный союз работников алмазодобывающей отрасли «Профалмаз» был организован 17 марта 1992 года. Между АК «АЛРОСА» и «Профалмазом» заключён Коллективный договор. Сегодня численность «Профалмаза» насчитывает более 34 тысяч человек. В состав организации входит 73 первичных организаций предприятий группы Алроса, дочерних обществ компании и бюджетных организаций. «Профалмаз» является членом как Федерации профсоюзов Республики Саха (Якутия), так и Федерации независимых профсоюзов России.\n",
      "\n",
      "\n",
      "== Факты ==\n",
      "В 2017 году реализовала более 500 социальных и благотворительных инициатив. Компания выделяет средства на программы регионального развития, инфраструктурные, благотворительные и спонсорские проекты, корпоративные социальные программы для рабочих и членов их семей, а также оказывает адресную помощь жителям регионов присутствия.\n",
      "Более 70% всех инициатив в 2017 году реализовано в Якутии – ключевом регионе деятельности «Алроса». Часть программ реализуется через некоммерческое объединение «Целевой фонд будущих поколений Республики Саха (Якутия)», в которое за все время сотрудничества с 2011 года инвестировано более 4,5 млрд рублей.\n",
      "В честь компании названа дизель-электрическая подводная лодка Б-871 «Алроса» Черноморского флота Российской Федерации, которая пережила период безденежья главным образом благодаря шефству со стороны якутской компании. В течение примерно двух десятилетий являлась единственной боеспособной подводной лодкой в составе Черноморского флота, поскольку вторая — Б-380 — с 1991 года находилась в ремонте.\n",
      "Специально для компании в 2016 году заводом «Тонар» был начат выпуск уникального автопоезда (тягач «Тонар-45252» и двухзвенный прицеп «Тонар-95405») грузоподъемностью 117 тонн.\n",
      "\n",
      "\n",
      "== См. также ==\n",
      "Алроса (авиакомпания)\n",
      "Алмаз-АЛРОСА\n",
      "Б-871 «Алроса»\n",
      "\n",
      "\n",
      "== Примечания ==\n",
      "\n",
      "\n",
      "== Ссылки ==\n",
      "\n",
      "alrosa.ru — официальный сайт Алроса\n",
      "Официальное раскрытие информации\n"
     ]
    },
    {
     "data": {
      "text/plain": [
       "19633"
      ]
     },
     "execution_count": 3,
     "metadata": {},
     "output_type": "execute_result"
    }
   ],
   "source": [
    "import wikipedia #загрузим статью с wikipedia о Алроса и сохраним данные в фале txt.\n",
    "wikipedia.set_lang('ru')  \n",
    "result = wikipedia.search('Алроса')\n",
    "page = wikipedia.page(result[0])\n",
    "print(page.content)\n",
    "text = page.content\n",
    "alrosa = open('alrosa.txt','w')\n",
    "alrosa.write(text)"
   ]
  },
  {
   "cell_type": "code",
   "execution_count": 4,
   "metadata": {},
   "outputs": [
    {
     "data": {
      "text/plain": [
       "19633"
      ]
     },
     "execution_count": 4,
     "metadata": {},
     "output_type": "execute_result"
    }
   ],
   "source": [
    "f = open('alrosa.txt', 'r', encoding='Windows-1251') #прочтем полученный ранее файл txt.\n",
    "text = f.read()\n",
    "len(text)"
   ]
  },
  {
   "cell_type": "code",
   "execution_count": 5,
   "metadata": {},
   "outputs": [],
   "source": [
    "text = text.lower() #переведём символы в единый нижний регистр. "
   ]
  },
  {
   "cell_type": "code",
   "execution_count": 6,
   "metadata": {},
   "outputs": [
    {
     "name": "stdout",
     "output_type": "stream",
     "text": [
      "!\"#$%&'()*+,-./:;<=>?@[\\]^_`{|}~\n"
     ]
    }
   ],
   "source": [
    "import string #очистим текст от лишних символов.\n",
    "print(string.punctuation)"
   ]
  },
  {
   "cell_type": "code",
   "execution_count": 7,
   "metadata": {},
   "outputs": [],
   "source": [
    "spec_chars = string.punctuation "
   ]
  },
  {
   "cell_type": "code",
   "execution_count": 8,
   "metadata": {},
   "outputs": [],
   "source": [
    "def remove_chars_from_text(text, chars):\n",
    "    return \"\".join([ch for ch in text if ch not in chars])"
   ]
  },
  {
   "cell_type": "code",
   "execution_count": 9,
   "metadata": {},
   "outputs": [],
   "source": [
    "text = remove_chars_from_text(text, spec_chars)\n",
    "text = remove_chars_from_text(text, string.digits)"
   ]
  },
  {
   "cell_type": "code",
   "execution_count": 10,
   "metadata": {},
   "outputs": [],
   "source": [
    "from pymystem3 import Mystem #проведем лемматизацию текста.\n",
    "m = Mystem()  \n",
    "text = m.lemmatize(text) \n",
    "text = \" \".join(text) "
   ]
  },
  {
   "cell_type": "code",
   "execution_count": 11,
   "metadata": {},
   "outputs": [
    {
     "name": "stdout",
     "output_type": "stream",
     "text": [
      "showing info https://raw.githubusercontent.com/nltk/nltk_data/gh-pages/index.xml\n"
     ]
    },
    {
     "data": {
      "text/plain": [
       "True"
      ]
     },
     "execution_count": 11,
     "metadata": {},
     "output_type": "execute_result"
    }
   ],
   "source": [
    "import nltk #токенизация текста.\n",
    "nltk.download()"
   ]
  },
  {
   "cell_type": "code",
   "execution_count": 12,
   "metadata": {},
   "outputs": [],
   "source": [
    "from nltk import word_tokenize \n",
    "text_tokens = word_tokenize(text)"
   ]
  },
  {
   "cell_type": "code",
   "execution_count": 13,
   "metadata": {},
   "outputs": [
    {
     "data": {
      "text/plain": [
       "2685"
      ]
     },
     "execution_count": 13,
     "metadata": {},
     "output_type": "execute_result"
    }
   ],
   "source": [
    "len(text_tokens)"
   ]
  },
  {
   "cell_type": "code",
   "execution_count": 14,
   "metadata": {},
   "outputs": [
    {
     "data": {
      "text/plain": [
       "['алроса',\n",
       " '—',\n",
       " 'российский',\n",
       " 'группа',\n",
       " 'алмазодобывающий',\n",
       " 'компания',\n",
       " 'занимать',\n",
       " 'лидировать',\n",
       " 'позиция',\n",
       " 'в',\n",
       " 'мир',\n",
       " 'по',\n",
       " 'объем',\n",
       " 'добыча',\n",
       " 'алмаз',\n",
       " 'по',\n",
       " 'состояние',\n",
       " 'на',\n",
       " 'год',\n",
       " 'корпорация']"
      ]
     },
     "execution_count": 14,
     "metadata": {},
     "output_type": "execute_result"
    }
   ],
   "source": [
    "text_tokens[:20] #посмотрим первые 20 слов."
   ]
  },
  {
   "cell_type": "code",
   "execution_count": 15,
   "metadata": {},
   "outputs": [],
   "source": [
    "from nltk.probability import FreqDist #для подсчёта статистики распределения частот слов в тексте применим класс FreqDist."
   ]
  },
  {
   "cell_type": "code",
   "execution_count": 16,
   "metadata": {},
   "outputs": [],
   "source": [
    "result_words = [x for x in text_tokens if len(x) > 3] #отсеем предлоги."
   ]
  },
  {
   "cell_type": "code",
   "execution_count": 17,
   "metadata": {},
   "outputs": [],
   "source": [
    "fdist_sw = FreqDist(result_words)"
   ]
  },
  {
   "cell_type": "code",
   "execution_count": 18,
   "metadata": {},
   "outputs": [
    {
     "data": {
      "image/png": "[encoded data removed]",
      "text/plain": [
       "<Figure size 432x288 with 1 Axes>"
      ]
     },
     "metadata": {
      "needs_background": "light"
     },
     "output_type": "display_data"
    },
    {
     "data": {
      "text/plain": [
       "<AxesSubplot:xlabel='Samples', ylabel='Counts'>"
      ]
     },
     "execution_count": 18,
     "metadata": {},
     "output_type": "execute_result"
    }
   ],
   "source": [
    "fdist_sw.plot(20, cumulative=False, color='red') #выведем ключевые слова"
   ]
  },
  {
   "cell_type": "code",
   "execution_count": 19,
   "metadata": {},
   "outputs": [
    {
     "data": {
      "text/plain": [
       "[('алроса', 73),\n",
       " ('алмаз', 45),\n",
       " ('компания', 44),\n",
       " ('месторождение', 26),\n",
       " ('составлять', 24),\n",
       " ('добыча', 21),\n",
       " ('быть', 21),\n",
       " ('якутия', 17),\n",
       " ('карат', 17),\n",
       " ('трубка', 14)]"
      ]
     },
     "execution_count": 19,
     "metadata": {},
     "output_type": "execute_result"
    }
   ],
   "source": [
    "fdist_sw.most_common(10) #выведем список ключевых слов."
   ]
  },
  {
   "cell_type": "markdown",
   "metadata": {},
   "source": [
    "#### 3.  На вход алгоритма первой строкой передаётся количество известных слов, после чего указываются эти слова. Затем передаётся количество строк текста для проверки, после чего строки этого текста. Необходимо вывести уникальные слова с ошибками (без учёта регистра) в произвольном порядке."
   ]
  },
  {
   "cell_type": "code",
   "execution_count": 20,
   "metadata": {},
   "outputs": [
    {
     "name": "stdout",
     "output_type": "stream",
     "text": [
      "передаём количество известных слов\n",
      "3\n",
      "указываем известные слова\n",
      "алроса\n",
      "указываем известные слова\n",
      "алмаз\n",
      "указываем известные слова\n",
      "компания\n",
      "передаём количество строк текста для проверки\n",
      "8\n",
      "передаём строчку текста для проверки\n",
      "Алроса российская группа алмазодобывающих компаний\n",
      "передаём строчку текста для проверки\n",
      "Алроса лидер по объёму добычи алмазов\n",
      "передаём строчку текста для проверки\n",
      "Компания которая знает что такое алмаз\n",
      "передаём строчку текста для проверки\n",
      "Алроса крупнейшая публичная компания в алмазодобывающем секторе\n",
      "передаём строчку текста для проверки\n",
      "Основные производственные мощности Алроса сосредоточены в Якутии\n",
      "передаём строчку текста для проверки\n",
      "Всего Алроса разрабатывает 27 месторождений\n",
      "передаём строчку текста для проверки\n",
      "Группе Алроса принадлежит шесть горнодобывающих комплексов\n",
      "передаём строчку текста для проверки\n",
      "Сбытовая система Алроса построена на заключении долгосрочных контрактов\n",
      "\n",
      "уникальное слово :  группа\n",
      "\n",
      "уникальное слово :  секторе\n",
      "\n",
      "уникальное слово :  группе\n",
      "\n",
      "уникальное слово :  заключении\n",
      "\n",
      "уникальное слово :  такое\n",
      "\n",
      "уникальное слово :  27\n",
      "\n",
      "уникальное слово :  контрактов\n",
      "\n",
      "уникальное слово :  сосредоточены\n",
      "\n",
      "уникальное слово :  алмазодобывающем\n",
      "\n",
      "уникальное слово :  публичная\n",
      "\n",
      "уникальное слово :  горнодобывающих\n",
      "\n",
      "уникальное слово :  лидер\n",
      "\n",
      "уникальное слово :  сбытовая\n",
      "\n",
      "уникальное слово :  на\n",
      "\n",
      "уникальное слово :  крупнейшая\n",
      "\n",
      "уникальное слово :  основные\n",
      "\n",
      "уникальное слово :  принадлежит\n",
      "\n",
      "уникальное слово :  российская\n",
      "\n",
      "уникальное слово :  мощности\n",
      "\n",
      "уникальное слово :  знает\n",
      "\n",
      "уникальное слово :  система\n",
      "\n",
      "уникальное слово :  объёму\n",
      "\n",
      "уникальное слово :  разрабатывает\n",
      "\n",
      "уникальное слово :  в\n",
      "\n",
      "уникальное слово :  шесть\n",
      "\n",
      "уникальное слово :  построена\n",
      "\n",
      "уникальное слово :  всего\n",
      "\n",
      "уникальное слово :  которая\n",
      "\n",
      "уникальное слово :  алмазов\n",
      "\n",
      "уникальное слово :  что\n",
      "\n",
      "уникальное слово :  производственные\n",
      "\n",
      "уникальное слово :  алмазодобывающих\n",
      "\n",
      "уникальное слово :  по\n",
      "\n",
      "уникальное слово :  комплексов\n",
      "\n",
      "уникальное слово :  месторождений\n",
      "\n",
      "уникальное слово :  компаний\n",
      "\n",
      "уникальное слово :  якутии\n",
      "\n",
      "уникальное слово :  долгосрочных\n",
      "\n",
      "уникальное слово :  добычи\n"
     ]
    }
   ],
   "source": [
    "a, a1 = [], [] #создадим циклы передачи слов и последующего исключения известных слов.\n",
    "print('передаём количество известных слов')\n",
    "for text in range(int(input())):\n",
    "    print('указываем известные слова')\n",
    "    a.append(input().lower())\n",
    "print('передаём количество строк текста для проверки')\n",
    "for text in range(int(input())):\n",
    "    print('передаём строчку текста для проверки')\n",
    "    a1 += input().lower().split()\n",
    "for text in set(a1):\n",
    "    if text not in a:\n",
    "        print()\n",
    "        print('уникальное слово : ',text)"
   ]
  },
  {
   "cell_type": "code",
   "execution_count": null,
   "metadata": {},
   "outputs": [],
   "source": []
  }
 ],
 "metadata": {
  "kernelspec": {
   "display_name": "Python 3",
   "language": "python",
   "name": "python3"
  },
  "language_info": {
   "codemirror_mode": {
    "name": "ipython",
    "version": 3
   },
   "file_extension": ".py",
   "mimetype": "text/x-python",
   "name": "python",
   "nbconvert_exporter": "python",
   "pygments_lexer": "ipython3",
   "version": "3.8.5"
  }
 },
 "nbformat": 4,
 "nbformat_minor": 4
}
