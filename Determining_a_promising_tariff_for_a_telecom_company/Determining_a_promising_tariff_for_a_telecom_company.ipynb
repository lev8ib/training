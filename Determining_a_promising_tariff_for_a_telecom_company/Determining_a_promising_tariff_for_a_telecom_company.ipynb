{
 "cells": [
  {
   "cell_type": "markdown",
   "metadata": {},
   "source": [
    "# Содержание\n",
    "<a href='#step1'>1. Описание проекта</a>\n",
    "\n",
    "<a href='#step2'>2. Откроем файл с данными и изучим общую информацию</a>\n",
    "\n",
    "<a href='#step2.1'>2.1 Импорт библиотек</a>\n",
    "\n",
    "<a href='#step2.2'>2.2. Подгрузим файлы</a>\n",
    "\n",
    "<a href='#step2.3'>2.3. Посмотрим информацию о звонках</a>\n",
    "\n",
    "<a href='#step2.4'>2.4. Посмотрим информацию об интернете</a>\n",
    "\n",
    "<a href='#step2.5'>2.5. Посмотрим информацию о сообщениях</a>\n",
    "\n",
    "<a href='#step2.6'>2.6. Посмотрим информацию о тарифах</a>\n",
    "\n",
    "<a href='#step2.7'>2.7. Посмотрим информацию о пользователях</a>\n",
    "\n",
    "<a href='#step3'>3. Подготовим данные</a>\n",
    "\n",
    "<a href='#step3.1'>3.1. Приведем данные к нужным типам</a>\n",
    "\n",
    "<a href='#step3.2'>3.2. Найдем и исправим ошибки в данных</a>\n",
    "\n",
    "<a href='#step4'>4. Проанализируем данные</a>\n",
    "\n",
    "<a href='#step4.1'>4.1. Зависимость количества минут разговора по месяцам и тарифам</a>\n",
    "\n",
    "<a href='#step4.2'>4.2. Распределение количества сообщений, по месяцам</a>\n",
    "\n",
    "<a href='#step4.3'>4.3. Распределение количества потребляемых Гб, по месяцам</a>\n",
    "\n",
    "<a href='#step4.4'>4.4. Зависимость стоимости в месяц по тарифам</a>\n",
    "\n",
    "<a href='#step5'>5. Проверим гипотезы</a>\n",
    "\n",
    "<a href='#step5.1'>5.1. Средняя выручка пользователей тарифов «Ультра» и «Смарт» различается</a>\n",
    "\n",
    "<a href='#step5.2'>5.2. Средняя выручка пользователей из Москвы отличается от выручки пользователей из других регионов</a>\n",
    "\n",
    "<a href='#step6'>6. Выводы</a>"
   ]
  },
  {
   "cell_type": "markdown",
   "metadata": {},
   "source": [
    "## 1. Описание проекта<a id='step1'></a>"
   ]
  },
  {
   "cell_type": "markdown",
   "metadata": {},
   "source": [
    "<h2>Определение перспективного тарифа для телеком компании</h2>\n",
    "<p>Я аналитик компании «Мегалайн» — федерального оператора сотовой связи. Клиентам предлагают два тарифных плана: «Смарт» и «Ультра». Чтобы скорректировать рекламный бюджет, коммерческий департамент хочет понять, какой тариф приносит больше денег. <p>\n",
    "<p>Мне предстоит сделать предварительный анализ тарифов на небольшой выборке клиентов. В вашем распоряжении данные 500 пользователей «Мегалайна»: кто они, откуда, каким тарифом пользуются, сколько звонков и сообщений каждый отправил за 2018 год. Нужно проанализировать поведение клиентов и сделать вывод — какой тариф лучше.<p>\n",
    "<h2>Описание тарифов</h2>\n",
    "\n",
    "<strong>Тариф «Смарт»</strong>\n",
    "<p>Ежемесячная плата: 550 рублей<p>\n",
    "<p>Включено 500 минут разговора, 50 сообщений и 15 Гб интернет-трафика<p>\n",
    "<p>Стоимость услуг сверх тарифного пакета:<p>\n",
    "<p>- минута разговора: 3 рубля<p>\n",
    "<p>- сообщение: 3 рубля<p>\n",
    "<p>- 1 Гб интернет-трафика: 200 рублей<p>\n",
    "    \n",
    "<strong>Тариф «Ультра»</strong>\n",
    "<p>Ежемесячная плата: 1950 рублей<p>\n",
    "<p>Включено 3000 минут разговора, 1000 сообщений и 30 Гб интернет-трафика<p>\n",
    "<p>Стоимость услуг сверх тарифного пакета:<p>\n",
    "<p>- минута разговора:1 рубль<p>\n",
    "<p>- сообщение: 1 рубль<p>\n",
    "<p>- 1 Гб интернет-трафика: 150 рублей<p>\n",
    "\n",
    "<strong>Обратим внимание:</strong> «Мегалайн» всегда округляет вверх значения минут и мегабайтов. Если пользователь проговорил всего 1 секунду, в тарифе засчитывается целая минута.\n",
    "\n",
    "<strong>Описание данных</strong>    \n",
    "<h6>Таблица users (информация о пользователях):</h6>\n",
    "\n",
    "<p>user_id — уникальный идентификатор пользователя<p>\n",
    "<p>first_name — имя пользователя<p>\n",
    "<p>last_name — фамилия пользователя<p>\n",
    "<p>age — возраст пользователя (годы)<p>\n",
    "<p>reg_date — дата подключения тарифа (день, месяц, год)<p>\n",
    "<p>churn_date — дата прекращения пользования тарифом (если значение пропущено, то тариф ещё действовал на момент выгрузки данных)<p>\n",
    "<p>city — город проживания пользователя<p>\n",
    "<p>tariff — название тарифного плана<p>\n",
    "<h6>Таблица calls (информация о звонках):</h6>\n",
    "\n",
    "<p>id — уникальный номер звонка<p>\n",
    "<p>call_date — дата звонка<p>\n",
    "<p>duration — длительность звонка в минутах<p>\n",
    "<p>user_id — идентификатор пользователя, сделавшего звонок<p>\n",
    "<h6>Таблица messages (информация о сообщениях):</h6>\n",
    "\n",
    "<p>id — уникальный номер сообщения<p>\n",
    "<p>message_date — дата сообщения<p>\n",
    "<p>user_id — идентификатор пользователя, отправившего сообщение<p>\n",
    "<h6>Таблица internet (информация об интернет-сессиях):</h6>\n",
    "\n",
    "<p>id — уникальный номер сессии<p>\n",
    "<p>mb_used — объём потраченного за сессию интернет-трафика (в мегабайтах)<p>\n",
    "<p>session_date — дата интернет-сессии<p>\n",
    "<p>user_id — идентификатор пользователя<p>\n",
    "<h6>Таблица tariffs (информация о тарифах):</h6>\n",
    "\n",
    "<p>tariff_name — название тарифа<p>\n",
    "<p>rub_monthly_fee — ежемесячная абонентская плата в рублях<p>\n",
    "<p>minutes_included — количество минут разговора в месяц, включённых в абонентскую плату<p>\n",
    "<p>messages_included — количество сообщений в месяц, включённых в абонентскую плату<p>\n",
    "<p>mb_per_month_included — объём интернет-трафика, включённого в абонентскую плату (в мегабайтах)<p>\n",
    "<p>rub_per_minute — стоимость минуты разговора сверх тарифного пакета (например, если в тарифе 100 минут разговора в месяц, то <p>со 101 минуты будет взиматься плата)<p>\n",
    "<p>rub_per_message — стоимость отправки сообщения сверх тарифного пакета<p>\n",
    "<p>rub_per_gb — стоимость дополнительного гигабайта интернет-трафика сверх тарифного пакета (1 гигабайт = 1024 мегабайта)<p>"
   ]
  },
  {
   "cell_type": "markdown",
   "metadata": {},
   "source": [
    "## 2. Откроем файл с данными и изучим общую информацию<a id='step2'></a>"
   ]
  },
  {
   "cell_type": "markdown",
   "metadata": {},
   "source": [
    "#### 2.1. Импортируем библиотеки<a id='step2.1'></a>"
   ]
  },
  {
   "cell_type": "code",
   "execution_count": 1,
   "metadata": {},
   "outputs": [],
   "source": [
    "import pandas as pd\n",
    "import math\n",
    "import numpy as np\n",
    "from scipy import stats as st\n",
    "import seaborn as sns\n",
    "import matplotlib.pyplot as plt"
   ]
  },
  {
   "cell_type": "markdown",
   "metadata": {},
   "source": [
    "#### 2.2. Подгрузим файлы <a id='step2.2'></a>"
   ]
  },
  {
   "cell_type": "code",
   "execution_count": 2,
   "metadata": {},
   "outputs": [],
   "source": [
    "df_calls = pd.read_csv('/datasets/calls.csv', index_col=0).reset_index()\n",
    "df_internet = pd.read_csv('/datasets/internet.csv', index_col=0).reset_index()\n",
    "df_messages = pd.read_csv('/datasets/messages.csv', index_col=0).reset_index()\n",
    "df_tariffs = pd.read_csv('/datasets/tariffs.csv', index_col=0).reset_index()\n",
    "df_users = pd.read_csv('/datasets/users.csv', index_col=0).reset_index()"
   ]
  },
  {
   "cell_type": "markdown",
   "metadata": {},
   "source": [
    "#### 2.3. Посмотрим информацию о звонках <a id='step2.3'></a>"
   ]
  },
  {
   "cell_type": "code",
   "execution_count": 3,
   "metadata": {},
   "outputs": [
    {
     "name": "stdout",
     "output_type": "stream",
     "text": [
      "<class 'pandas.core.frame.DataFrame'>\n",
      "RangeIndex: 202607 entries, 0 to 202606\n",
      "Data columns (total 4 columns):\n",
      "id           202607 non-null object\n",
      "call_date    202607 non-null object\n",
      "duration     202607 non-null float64\n",
      "user_id      202607 non-null int64\n",
      "dtypes: float64(1), int64(1), object(2)\n",
      "memory usage: 6.2+ MB\n"
     ]
    },
    {
     "data": {
      "text/html": [
       "<div>\n",
       "<style scoped>\n",
       "    .dataframe tbody tr th:only-of-type {\n",
       "        vertical-align: middle;\n",
       "    }\n",
       "\n",
       "    .dataframe tbody tr th {\n",
       "        vertical-align: top;\n",
       "    }\n",
       "\n",
       "    .dataframe thead th {\n",
       "        text-align: right;\n",
       "    }\n",
       "</style>\n",
       "<table border=\"1\" class=\"dataframe\">\n",
       "  <thead>\n",
       "    <tr style=\"text-align: right;\">\n",
       "      <th></th>\n",
       "      <th>id</th>\n",
       "      <th>call_date</th>\n",
       "      <th>duration</th>\n",
       "      <th>user_id</th>\n",
       "    </tr>\n",
       "  </thead>\n",
       "  <tbody>\n",
       "    <tr>\n",
       "      <td>0</td>\n",
       "      <td>1000_0</td>\n",
       "      <td>2018-07-25</td>\n",
       "      <td>0.00</td>\n",
       "      <td>1000</td>\n",
       "    </tr>\n",
       "    <tr>\n",
       "      <td>1</td>\n",
       "      <td>1000_1</td>\n",
       "      <td>2018-08-17</td>\n",
       "      <td>0.00</td>\n",
       "      <td>1000</td>\n",
       "    </tr>\n",
       "    <tr>\n",
       "      <td>2</td>\n",
       "      <td>1000_2</td>\n",
       "      <td>2018-06-11</td>\n",
       "      <td>2.85</td>\n",
       "      <td>1000</td>\n",
       "    </tr>\n",
       "    <tr>\n",
       "      <td>3</td>\n",
       "      <td>1000_3</td>\n",
       "      <td>2018-09-21</td>\n",
       "      <td>13.80</td>\n",
       "      <td>1000</td>\n",
       "    </tr>\n",
       "    <tr>\n",
       "      <td>4</td>\n",
       "      <td>1000_4</td>\n",
       "      <td>2018-12-15</td>\n",
       "      <td>5.18</td>\n",
       "      <td>1000</td>\n",
       "    </tr>\n",
       "    <tr>\n",
       "      <td>...</td>\n",
       "      <td>...</td>\n",
       "      <td>...</td>\n",
       "      <td>...</td>\n",
       "      <td>...</td>\n",
       "    </tr>\n",
       "    <tr>\n",
       "      <td>202602</td>\n",
       "      <td>1499_215</td>\n",
       "      <td>2018-12-26</td>\n",
       "      <td>0.76</td>\n",
       "      <td>1499</td>\n",
       "    </tr>\n",
       "    <tr>\n",
       "      <td>202603</td>\n",
       "      <td>1499_216</td>\n",
       "      <td>2018-10-18</td>\n",
       "      <td>18.83</td>\n",
       "      <td>1499</td>\n",
       "    </tr>\n",
       "    <tr>\n",
       "      <td>202604</td>\n",
       "      <td>1499_217</td>\n",
       "      <td>2018-11-10</td>\n",
       "      <td>10.81</td>\n",
       "      <td>1499</td>\n",
       "    </tr>\n",
       "    <tr>\n",
       "      <td>202605</td>\n",
       "      <td>1499_218</td>\n",
       "      <td>2018-10-06</td>\n",
       "      <td>4.27</td>\n",
       "      <td>1499</td>\n",
       "    </tr>\n",
       "    <tr>\n",
       "      <td>202606</td>\n",
       "      <td>1499_219</td>\n",
       "      <td>2018-12-14</td>\n",
       "      <td>19.62</td>\n",
       "      <td>1499</td>\n",
       "    </tr>\n",
       "  </tbody>\n",
       "</table>\n",
       "<p>202607 rows × 4 columns</p>\n",
       "</div>"
      ],
      "text/plain": [
       "              id   call_date  duration  user_id\n",
       "0         1000_0  2018-07-25      0.00     1000\n",
       "1         1000_1  2018-08-17      0.00     1000\n",
       "2         1000_2  2018-06-11      2.85     1000\n",
       "3         1000_3  2018-09-21     13.80     1000\n",
       "4         1000_4  2018-12-15      5.18     1000\n",
       "...          ...         ...       ...      ...\n",
       "202602  1499_215  2018-12-26      0.76     1499\n",
       "202603  1499_216  2018-10-18     18.83     1499\n",
       "202604  1499_217  2018-11-10     10.81     1499\n",
       "202605  1499_218  2018-10-06      4.27     1499\n",
       "202606  1499_219  2018-12-14     19.62     1499\n",
       "\n",
       "[202607 rows x 4 columns]"
      ]
     },
     "execution_count": 3,
     "metadata": {},
     "output_type": "execute_result"
    }
   ],
   "source": [
    "df_calls.info()\n",
    "df_calls"
   ]
  },
  {
   "cell_type": "markdown",
   "metadata": {},
   "source": [
    "#### 2.4. Посмотрим информацию об интернете <a id='step2.4'></a>"
   ]
  },
  {
   "cell_type": "code",
   "execution_count": 4,
   "metadata": {},
   "outputs": [
    {
     "name": "stdout",
     "output_type": "stream",
     "text": [
      "<class 'pandas.core.frame.DataFrame'>\n",
      "RangeIndex: 149396 entries, 0 to 149395\n",
      "Data columns (total 5 columns):\n",
      "index           149396 non-null int64\n",
      "id              149396 non-null object\n",
      "mb_used         149396 non-null float64\n",
      "session_date    149396 non-null object\n",
      "user_id         149396 non-null int64\n",
      "dtypes: float64(1), int64(2), object(2)\n",
      "memory usage: 5.7+ MB\n"
     ]
    },
    {
     "data": {
      "text/html": [
       "<div>\n",
       "<style scoped>\n",
       "    .dataframe tbody tr th:only-of-type {\n",
       "        vertical-align: middle;\n",
       "    }\n",
       "\n",
       "    .dataframe tbody tr th {\n",
       "        vertical-align: top;\n",
       "    }\n",
       "\n",
       "    .dataframe thead th {\n",
       "        text-align: right;\n",
       "    }\n",
       "</style>\n",
       "<table border=\"1\" class=\"dataframe\">\n",
       "  <thead>\n",
       "    <tr style=\"text-align: right;\">\n",
       "      <th></th>\n",
       "      <th>index</th>\n",
       "      <th>id</th>\n",
       "      <th>mb_used</th>\n",
       "      <th>session_date</th>\n",
       "      <th>user_id</th>\n",
       "    </tr>\n",
       "  </thead>\n",
       "  <tbody>\n",
       "    <tr>\n",
       "      <td>0</td>\n",
       "      <td>0</td>\n",
       "      <td>1000_0</td>\n",
       "      <td>112.95</td>\n",
       "      <td>2018-11-25</td>\n",
       "      <td>1000</td>\n",
       "    </tr>\n",
       "    <tr>\n",
       "      <td>1</td>\n",
       "      <td>1</td>\n",
       "      <td>1000_1</td>\n",
       "      <td>1052.81</td>\n",
       "      <td>2018-09-07</td>\n",
       "      <td>1000</td>\n",
       "    </tr>\n",
       "    <tr>\n",
       "      <td>2</td>\n",
       "      <td>2</td>\n",
       "      <td>1000_2</td>\n",
       "      <td>1197.26</td>\n",
       "      <td>2018-06-25</td>\n",
       "      <td>1000</td>\n",
       "    </tr>\n",
       "    <tr>\n",
       "      <td>3</td>\n",
       "      <td>3</td>\n",
       "      <td>1000_3</td>\n",
       "      <td>550.27</td>\n",
       "      <td>2018-08-22</td>\n",
       "      <td>1000</td>\n",
       "    </tr>\n",
       "    <tr>\n",
       "      <td>4</td>\n",
       "      <td>4</td>\n",
       "      <td>1000_4</td>\n",
       "      <td>302.56</td>\n",
       "      <td>2018-09-24</td>\n",
       "      <td>1000</td>\n",
       "    </tr>\n",
       "    <tr>\n",
       "      <td>...</td>\n",
       "      <td>...</td>\n",
       "      <td>...</td>\n",
       "      <td>...</td>\n",
       "      <td>...</td>\n",
       "      <td>...</td>\n",
       "    </tr>\n",
       "    <tr>\n",
       "      <td>149391</td>\n",
       "      <td>149391</td>\n",
       "      <td>1499_152</td>\n",
       "      <td>318.90</td>\n",
       "      <td>2018-10-03</td>\n",
       "      <td>1499</td>\n",
       "    </tr>\n",
       "    <tr>\n",
       "      <td>149392</td>\n",
       "      <td>149392</td>\n",
       "      <td>1499_153</td>\n",
       "      <td>490.13</td>\n",
       "      <td>2018-12-14</td>\n",
       "      <td>1499</td>\n",
       "    </tr>\n",
       "    <tr>\n",
       "      <td>149393</td>\n",
       "      <td>149393</td>\n",
       "      <td>1499_154</td>\n",
       "      <td>0.00</td>\n",
       "      <td>2018-10-27</td>\n",
       "      <td>1499</td>\n",
       "    </tr>\n",
       "    <tr>\n",
       "      <td>149394</td>\n",
       "      <td>149394</td>\n",
       "      <td>1499_155</td>\n",
       "      <td>1246.32</td>\n",
       "      <td>2018-11-26</td>\n",
       "      <td>1499</td>\n",
       "    </tr>\n",
       "    <tr>\n",
       "      <td>149395</td>\n",
       "      <td>149395</td>\n",
       "      <td>1499_156</td>\n",
       "      <td>544.37</td>\n",
       "      <td>2018-10-26</td>\n",
       "      <td>1499</td>\n",
       "    </tr>\n",
       "  </tbody>\n",
       "</table>\n",
       "<p>149396 rows × 5 columns</p>\n",
       "</div>"
      ],
      "text/plain": [
       "         index        id  mb_used session_date  user_id\n",
       "0            0    1000_0   112.95   2018-11-25     1000\n",
       "1            1    1000_1  1052.81   2018-09-07     1000\n",
       "2            2    1000_2  1197.26   2018-06-25     1000\n",
       "3            3    1000_3   550.27   2018-08-22     1000\n",
       "4            4    1000_4   302.56   2018-09-24     1000\n",
       "...        ...       ...      ...          ...      ...\n",
       "149391  149391  1499_152   318.90   2018-10-03     1499\n",
       "149392  149392  1499_153   490.13   2018-12-14     1499\n",
       "149393  149393  1499_154     0.00   2018-10-27     1499\n",
       "149394  149394  1499_155  1246.32   2018-11-26     1499\n",
       "149395  149395  1499_156   544.37   2018-10-26     1499\n",
       "\n",
       "[149396 rows x 5 columns]"
      ]
     },
     "execution_count": 4,
     "metadata": {},
     "output_type": "execute_result"
    }
   ],
   "source": [
    "df_internet.info()\n",
    "df_internet"
   ]
  },
  {
   "cell_type": "markdown",
   "metadata": {},
   "source": [
    "#### 2.5. Посмотрим информацию о сообщениях <a id='step2.5'></a>"
   ]
  },
  {
   "cell_type": "code",
   "execution_count": 5,
   "metadata": {},
   "outputs": [
    {
     "name": "stdout",
     "output_type": "stream",
     "text": [
      "<class 'pandas.core.frame.DataFrame'>\n",
      "RangeIndex: 123036 entries, 0 to 123035\n",
      "Data columns (total 3 columns):\n",
      "id              123036 non-null object\n",
      "message_date    123036 non-null object\n",
      "user_id         123036 non-null int64\n",
      "dtypes: int64(1), object(2)\n",
      "memory usage: 2.8+ MB\n"
     ]
    },
    {
     "data": {
      "text/html": [
       "<div>\n",
       "<style scoped>\n",
       "    .dataframe tbody tr th:only-of-type {\n",
       "        vertical-align: middle;\n",
       "    }\n",
       "\n",
       "    .dataframe tbody tr th {\n",
       "        vertical-align: top;\n",
       "    }\n",
       "\n",
       "    .dataframe thead th {\n",
       "        text-align: right;\n",
       "    }\n",
       "</style>\n",
       "<table border=\"1\" class=\"dataframe\">\n",
       "  <thead>\n",
       "    <tr style=\"text-align: right;\">\n",
       "      <th></th>\n",
       "      <th>id</th>\n",
       "      <th>message_date</th>\n",
       "      <th>user_id</th>\n",
       "    </tr>\n",
       "  </thead>\n",
       "  <tbody>\n",
       "    <tr>\n",
       "      <td>0</td>\n",
       "      <td>1000_0</td>\n",
       "      <td>2018-06-27</td>\n",
       "      <td>1000</td>\n",
       "    </tr>\n",
       "    <tr>\n",
       "      <td>1</td>\n",
       "      <td>1000_1</td>\n",
       "      <td>2018-10-08</td>\n",
       "      <td>1000</td>\n",
       "    </tr>\n",
       "    <tr>\n",
       "      <td>2</td>\n",
       "      <td>1000_2</td>\n",
       "      <td>2018-08-04</td>\n",
       "      <td>1000</td>\n",
       "    </tr>\n",
       "    <tr>\n",
       "      <td>3</td>\n",
       "      <td>1000_3</td>\n",
       "      <td>2018-06-16</td>\n",
       "      <td>1000</td>\n",
       "    </tr>\n",
       "    <tr>\n",
       "      <td>4</td>\n",
       "      <td>1000_4</td>\n",
       "      <td>2018-12-05</td>\n",
       "      <td>1000</td>\n",
       "    </tr>\n",
       "    <tr>\n",
       "      <td>...</td>\n",
       "      <td>...</td>\n",
       "      <td>...</td>\n",
       "      <td>...</td>\n",
       "    </tr>\n",
       "    <tr>\n",
       "      <td>123031</td>\n",
       "      <td>1499_179</td>\n",
       "      <td>2018-12-12</td>\n",
       "      <td>1499</td>\n",
       "    </tr>\n",
       "    <tr>\n",
       "      <td>123032</td>\n",
       "      <td>1499_180</td>\n",
       "      <td>2018-09-28</td>\n",
       "      <td>1499</td>\n",
       "    </tr>\n",
       "    <tr>\n",
       "      <td>123033</td>\n",
       "      <td>1499_181</td>\n",
       "      <td>2018-09-27</td>\n",
       "      <td>1499</td>\n",
       "    </tr>\n",
       "    <tr>\n",
       "      <td>123034</td>\n",
       "      <td>1499_182</td>\n",
       "      <td>2018-11-15</td>\n",
       "      <td>1499</td>\n",
       "    </tr>\n",
       "    <tr>\n",
       "      <td>123035</td>\n",
       "      <td>1499_183</td>\n",
       "      <td>2018-11-16</td>\n",
       "      <td>1499</td>\n",
       "    </tr>\n",
       "  </tbody>\n",
       "</table>\n",
       "<p>123036 rows × 3 columns</p>\n",
       "</div>"
      ],
      "text/plain": [
       "              id message_date  user_id\n",
       "0         1000_0   2018-06-27     1000\n",
       "1         1000_1   2018-10-08     1000\n",
       "2         1000_2   2018-08-04     1000\n",
       "3         1000_3   2018-06-16     1000\n",
       "4         1000_4   2018-12-05     1000\n",
       "...          ...          ...      ...\n",
       "123031  1499_179   2018-12-12     1499\n",
       "123032  1499_180   2018-09-28     1499\n",
       "123033  1499_181   2018-09-27     1499\n",
       "123034  1499_182   2018-11-15     1499\n",
       "123035  1499_183   2018-11-16     1499\n",
       "\n",
       "[123036 rows x 3 columns]"
      ]
     },
     "execution_count": 5,
     "metadata": {},
     "output_type": "execute_result"
    }
   ],
   "source": [
    "df_messages.info()\n",
    "df_messages"
   ]
  },
  {
   "cell_type": "markdown",
   "metadata": {},
   "source": [
    "#### 2.6. Посмотрим информацию о тарифах <a id='step2.6'></a>"
   ]
  },
  {
   "cell_type": "code",
   "execution_count": 6,
   "metadata": {},
   "outputs": [
    {
     "name": "stdout",
     "output_type": "stream",
     "text": [
      "<class 'pandas.core.frame.DataFrame'>\n",
      "RangeIndex: 2 entries, 0 to 1\n",
      "Data columns (total 8 columns):\n",
      "messages_included        2 non-null int64\n",
      "mb_per_month_included    2 non-null int64\n",
      "minutes_included         2 non-null int64\n",
      "rub_monthly_fee          2 non-null int64\n",
      "rub_per_gb               2 non-null int64\n",
      "rub_per_message          2 non-null int64\n",
      "rub_per_minute           2 non-null int64\n",
      "tariff_name              2 non-null object\n",
      "dtypes: int64(7), object(1)\n",
      "memory usage: 256.0+ bytes\n"
     ]
    },
    {
     "data": {
      "text/html": [
       "<div>\n",
       "<style scoped>\n",
       "    .dataframe tbody tr th:only-of-type {\n",
       "        vertical-align: middle;\n",
       "    }\n",
       "\n",
       "    .dataframe tbody tr th {\n",
       "        vertical-align: top;\n",
       "    }\n",
       "\n",
       "    .dataframe thead th {\n",
       "        text-align: right;\n",
       "    }\n",
       "</style>\n",
       "<table border=\"1\" class=\"dataframe\">\n",
       "  <thead>\n",
       "    <tr style=\"text-align: right;\">\n",
       "      <th></th>\n",
       "      <th>messages_included</th>\n",
       "      <th>mb_per_month_included</th>\n",
       "      <th>minutes_included</th>\n",
       "      <th>rub_monthly_fee</th>\n",
       "      <th>rub_per_gb</th>\n",
       "      <th>rub_per_message</th>\n",
       "      <th>rub_per_minute</th>\n",
       "      <th>tariff_name</th>\n",
       "    </tr>\n",
       "  </thead>\n",
       "  <tbody>\n",
       "    <tr>\n",
       "      <td>0</td>\n",
       "      <td>50</td>\n",
       "      <td>15360</td>\n",
       "      <td>500</td>\n",
       "      <td>550</td>\n",
       "      <td>200</td>\n",
       "      <td>3</td>\n",
       "      <td>3</td>\n",
       "      <td>smart</td>\n",
       "    </tr>\n",
       "    <tr>\n",
       "      <td>1</td>\n",
       "      <td>1000</td>\n",
       "      <td>30720</td>\n",
       "      <td>3000</td>\n",
       "      <td>1950</td>\n",
       "      <td>150</td>\n",
       "      <td>1</td>\n",
       "      <td>1</td>\n",
       "      <td>ultra</td>\n",
       "    </tr>\n",
       "  </tbody>\n",
       "</table>\n",
       "</div>"
      ],
      "text/plain": [
       "   messages_included  mb_per_month_included  minutes_included  \\\n",
       "0                 50                  15360               500   \n",
       "1               1000                  30720              3000   \n",
       "\n",
       "   rub_monthly_fee  rub_per_gb  rub_per_message  rub_per_minute tariff_name  \n",
       "0              550         200                3               3       smart  \n",
       "1             1950         150                1               1       ultra  "
      ]
     },
     "execution_count": 6,
     "metadata": {},
     "output_type": "execute_result"
    }
   ],
   "source": [
    "df_tariffs.info()\n",
    "df_tariffs"
   ]
  },
  {
   "cell_type": "markdown",
   "metadata": {},
   "source": [
    "#### 2.7. Посмотрим информацию о пользователях <a id='step2.7'></a>"
   ]
  },
  {
   "cell_type": "code",
   "execution_count": 7,
   "metadata": {},
   "outputs": [
    {
     "name": "stdout",
     "output_type": "stream",
     "text": [
      "<class 'pandas.core.frame.DataFrame'>\n",
      "RangeIndex: 500 entries, 0 to 499\n",
      "Data columns (total 8 columns):\n",
      "user_id       500 non-null int64\n",
      "age           500 non-null int64\n",
      "churn_date    38 non-null object\n",
      "city          500 non-null object\n",
      "first_name    500 non-null object\n",
      "last_name     500 non-null object\n",
      "reg_date      500 non-null object\n",
      "tariff        500 non-null object\n",
      "dtypes: int64(2), object(6)\n",
      "memory usage: 31.4+ KB\n"
     ]
    },
    {
     "data": {
      "text/html": [
       "<div>\n",
       "<style scoped>\n",
       "    .dataframe tbody tr th:only-of-type {\n",
       "        vertical-align: middle;\n",
       "    }\n",
       "\n",
       "    .dataframe tbody tr th {\n",
       "        vertical-align: top;\n",
       "    }\n",
       "\n",
       "    .dataframe thead th {\n",
       "        text-align: right;\n",
       "    }\n",
       "</style>\n",
       "<table border=\"1\" class=\"dataframe\">\n",
       "  <thead>\n",
       "    <tr style=\"text-align: right;\">\n",
       "      <th></th>\n",
       "      <th>user_id</th>\n",
       "      <th>age</th>\n",
       "      <th>churn_date</th>\n",
       "      <th>city</th>\n",
       "      <th>first_name</th>\n",
       "      <th>last_name</th>\n",
       "      <th>reg_date</th>\n",
       "      <th>tariff</th>\n",
       "    </tr>\n",
       "  </thead>\n",
       "  <tbody>\n",
       "    <tr>\n",
       "      <td>0</td>\n",
       "      <td>1000</td>\n",
       "      <td>52</td>\n",
       "      <td>NaN</td>\n",
       "      <td>Краснодар</td>\n",
       "      <td>Рафаил</td>\n",
       "      <td>Верещагин</td>\n",
       "      <td>2018-05-25</td>\n",
       "      <td>ultra</td>\n",
       "    </tr>\n",
       "    <tr>\n",
       "      <td>1</td>\n",
       "      <td>1001</td>\n",
       "      <td>41</td>\n",
       "      <td>NaN</td>\n",
       "      <td>Москва</td>\n",
       "      <td>Иван</td>\n",
       "      <td>Ежов</td>\n",
       "      <td>2018-11-01</td>\n",
       "      <td>smart</td>\n",
       "    </tr>\n",
       "    <tr>\n",
       "      <td>2</td>\n",
       "      <td>1002</td>\n",
       "      <td>59</td>\n",
       "      <td>NaN</td>\n",
       "      <td>Стерлитамак</td>\n",
       "      <td>Евгений</td>\n",
       "      <td>Абрамович</td>\n",
       "      <td>2018-06-17</td>\n",
       "      <td>smart</td>\n",
       "    </tr>\n",
       "    <tr>\n",
       "      <td>3</td>\n",
       "      <td>1003</td>\n",
       "      <td>23</td>\n",
       "      <td>NaN</td>\n",
       "      <td>Москва</td>\n",
       "      <td>Белла</td>\n",
       "      <td>Белякова</td>\n",
       "      <td>2018-08-17</td>\n",
       "      <td>ultra</td>\n",
       "    </tr>\n",
       "    <tr>\n",
       "      <td>4</td>\n",
       "      <td>1004</td>\n",
       "      <td>68</td>\n",
       "      <td>NaN</td>\n",
       "      <td>Новокузнецк</td>\n",
       "      <td>Татьяна</td>\n",
       "      <td>Авдеенко</td>\n",
       "      <td>2018-05-14</td>\n",
       "      <td>ultra</td>\n",
       "    </tr>\n",
       "    <tr>\n",
       "      <td>...</td>\n",
       "      <td>...</td>\n",
       "      <td>...</td>\n",
       "      <td>...</td>\n",
       "      <td>...</td>\n",
       "      <td>...</td>\n",
       "      <td>...</td>\n",
       "      <td>...</td>\n",
       "      <td>...</td>\n",
       "    </tr>\n",
       "    <tr>\n",
       "      <td>495</td>\n",
       "      <td>1495</td>\n",
       "      <td>65</td>\n",
       "      <td>NaN</td>\n",
       "      <td>Иркутск</td>\n",
       "      <td>Авксентий</td>\n",
       "      <td>Фокин</td>\n",
       "      <td>2018-08-28</td>\n",
       "      <td>ultra</td>\n",
       "    </tr>\n",
       "    <tr>\n",
       "      <td>496</td>\n",
       "      <td>1496</td>\n",
       "      <td>36</td>\n",
       "      <td>NaN</td>\n",
       "      <td>Вологда</td>\n",
       "      <td>Трифон</td>\n",
       "      <td>Блохин</td>\n",
       "      <td>2018-01-27</td>\n",
       "      <td>smart</td>\n",
       "    </tr>\n",
       "    <tr>\n",
       "      <td>497</td>\n",
       "      <td>1497</td>\n",
       "      <td>32</td>\n",
       "      <td>NaN</td>\n",
       "      <td>Челябинск</td>\n",
       "      <td>Каролина</td>\n",
       "      <td>Агеева</td>\n",
       "      <td>2018-10-09</td>\n",
       "      <td>smart</td>\n",
       "    </tr>\n",
       "    <tr>\n",
       "      <td>498</td>\n",
       "      <td>1498</td>\n",
       "      <td>68</td>\n",
       "      <td>2018-10-25</td>\n",
       "      <td>Владикавказ</td>\n",
       "      <td>Всеволод</td>\n",
       "      <td>Акимчин</td>\n",
       "      <td>2018-07-19</td>\n",
       "      <td>smart</td>\n",
       "    </tr>\n",
       "    <tr>\n",
       "      <td>499</td>\n",
       "      <td>1499</td>\n",
       "      <td>35</td>\n",
       "      <td>NaN</td>\n",
       "      <td>Пермь</td>\n",
       "      <td>Гектор</td>\n",
       "      <td>Корнилов</td>\n",
       "      <td>2018-09-27</td>\n",
       "      <td>smart</td>\n",
       "    </tr>\n",
       "  </tbody>\n",
       "</table>\n",
       "<p>500 rows × 8 columns</p>\n",
       "</div>"
      ],
      "text/plain": [
       "     user_id  age  churn_date         city first_name  last_name    reg_date  \\\n",
       "0       1000   52         NaN    Краснодар     Рафаил  Верещагин  2018-05-25   \n",
       "1       1001   41         NaN       Москва       Иван       Ежов  2018-11-01   \n",
       "2       1002   59         NaN  Стерлитамак    Евгений  Абрамович  2018-06-17   \n",
       "3       1003   23         NaN       Москва      Белла   Белякова  2018-08-17   \n",
       "4       1004   68         NaN  Новокузнецк    Татьяна   Авдеенко  2018-05-14   \n",
       "..       ...  ...         ...          ...        ...        ...         ...   \n",
       "495     1495   65         NaN      Иркутск  Авксентий      Фокин  2018-08-28   \n",
       "496     1496   36         NaN      Вологда     Трифон     Блохин  2018-01-27   \n",
       "497     1497   32         NaN    Челябинск   Каролина     Агеева  2018-10-09   \n",
       "498     1498   68  2018-10-25  Владикавказ   Всеволод    Акимчин  2018-07-19   \n",
       "499     1499   35         NaN        Пермь     Гектор   Корнилов  2018-09-27   \n",
       "\n",
       "    tariff  \n",
       "0    ultra  \n",
       "1    smart  \n",
       "2    smart  \n",
       "3    ultra  \n",
       "4    ultra  \n",
       "..     ...  \n",
       "495  ultra  \n",
       "496  smart  \n",
       "497  smart  \n",
       "498  smart  \n",
       "499  smart  \n",
       "\n",
       "[500 rows x 8 columns]"
      ]
     },
     "execution_count": 7,
     "metadata": {},
     "output_type": "execute_result"
    }
   ],
   "source": [
    "df_users.info()\n",
    "df_users"
   ]
  },
  {
   "cell_type": "code",
   "execution_count": 1,
   "metadata": {},
   "outputs": [
    {
     "ename": "NameError",
     "evalue": "name 'df_users' is not defined",
     "output_type": "error",
     "traceback": [
      "\u001b[0;31m---------------------------------------------------------------------------\u001b[0m",
      "\u001b[0;31mNameError\u001b[0m                                 Traceback (most recent call last)",
      "\u001b[0;32m<ipython-input-1-afaa9585de43>\u001b[0m in \u001b[0;36m<module>\u001b[0;34m\u001b[0m\n\u001b[0;32m----> 1\u001b[0;31m \u001b[0mdf_users\u001b[0m\u001b[0;34m[\u001b[0m\u001b[0;34m'churn_date'\u001b[0m\u001b[0;34m]\u001b[0m\u001b[0;34m.\u001b[0m\u001b[0mdescribe\u001b[0m\u001b[0;34m(\u001b[0m\u001b[0;34m)\u001b[0m\u001b[0;34m\u001b[0m\u001b[0;34m\u001b[0m\u001b[0m\n\u001b[0m",
      "\u001b[0;31mNameError\u001b[0m: name 'df_users' is not defined"
     ]
    }
   ],
   "source": [
    "df_users['churn_date'].describe()"
   ]
  },
  {
   "cell_type": "markdown",
   "metadata": {},
   "source": [
    "#### Вывод<a id='step4.1'></a>"
   ]
  },
  {
   "cell_type": "markdown",
   "metadata": {},
   "source": [
    "Видим пропущенные значения в таблице users в столбце churn_date, что соответствует тому, что тариф все еще действует для этого пользователя. Необходимо далее проверить данные на выбивающиеся значения и изменить формат столбцов с датой."
   ]
  },
  {
   "cell_type": "markdown",
   "metadata": {},
   "source": [
    "calls:\n",
    "\n",
    "    тип данных столбца call_date не соответствует типу datetime\n",
    "    столбец duration содержит нулевые и дробные значения длительности звонков.\n",
    "    \n",
    "internet:\n",
    "\n",
    "    присутствует ненужный столбец Unnamed: 0, дублирующий индексацию данных\n",
    "    столбец mb_used содержит нулевые и дробные значения объема потраченного интернет-трафика. \n",
    "    тип данных столбца session_date не соответствует требуемому datetime\n",
    "    \n",
    "messages:\n",
    "\n",
    "    тип данных столбца message_date не соответствует требуемому datetime\n",
    "users:\n",
    "\n",
    "    cтолбец churn_date содержит всего лишь 38 записей, остальные - пропуски. Тип данных не соответствует требуемому datetime\n",
    "    тип данных столбца reg_date не соответствует требуемому datetime\n",
    "    \n",
    "Поработаем в этих направлениях"
   ]
  },
  {
   "cell_type": "markdown",
   "metadata": {},
   "source": [
    "## 3. Подготовим данные<a id='step3'></a>"
   ]
  },
  {
   "cell_type": "markdown",
   "metadata": {},
   "source": [
    "#### 3.1. Приведем данные к нужным типам <a id='step3.1'></a>"
   ]
  },
  {
   "cell_type": "code",
   "execution_count": 9,
   "metadata": {},
   "outputs": [],
   "source": [
    "# поменяем тип данных call_date в datetime, используем проверку перевода.\n",
    "try:\n",
    "    df_calls['call_date'] = pd.to_datetime(df_calls['call_date'],format='%Y-%m-%d')\n",
    "except:\n",
    "        print('Ошибка при переводe')"
   ]
  },
  {
   "cell_type": "code",
   "execution_count": 10,
   "metadata": {},
   "outputs": [],
   "source": [
    "# поменяем тип данных session_date в datetime, используем проверку перевода.\n",
    "try:\n",
    "    df_internet['session_date'] = pd.to_datetime(df_internet['session_date'],format='%Y-%m-%d')\n",
    "except:\n",
    "        print('Ошибка при переводe')"
   ]
  },
  {
   "cell_type": "code",
   "execution_count": 11,
   "metadata": {},
   "outputs": [],
   "source": [
    "# поменяем тип данных message_date в datetime, используем проверку перевода.\n",
    "try:\n",
    "    df_messages['message_date'] = pd.to_datetime(df_messages['message_date'],format='%Y-%m-%d')\n",
    "except:\n",
    "        print('Ошибка при переводe')"
   ]
  },
  {
   "cell_type": "code",
   "execution_count": 12,
   "metadata": {},
   "outputs": [],
   "source": [
    "# поменяем тип данных churn_date и reg_dateв datetime, используем проверку перевода.\n",
    "try:\n",
    "    df_users['churn_date'] = pd.to_datetime(df_users['churn_date'],format='%Y-%m-%d')\n",
    "\n",
    "    df_users['reg_date'] = pd.to_datetime(df_users['reg_date'],format='%Y-%m-%d')\n",
    "except:\n",
    "        print('Ошибка при переводe')"
   ]
  },
  {
   "cell_type": "markdown",
   "metadata": {},
   "source": [
    "#### 3.2. Найдем и исправим ошибки в данных <a id='step3.2'></a>"
   ]
  },
  {
   "cell_type": "code",
   "execution_count": 13,
   "metadata": {},
   "outputs": [],
   "source": [
    "# тариф начинает действовать даже при 0 минут звонка и 0 использованных  мегабайт, огруглим все в большую сторону\n",
    "df_calls['duration'] = df_calls['duration'].apply(lambda x: math.ceil(x))\n",
    "df_internet['mb_used'] = df_internet['mb_used'].apply(lambda x: math.ceil(x))\n",
    "# там, где интернет-трафик или звонки имеют нулевое значение, прибавляем 1, так как тариф начал действовать\n",
    "df_calls.loc[df_calls['duration'] == 0, 'duration'] = 1\n",
    "df_internet.loc[df_internet['mb_used'] == 0, 'mb_used'] = 1"
   ]
  },
  {
   "cell_type": "markdown",
   "metadata": {},
   "source": [
    "Звонки длительностью 0 минут могли возникнуть, когда клиент не смог дозвонится до другого абонента. Но при этом тариф действует. Аналогичная ситуация и с интнернетом. Если пользователю не удалось подключиться, тариф все равно начнет действовать."
   ]
  },
  {
   "cell_type": "code",
   "execution_count": 14,
   "metadata": {},
   "outputs": [
    {
     "data": {
      "text/html": [
       "<div>\n",
       "<style scoped>\n",
       "    .dataframe tbody tr th:only-of-type {\n",
       "        vertical-align: middle;\n",
       "    }\n",
       "\n",
       "    .dataframe tbody tr th {\n",
       "        vertical-align: top;\n",
       "    }\n",
       "\n",
       "    .dataframe thead tr th {\n",
       "        text-align: left;\n",
       "    }\n",
       "</style>\n",
       "<table border=\"1\" class=\"dataframe\">\n",
       "  <thead>\n",
       "    <tr>\n",
       "      <th></th>\n",
       "      <th>user_id</th>\n",
       "      <th>call_date</th>\n",
       "      <th colspan=\"2\" halign=\"left\">duration</th>\n",
       "    </tr>\n",
       "    <tr>\n",
       "      <th></th>\n",
       "      <th></th>\n",
       "      <th></th>\n",
       "      <th>count</th>\n",
       "      <th>sum</th>\n",
       "    </tr>\n",
       "  </thead>\n",
       "  <tbody>\n",
       "    <tr>\n",
       "      <td>0</td>\n",
       "      <td>1000</td>\n",
       "      <td>5</td>\n",
       "      <td>22</td>\n",
       "      <td>164</td>\n",
       "    </tr>\n",
       "    <tr>\n",
       "      <td>1</td>\n",
       "      <td>1000</td>\n",
       "      <td>6</td>\n",
       "      <td>43</td>\n",
       "      <td>187</td>\n",
       "    </tr>\n",
       "    <tr>\n",
       "      <td>2</td>\n",
       "      <td>1000</td>\n",
       "      <td>7</td>\n",
       "      <td>47</td>\n",
       "      <td>346</td>\n",
       "    </tr>\n",
       "    <tr>\n",
       "      <td>3</td>\n",
       "      <td>1000</td>\n",
       "      <td>8</td>\n",
       "      <td>52</td>\n",
       "      <td>418</td>\n",
       "    </tr>\n",
       "    <tr>\n",
       "      <td>4</td>\n",
       "      <td>1000</td>\n",
       "      <td>9</td>\n",
       "      <td>58</td>\n",
       "      <td>478</td>\n",
       "    </tr>\n",
       "    <tr>\n",
       "      <td>...</td>\n",
       "      <td>...</td>\n",
       "      <td>...</td>\n",
       "      <td>...</td>\n",
       "      <td>...</td>\n",
       "    </tr>\n",
       "    <tr>\n",
       "      <td>3169</td>\n",
       "      <td>1498</td>\n",
       "      <td>10</td>\n",
       "      <td>41</td>\n",
       "      <td>258</td>\n",
       "    </tr>\n",
       "    <tr>\n",
       "      <td>3170</td>\n",
       "      <td>1499</td>\n",
       "      <td>9</td>\n",
       "      <td>9</td>\n",
       "      <td>71</td>\n",
       "    </tr>\n",
       "    <tr>\n",
       "      <td>3171</td>\n",
       "      <td>1499</td>\n",
       "      <td>10</td>\n",
       "      <td>68</td>\n",
       "      <td>473</td>\n",
       "    </tr>\n",
       "    <tr>\n",
       "      <td>3172</td>\n",
       "      <td>1499</td>\n",
       "      <td>11</td>\n",
       "      <td>74</td>\n",
       "      <td>624</td>\n",
       "    </tr>\n",
       "    <tr>\n",
       "      <td>3173</td>\n",
       "      <td>1499</td>\n",
       "      <td>12</td>\n",
       "      <td>69</td>\n",
       "      <td>505</td>\n",
       "    </tr>\n",
       "  </tbody>\n",
       "</table>\n",
       "<p>3174 rows × 4 columns</p>\n",
       "</div>"
      ],
      "text/plain": [
       "     user_id call_date duration     \n",
       "                          count  sum\n",
       "0       1000         5       22  164\n",
       "1       1000         6       43  187\n",
       "2       1000         7       47  346\n",
       "3       1000         8       52  418\n",
       "4       1000         9       58  478\n",
       "...      ...       ...      ...  ...\n",
       "3169    1498        10       41  258\n",
       "3170    1499         9        9   71\n",
       "3171    1499        10       68  473\n",
       "3172    1499        11       74  624\n",
       "3173    1499        12       69  505\n",
       "\n",
       "[3174 rows x 4 columns]"
      ]
     },
     "metadata": {},
     "output_type": "display_data"
    }
   ],
   "source": [
    "# найдем количество сделанных звонков и израсходованных минут разговора по месяцам для каждого клиента\n",
    "df_calls['call_date'] = pd.DatetimeIndex(df_calls['call_date']).month\n",
    "calls_pivot = pd.pivot_table(df_calls, index=['user_id', 'call_date'], values = ['duration'], aggfunc=('sum', 'count')).reset_index()\n",
    "display(calls_pivot)"
   ]
  },
  {
   "cell_type": "code",
   "execution_count": 15,
   "metadata": {},
   "outputs": [],
   "source": [
    "# переиминуем столбцы и проверим\n",
    "calls_pivot.columns = ['user_id',\n",
    "            'date',\n",
    "            ( 'calls_count'),\n",
    "            ( 'calls_sum')]"
   ]
  },
  {
   "cell_type": "code",
   "execution_count": 16,
   "metadata": {},
   "outputs": [
    {
     "data": {
      "text/html": [
       "<div>\n",
       "<style scoped>\n",
       "    .dataframe tbody tr th:only-of-type {\n",
       "        vertical-align: middle;\n",
       "    }\n",
       "\n",
       "    .dataframe tbody tr th {\n",
       "        vertical-align: top;\n",
       "    }\n",
       "\n",
       "    .dataframe thead th {\n",
       "        text-align: right;\n",
       "    }\n",
       "</style>\n",
       "<table border=\"1\" class=\"dataframe\">\n",
       "  <thead>\n",
       "    <tr style=\"text-align: right;\">\n",
       "      <th></th>\n",
       "      <th>user_id</th>\n",
       "      <th>message_date</th>\n",
       "      <th>id</th>\n",
       "    </tr>\n",
       "  </thead>\n",
       "  <tbody>\n",
       "    <tr>\n",
       "      <td>0</td>\n",
       "      <td>1000</td>\n",
       "      <td>5</td>\n",
       "      <td>22</td>\n",
       "    </tr>\n",
       "    <tr>\n",
       "      <td>1</td>\n",
       "      <td>1000</td>\n",
       "      <td>6</td>\n",
       "      <td>60</td>\n",
       "    </tr>\n",
       "    <tr>\n",
       "      <td>2</td>\n",
       "      <td>1000</td>\n",
       "      <td>7</td>\n",
       "      <td>75</td>\n",
       "    </tr>\n",
       "    <tr>\n",
       "      <td>3</td>\n",
       "      <td>1000</td>\n",
       "      <td>8</td>\n",
       "      <td>81</td>\n",
       "    </tr>\n",
       "    <tr>\n",
       "      <td>4</td>\n",
       "      <td>1000</td>\n",
       "      <td>9</td>\n",
       "      <td>57</td>\n",
       "    </tr>\n",
       "    <tr>\n",
       "      <td>...</td>\n",
       "      <td>...</td>\n",
       "      <td>...</td>\n",
       "      <td>...</td>\n",
       "    </tr>\n",
       "    <tr>\n",
       "      <td>2712</td>\n",
       "      <td>1498</td>\n",
       "      <td>10</td>\n",
       "      <td>42</td>\n",
       "    </tr>\n",
       "    <tr>\n",
       "      <td>2713</td>\n",
       "      <td>1499</td>\n",
       "      <td>9</td>\n",
       "      <td>11</td>\n",
       "    </tr>\n",
       "    <tr>\n",
       "      <td>2714</td>\n",
       "      <td>1499</td>\n",
       "      <td>10</td>\n",
       "      <td>48</td>\n",
       "    </tr>\n",
       "    <tr>\n",
       "      <td>2715</td>\n",
       "      <td>1499</td>\n",
       "      <td>11</td>\n",
       "      <td>59</td>\n",
       "    </tr>\n",
       "    <tr>\n",
       "      <td>2716</td>\n",
       "      <td>1499</td>\n",
       "      <td>12</td>\n",
       "      <td>66</td>\n",
       "    </tr>\n",
       "  </tbody>\n",
       "</table>\n",
       "<p>2717 rows × 3 columns</p>\n",
       "</div>"
      ],
      "text/plain": [
       "      user_id  message_date  id\n",
       "0        1000             5  22\n",
       "1        1000             6  60\n",
       "2        1000             7  75\n",
       "3        1000             8  81\n",
       "4        1000             9  57\n",
       "...       ...           ...  ..\n",
       "2712     1498            10  42\n",
       "2713     1499             9  11\n",
       "2714     1499            10  48\n",
       "2715     1499            11  59\n",
       "2716     1499            12  66\n",
       "\n",
       "[2717 rows x 3 columns]"
      ]
     },
     "metadata": {},
     "output_type": "display_data"
    }
   ],
   "source": [
    "# посчитаем количество отправленных смс по месяцам для каждого пользователя\n",
    "df_messages['message_date'] = pd.DatetimeIndex(df_messages['message_date']).month\n",
    "message_pivot = pd.pivot_table(df_messages, index=['user_id', 'message_date'], values = ['id'], aggfunc='count').reset_index()\n",
    "display(message_pivot)"
   ]
  },
  {
   "cell_type": "code",
   "execution_count": 17,
   "metadata": {},
   "outputs": [
    {
     "name": "stdout",
     "output_type": "stream",
     "text": [
      "      user_id  date  messages_count\n",
      "0        1000     5              22\n",
      "1        1000     6              60\n",
      "2        1000     7              75\n",
      "3        1000     8              81\n",
      "4        1000     9              57\n",
      "...       ...   ...             ...\n",
      "2712     1498    10              42\n",
      "2713     1499     9              11\n",
      "2714     1499    10              48\n",
      "2715     1499    11              59\n",
      "2716     1499    12              66\n",
      "\n",
      "[2717 rows x 3 columns]\n"
     ]
    }
   ],
   "source": [
    "# переиминуем столбцы и проверим\n",
    "message_pivot.columns = ['user_id', 'date', 'messages_count']\n",
    "print(message_pivot)"
   ]
  },
  {
   "cell_type": "code",
   "execution_count": 18,
   "metadata": {},
   "outputs": [],
   "source": [
    "# переведем Мб в Гб\n",
    "df_internet['mb_used'] = df_internet['mb_used']/1024\n",
    "df_internet.columns = ['index', 'id', 'gb_used', 'session_date', 'user_id']"
   ]
  },
  {
   "cell_type": "code",
   "execution_count": 19,
   "metadata": {},
   "outputs": [
    {
     "data": {
      "text/html": [
       "<div>\n",
       "<style scoped>\n",
       "    .dataframe tbody tr th:only-of-type {\n",
       "        vertical-align: middle;\n",
       "    }\n",
       "\n",
       "    .dataframe tbody tr th {\n",
       "        vertical-align: top;\n",
       "    }\n",
       "\n",
       "    .dataframe thead th {\n",
       "        text-align: right;\n",
       "    }\n",
       "</style>\n",
       "<table border=\"1\" class=\"dataframe\">\n",
       "  <thead>\n",
       "    <tr style=\"text-align: right;\">\n",
       "      <th></th>\n",
       "      <th>user_id</th>\n",
       "      <th>session_date</th>\n",
       "      <th>gb_used</th>\n",
       "    </tr>\n",
       "  </thead>\n",
       "  <tbody>\n",
       "    <tr>\n",
       "      <td>0</td>\n",
       "      <td>1000</td>\n",
       "      <td>5</td>\n",
       "      <td>2.204102</td>\n",
       "    </tr>\n",
       "    <tr>\n",
       "      <td>1</td>\n",
       "      <td>1000</td>\n",
       "      <td>6</td>\n",
       "      <td>22.716797</td>\n",
       "    </tr>\n",
       "    <tr>\n",
       "      <td>2</td>\n",
       "      <td>1000</td>\n",
       "      <td>7</td>\n",
       "      <td>13.688477</td>\n",
       "    </tr>\n",
       "    <tr>\n",
       "      <td>3</td>\n",
       "      <td>1000</td>\n",
       "      <td>8</td>\n",
       "      <td>13.742188</td>\n",
       "    </tr>\n",
       "    <tr>\n",
       "      <td>4</td>\n",
       "      <td>1000</td>\n",
       "      <td>9</td>\n",
       "      <td>14.241211</td>\n",
       "    </tr>\n",
       "    <tr>\n",
       "      <td>...</td>\n",
       "      <td>...</td>\n",
       "      <td>...</td>\n",
       "      <td>...</td>\n",
       "    </tr>\n",
       "    <tr>\n",
       "      <td>3198</td>\n",
       "      <td>1498</td>\n",
       "      <td>10</td>\n",
       "      <td>20.130859</td>\n",
       "    </tr>\n",
       "    <tr>\n",
       "      <td>3199</td>\n",
       "      <td>1499</td>\n",
       "      <td>9</td>\n",
       "      <td>1.805664</td>\n",
       "    </tr>\n",
       "    <tr>\n",
       "      <td>3200</td>\n",
       "      <td>1499</td>\n",
       "      <td>10</td>\n",
       "      <td>17.406250</td>\n",
       "    </tr>\n",
       "    <tr>\n",
       "      <td>3201</td>\n",
       "      <td>1499</td>\n",
       "      <td>11</td>\n",
       "      <td>17.572266</td>\n",
       "    </tr>\n",
       "    <tr>\n",
       "      <td>3202</td>\n",
       "      <td>1499</td>\n",
       "      <td>12</td>\n",
       "      <td>12.775391</td>\n",
       "    </tr>\n",
       "  </tbody>\n",
       "</table>\n",
       "<p>3203 rows × 3 columns</p>\n",
       "</div>"
      ],
      "text/plain": [
       "      user_id  session_date    gb_used\n",
       "0        1000             5   2.204102\n",
       "1        1000             6  22.716797\n",
       "2        1000             7  13.688477\n",
       "3        1000             8  13.742188\n",
       "4        1000             9  14.241211\n",
       "...       ...           ...        ...\n",
       "3198     1498            10  20.130859\n",
       "3199     1499             9   1.805664\n",
       "3200     1499            10  17.406250\n",
       "3201     1499            11  17.572266\n",
       "3202     1499            12  12.775391\n",
       "\n",
       "[3203 rows x 3 columns]"
      ]
     },
     "metadata": {},
     "output_type": "display_data"
    }
   ],
   "source": [
    "# распределим количество интернет-сессий по месяцам\n",
    "df_internet['session_date'] = pd.DatetimeIndex(df_internet['session_date']).month\n",
    "internet_pivot = pd.pivot_table(df_internet, index=['user_id', 'session_date'], values = ['gb_used'], aggfunc='sum').reset_index()\n",
    "display(internet_pivot)"
   ]
  },
  {
   "cell_type": "code",
   "execution_count": 20,
   "metadata": {},
   "outputs": [
    {
     "name": "stdout",
     "output_type": "stream",
     "text": [
      "      user_id  date    gb_used\n",
      "0        1000     5   2.204102\n",
      "1        1000     6  22.716797\n",
      "2        1000     7  13.688477\n",
      "3        1000     8  13.742188\n",
      "4        1000     9  14.241211\n",
      "...       ...   ...        ...\n",
      "3198     1498    10  20.130859\n",
      "3199     1499     9   1.805664\n",
      "3200     1499    10  17.406250\n",
      "3201     1499    11  17.572266\n",
      "3202     1499    12  12.775391\n",
      "\n",
      "[3203 rows x 3 columns]\n"
     ]
    }
   ],
   "source": [
    "# переиминуем столбцы и проверим\n",
    "internet_pivot.columns = ['user_id', 'date', 'gb_used']\n",
    "print(internet_pivot)"
   ]
  },
  {
   "cell_type": "code",
   "execution_count": 21,
   "metadata": {},
   "outputs": [],
   "source": [
    "# объединим таблицы звонков и смс\n",
    "df = calls_pivot.merge(message_pivot, on=['user_id', 'date'],  how='outer')"
   ]
  },
  {
   "cell_type": "code",
   "execution_count": 22,
   "metadata": {},
   "outputs": [],
   "source": [
    "# объединим полученную таблицу с таблицей использованного интернета\n",
    "df = df.merge(internet_pivot, on=['user_id', 'date'], how='outer')"
   ]
  },
  {
   "cell_type": "code",
   "execution_count": 23,
   "metadata": {},
   "outputs": [],
   "source": [
    "# в таблице тарифов переведем МБ в ГБ\n",
    "df_tariffs['mb_per_month_included'] = df_tariffs['mb_per_month_included']/1024\n",
    "df_tariffs.columns = ['messages_included', 'gb_per_month_included', 'minutes_included',\n",
    "       'rub_monthly_fee', 'rub_per_gb', 'rub_per_message', 'rub_per_minute',\n",
    "       'tariff']"
   ]
  },
  {
   "cell_type": "code",
   "execution_count": 24,
   "metadata": {},
   "outputs": [],
   "source": [
    "# объединим полученную таблицу с таблицей пользователей\n",
    "df = df.merge(df_users, on=['user_id'], how='outer')"
   ]
  },
  {
   "cell_type": "code",
   "execution_count": 25,
   "metadata": {},
   "outputs": [],
   "source": [
    "# уберем ненужные для анализа столбцы\n",
    "df.drop(['age', 'first_name', 'last_name', 'churn_date', 'reg_date'], axis='columns', inplace=True)"
   ]
  },
  {
   "cell_type": "code",
   "execution_count": 26,
   "metadata": {},
   "outputs": [],
   "source": [
    "# объединим общую таблицу с информацией по тарифам\n",
    "df= df.merge(df_tariffs, on=['tariff'],  how='outer')"
   ]
  },
  {
   "cell_type": "code",
   "execution_count": 27,
   "metadata": {},
   "outputs": [],
   "source": [
    "# заполним пропуски нулями, так как в некоторые месяцы, например, пользователь мог говорить по телефону, но не отправлять смс\n",
    "columns = ['calls_count', 'calls_sum','messages_count','gb_used']\n",
    "for col in columns:\n",
    "     df[col] = df[col].fillna(value='0').astype('int')"
   ]
  },
  {
   "cell_type": "code",
   "execution_count": 28,
   "metadata": {},
   "outputs": [
    {
     "data": {
      "text/html": [
       "<div>\n",
       "<style scoped>\n",
       "    .dataframe tbody tr th:only-of-type {\n",
       "        vertical-align: middle;\n",
       "    }\n",
       "\n",
       "    .dataframe tbody tr th {\n",
       "        vertical-align: top;\n",
       "    }\n",
       "\n",
       "    .dataframe thead th {\n",
       "        text-align: right;\n",
       "    }\n",
       "</style>\n",
       "<table border=\"1\" class=\"dataframe\">\n",
       "  <thead>\n",
       "    <tr style=\"text-align: right;\">\n",
       "      <th></th>\n",
       "      <th>user_id</th>\n",
       "      <th>date</th>\n",
       "      <th>calls_count</th>\n",
       "      <th>calls_sum</th>\n",
       "      <th>messages_count</th>\n",
       "      <th>gb_used</th>\n",
       "      <th>city</th>\n",
       "      <th>tariff</th>\n",
       "      <th>messages_included</th>\n",
       "      <th>gb_per_month_included</th>\n",
       "      <th>minutes_included</th>\n",
       "      <th>rub_monthly_fee</th>\n",
       "      <th>rub_per_gb</th>\n",
       "      <th>rub_per_message</th>\n",
       "      <th>rub_per_minute</th>\n",
       "      <th>rev</th>\n",
       "    </tr>\n",
       "  </thead>\n",
       "  <tbody>\n",
       "    <tr>\n",
       "      <td>0</td>\n",
       "      <td>1000</td>\n",
       "      <td>5.0</td>\n",
       "      <td>22</td>\n",
       "      <td>164</td>\n",
       "      <td>22</td>\n",
       "      <td>2</td>\n",
       "      <td>Краснодар</td>\n",
       "      <td>ultra</td>\n",
       "      <td>1000</td>\n",
       "      <td>30.0</td>\n",
       "      <td>3000</td>\n",
       "      <td>1950</td>\n",
       "      <td>150</td>\n",
       "      <td>1</td>\n",
       "      <td>1</td>\n",
       "      <td>1950</td>\n",
       "    </tr>\n",
       "    <tr>\n",
       "      <td>1</td>\n",
       "      <td>1000</td>\n",
       "      <td>6.0</td>\n",
       "      <td>43</td>\n",
       "      <td>187</td>\n",
       "      <td>60</td>\n",
       "      <td>22</td>\n",
       "      <td>Краснодар</td>\n",
       "      <td>ultra</td>\n",
       "      <td>1000</td>\n",
       "      <td>30.0</td>\n",
       "      <td>3000</td>\n",
       "      <td>1950</td>\n",
       "      <td>150</td>\n",
       "      <td>1</td>\n",
       "      <td>1</td>\n",
       "      <td>1950</td>\n",
       "    </tr>\n",
       "    <tr>\n",
       "      <td>2</td>\n",
       "      <td>1000</td>\n",
       "      <td>7.0</td>\n",
       "      <td>47</td>\n",
       "      <td>346</td>\n",
       "      <td>75</td>\n",
       "      <td>13</td>\n",
       "      <td>Краснодар</td>\n",
       "      <td>ultra</td>\n",
       "      <td>1000</td>\n",
       "      <td>30.0</td>\n",
       "      <td>3000</td>\n",
       "      <td>1950</td>\n",
       "      <td>150</td>\n",
       "      <td>1</td>\n",
       "      <td>1</td>\n",
       "      <td>1950</td>\n",
       "    </tr>\n",
       "    <tr>\n",
       "      <td>3</td>\n",
       "      <td>1000</td>\n",
       "      <td>8.0</td>\n",
       "      <td>52</td>\n",
       "      <td>418</td>\n",
       "      <td>81</td>\n",
       "      <td>13</td>\n",
       "      <td>Краснодар</td>\n",
       "      <td>ultra</td>\n",
       "      <td>1000</td>\n",
       "      <td>30.0</td>\n",
       "      <td>3000</td>\n",
       "      <td>1950</td>\n",
       "      <td>150</td>\n",
       "      <td>1</td>\n",
       "      <td>1</td>\n",
       "      <td>1950</td>\n",
       "    </tr>\n",
       "    <tr>\n",
       "      <td>4</td>\n",
       "      <td>1000</td>\n",
       "      <td>9.0</td>\n",
       "      <td>58</td>\n",
       "      <td>478</td>\n",
       "      <td>57</td>\n",
       "      <td>14</td>\n",
       "      <td>Краснодар</td>\n",
       "      <td>ultra</td>\n",
       "      <td>1000</td>\n",
       "      <td>30.0</td>\n",
       "      <td>3000</td>\n",
       "      <td>1950</td>\n",
       "      <td>150</td>\n",
       "      <td>1</td>\n",
       "      <td>1</td>\n",
       "      <td>1950</td>\n",
       "    </tr>\n",
       "    <tr>\n",
       "      <td>...</td>\n",
       "      <td>...</td>\n",
       "      <td>...</td>\n",
       "      <td>...</td>\n",
       "      <td>...</td>\n",
       "      <td>...</td>\n",
       "      <td>...</td>\n",
       "      <td>...</td>\n",
       "      <td>...</td>\n",
       "      <td>...</td>\n",
       "      <td>...</td>\n",
       "      <td>...</td>\n",
       "      <td>...</td>\n",
       "      <td>...</td>\n",
       "      <td>...</td>\n",
       "      <td>...</td>\n",
       "      <td>...</td>\n",
       "    </tr>\n",
       "    <tr>\n",
       "      <td>3211</td>\n",
       "      <td>1489</td>\n",
       "      <td>9.0</td>\n",
       "      <td>0</td>\n",
       "      <td>0</td>\n",
       "      <td>32</td>\n",
       "      <td>16</td>\n",
       "      <td>Санкт-Петербург</td>\n",
       "      <td>smart</td>\n",
       "      <td>50</td>\n",
       "      <td>15.0</td>\n",
       "      <td>500</td>\n",
       "      <td>550</td>\n",
       "      <td>200</td>\n",
       "      <td>3</td>\n",
       "      <td>3</td>\n",
       "      <td>750</td>\n",
       "    </tr>\n",
       "    <tr>\n",
       "      <td>3212</td>\n",
       "      <td>1489</td>\n",
       "      <td>10.0</td>\n",
       "      <td>0</td>\n",
       "      <td>0</td>\n",
       "      <td>21</td>\n",
       "      <td>19</td>\n",
       "      <td>Санкт-Петербург</td>\n",
       "      <td>smart</td>\n",
       "      <td>50</td>\n",
       "      <td>15.0</td>\n",
       "      <td>500</td>\n",
       "      <td>550</td>\n",
       "      <td>200</td>\n",
       "      <td>3</td>\n",
       "      <td>3</td>\n",
       "      <td>750</td>\n",
       "    </tr>\n",
       "    <tr>\n",
       "      <td>3213</td>\n",
       "      <td>1489</td>\n",
       "      <td>11.0</td>\n",
       "      <td>0</td>\n",
       "      <td>0</td>\n",
       "      <td>20</td>\n",
       "      <td>17</td>\n",
       "      <td>Санкт-Петербург</td>\n",
       "      <td>smart</td>\n",
       "      <td>50</td>\n",
       "      <td>15.0</td>\n",
       "      <td>500</td>\n",
       "      <td>550</td>\n",
       "      <td>200</td>\n",
       "      <td>3</td>\n",
       "      <td>3</td>\n",
       "      <td>750</td>\n",
       "    </tr>\n",
       "    <tr>\n",
       "      <td>3214</td>\n",
       "      <td>1489</td>\n",
       "      <td>12.0</td>\n",
       "      <td>0</td>\n",
       "      <td>0</td>\n",
       "      <td>35</td>\n",
       "      <td>16</td>\n",
       "      <td>Санкт-Петербург</td>\n",
       "      <td>smart</td>\n",
       "      <td>50</td>\n",
       "      <td>15.0</td>\n",
       "      <td>500</td>\n",
       "      <td>550</td>\n",
       "      <td>200</td>\n",
       "      <td>3</td>\n",
       "      <td>3</td>\n",
       "      <td>750</td>\n",
       "    </tr>\n",
       "    <tr>\n",
       "      <td>3215</td>\n",
       "      <td>1371</td>\n",
       "      <td>NaN</td>\n",
       "      <td>0</td>\n",
       "      <td>0</td>\n",
       "      <td>0</td>\n",
       "      <td>0</td>\n",
       "      <td>Омск</td>\n",
       "      <td>smart</td>\n",
       "      <td>50</td>\n",
       "      <td>15.0</td>\n",
       "      <td>500</td>\n",
       "      <td>550</td>\n",
       "      <td>200</td>\n",
       "      <td>3</td>\n",
       "      <td>3</td>\n",
       "      <td>550</td>\n",
       "    </tr>\n",
       "  </tbody>\n",
       "</table>\n",
       "<p>3216 rows × 16 columns</p>\n",
       "</div>"
      ],
      "text/plain": [
       "      user_id  date  calls_count  calls_sum  messages_count  gb_used  \\\n",
       "0        1000   5.0           22        164              22        2   \n",
       "1        1000   6.0           43        187              60       22   \n",
       "2        1000   7.0           47        346              75       13   \n",
       "3        1000   8.0           52        418              81       13   \n",
       "4        1000   9.0           58        478              57       14   \n",
       "...       ...   ...          ...        ...             ...      ...   \n",
       "3211     1489   9.0            0          0              32       16   \n",
       "3212     1489  10.0            0          0              21       19   \n",
       "3213     1489  11.0            0          0              20       17   \n",
       "3214     1489  12.0            0          0              35       16   \n",
       "3215     1371   NaN            0          0               0        0   \n",
       "\n",
       "                 city tariff  messages_included  gb_per_month_included  \\\n",
       "0           Краснодар  ultra               1000                   30.0   \n",
       "1           Краснодар  ultra               1000                   30.0   \n",
       "2           Краснодар  ultra               1000                   30.0   \n",
       "3           Краснодар  ultra               1000                   30.0   \n",
       "4           Краснодар  ultra               1000                   30.0   \n",
       "...               ...    ...                ...                    ...   \n",
       "3211  Санкт-Петербург  smart                 50                   15.0   \n",
       "3212  Санкт-Петербург  smart                 50                   15.0   \n",
       "3213  Санкт-Петербург  smart                 50                   15.0   \n",
       "3214  Санкт-Петербург  smart                 50                   15.0   \n",
       "3215             Омск  smart                 50                   15.0   \n",
       "\n",
       "      minutes_included  rub_monthly_fee  rub_per_gb  rub_per_message  \\\n",
       "0                 3000             1950         150                1   \n",
       "1                 3000             1950         150                1   \n",
       "2                 3000             1950         150                1   \n",
       "3                 3000             1950         150                1   \n",
       "4                 3000             1950         150                1   \n",
       "...                ...              ...         ...              ...   \n",
       "3211               500              550         200                3   \n",
       "3212               500              550         200                3   \n",
       "3213               500              550         200                3   \n",
       "3214               500              550         200                3   \n",
       "3215               500              550         200                3   \n",
       "\n",
       "      rub_per_minute   rev  \n",
       "0                  1  1950  \n",
       "1                  1  1950  \n",
       "2                  1  1950  \n",
       "3                  1  1950  \n",
       "4                  1  1950  \n",
       "...              ...   ...  \n",
       "3211               3   750  \n",
       "3212               3   750  \n",
       "3213               3   750  \n",
       "3214               3   750  \n",
       "3215               3   550  \n",
       "\n",
       "[3216 rows x 16 columns]"
      ]
     },
     "execution_count": 28,
     "metadata": {},
     "output_type": "execute_result"
    }
   ],
   "source": [
    "# посчитаем помесячную выручку с каждого пользователя\n",
    "def monthly_revenue (df):\n",
    "    call=df['calls_sum']\n",
    "    mess=df['messages_count']\n",
    "    inet=df['gb_used']\n",
    "    abonent =df['rub_monthly_fee']\n",
    "    \n",
    "    if (call-df['minutes_included'])>0:\n",
    "        delta_min=math.ceil((call-df['minutes_included']))*df['rub_per_minute']\n",
    "    else:\n",
    "        delta_min=0\n",
    "        \n",
    "    if (mess-df['messages_included'])>0:\n",
    "        delta_mess = (mess-df['messages_included']) * df['rub_per_message']\n",
    "    else:\n",
    "        delta_mess=0\n",
    "\n",
    "    if (inet-df['gb_per_month_included'])>0:\n",
    "        delta_data = math.ceil(((inet-df['gb_per_month_included'])/1000))*df['rub_per_gb']\n",
    "        \n",
    "    else:\n",
    "        delta_data=0\n",
    "       \n",
    "    total = abonent + delta_min + delta_mess + delta_data   \n",
    "\n",
    "    return total\n",
    "    \n",
    "df['rev'] = df.apply(monthly_revenue, axis=1)\n",
    "df"
   ]
  },
  {
   "cell_type": "markdown",
   "metadata": {},
   "source": [
    "#### Вывод<a id='step4.1'></a>"
   ]
  },
  {
   "cell_type": "markdown",
   "metadata": {},
   "source": [
    "В результате предобработки данных:\n",
    "Произведена замена типа данных для столбцов с датой, иначе как делать выборку\n",
    "Звонки длительностью 0 минут и объем интернет-сессий 0 были заменены, иначе можем потерять данные.\n",
    "Значения количества минут звонков и мб интернет трафика были округлены вверх до 1, формат данных изменен на целочисленный\n",
    "Данные всех таблиц были объединены, проведен расчет общей выручки для каждого клиента по месяцам\n",
    "Переименовали столбцы, иначе можно напутать данные.\n",
    "Перевели мб в гб для облегчения понимания порядка цифр.\n",
    "Убрали ненужные для анализа столбцы (возраст, имя и фамилию, дату регистрации и отказа клиента)"
   ]
  },
  {
   "cell_type": "markdown",
   "metadata": {},
   "source": [
    "## 4. Проанализируем данные<a id='step4'></a>"
   ]
  },
  {
   "cell_type": "markdown",
   "metadata": {},
   "source": [
    "#### 4.1. Зависимость количества минут разговора по месяцам и тарифам <a id='step4.1'></a>"
   ]
  },
  {
   "cell_type": "code",
   "execution_count": 29,
   "metadata": {},
   "outputs": [
    {
     "data": {
      "text/plain": [
       "<matplotlib.legend.Legend at 0x7ff2c16f4ad0>"
      ]
     },
     "execution_count": 29,
     "metadata": {},
     "output_type": "execute_result"
    },
    {
     "data": {
      "image/png": "[encoded data removed]",
      "text/plain": [
       "<Figure size 432x288 with 1 Axes>"
      ]
     },
     "metadata": {
      "needs_background": "light"
     },
     "output_type": "display_data"
    }
   ],
   "source": [
    "# посмотрим зависимости количества минут разговора по месяцам и тарифам\n",
    "df_smart = df.query('tariff == \"smart\"')\n",
    "df_ultra = df.query('tariff == \"ultra\"')\n",
    "# построим гистограммы\n",
    "plt.suptitle(\"Зависимость количества минут разговора по месяцам и тарифам\")\n",
    "df_smart['calls_sum'].hist(color= 'b', range = (0,1500), bins = 12)\n",
    "df_ultra['calls_sum'].hist(alpha = 0.5, color= 'g', range = (0,1500), bins = 12)\n",
    "plt.legend(['smart', 'ultra'])"
   ]
  },
  {
   "cell_type": "markdown",
   "metadata": {},
   "source": [
    "Чаще всего на тарифе смарт пользователи тратят примерно 400-500 минут в месяц, а пользователи тарифа ультра в широком диапазоне от 0 до 750 минут."
   ]
  },
  {
   "cell_type": "code",
   "execution_count": 30,
   "metadata": {},
   "outputs": [
    {
     "data": {
      "text/plain": [
       "Text(0.5, 0, 'Тариф')"
      ]
     },
     "execution_count": 30,
     "metadata": {},
     "output_type": "execute_result"
    },
    {
     "data": {
      "image/png": "[encoded data removed]",
      "text/plain": [
       "<Figure size 720x432 with 1 Axes>"
      ]
     },
     "metadata": {
      "needs_background": "light"
     },
     "output_type": "display_data"
    }
   ],
   "source": [
    "import warnings\n",
    "warnings.filterwarnings('ignore')\n",
    "\n",
    "df.boxplot(column='calls_sum', by='tariff', figsize=(10, 6))\n",
    "plt.ylabel('Длительность звонков')\n",
    "plt.xlabel('Тариф')"
   ]
  },
  {
   "cell_type": "code",
   "execution_count": 31,
   "metadata": {},
   "outputs": [
    {
     "data": {
      "text/html": [
       "<div>\n",
       "<style scoped>\n",
       "    .dataframe tbody tr th:only-of-type {\n",
       "        vertical-align: middle;\n",
       "    }\n",
       "\n",
       "    .dataframe tbody tr th {\n",
       "        vertical-align: top;\n",
       "    }\n",
       "\n",
       "    .dataframe thead th {\n",
       "        text-align: right;\n",
       "    }\n",
       "</style>\n",
       "<table border=\"1\" class=\"dataframe\">\n",
       "  <thead>\n",
       "    <tr style=\"text-align: right;\">\n",
       "      <th>tariff</th>\n",
       "      <th>date</th>\n",
       "      <th>smart</th>\n",
       "      <th>ultra</th>\n",
       "    </tr>\n",
       "  </thead>\n",
       "  <tbody>\n",
       "    <tr>\n",
       "      <td>0</td>\n",
       "      <td>1.0</td>\n",
       "      <td>209.647059</td>\n",
       "      <td>440.888889</td>\n",
       "    </tr>\n",
       "    <tr>\n",
       "      <td>1</td>\n",
       "      <td>2.0</td>\n",
       "      <td>306.310345</td>\n",
       "      <td>304.666667</td>\n",
       "    </tr>\n",
       "    <tr>\n",
       "      <td>2</td>\n",
       "      <td>3.0</td>\n",
       "      <td>400.532468</td>\n",
       "      <td>503.081081</td>\n",
       "    </tr>\n",
       "    <tr>\n",
       "      <td>3</td>\n",
       "      <td>4.0</td>\n",
       "      <td>377.000000</td>\n",
       "      <td>470.072727</td>\n",
       "    </tr>\n",
       "    <tr>\n",
       "      <td>4</td>\n",
       "      <td>5.0</td>\n",
       "      <td>398.404255</td>\n",
       "      <td>524.865672</td>\n",
       "    </tr>\n",
       "    <tr>\n",
       "      <td>5</td>\n",
       "      <td>6.0</td>\n",
       "      <td>406.701220</td>\n",
       "      <td>492.428571</td>\n",
       "    </tr>\n",
       "    <tr>\n",
       "      <td>6</td>\n",
       "      <td>7.0</td>\n",
       "      <td>419.288557</td>\n",
       "      <td>560.296703</td>\n",
       "    </tr>\n",
       "    <tr>\n",
       "      <td>7</td>\n",
       "      <td>8.0</td>\n",
       "      <td>433.191489</td>\n",
       "      <td>524.570093</td>\n",
       "    </tr>\n",
       "    <tr>\n",
       "      <td>8</td>\n",
       "      <td>9.0</td>\n",
       "      <td>440.080769</td>\n",
       "      <td>553.643478</td>\n",
       "    </tr>\n",
       "    <tr>\n",
       "      <td>9</td>\n",
       "      <td>10.0</td>\n",
       "      <td>438.295918</td>\n",
       "      <td>572.829268</td>\n",
       "    </tr>\n",
       "    <tr>\n",
       "      <td>10</td>\n",
       "      <td>11.0</td>\n",
       "      <td>447.620253</td>\n",
       "      <td>555.805970</td>\n",
       "    </tr>\n",
       "    <tr>\n",
       "      <td>11</td>\n",
       "      <td>12.0</td>\n",
       "      <td>491.418398</td>\n",
       "      <td>609.129496</td>\n",
       "    </tr>\n",
       "  </tbody>\n",
       "</table>\n",
       "</div>"
      ],
      "text/plain": [
       "tariff  date       smart       ultra\n",
       "0        1.0  209.647059  440.888889\n",
       "1        2.0  306.310345  304.666667\n",
       "2        3.0  400.532468  503.081081\n",
       "3        4.0  377.000000  470.072727\n",
       "4        5.0  398.404255  524.865672\n",
       "5        6.0  406.701220  492.428571\n",
       "6        7.0  419.288557  560.296703\n",
       "7        8.0  433.191489  524.570093\n",
       "8        9.0  440.080769  553.643478\n",
       "9       10.0  438.295918  572.829268\n",
       "10      11.0  447.620253  555.805970\n",
       "11      12.0  491.418398  609.129496"
      ]
     },
     "execution_count": 31,
     "metadata": {},
     "output_type": "execute_result"
    }
   ],
   "source": [
    "# посчитаем среднее для количества минут разговора по месяцам\n",
    "calls_mean = df.pivot_table(index='date', columns = 'tariff', values='calls_sum', aggfunc = 'mean').reset_index()\n",
    "calls_mean"
   ]
  },
  {
   "cell_type": "code",
   "execution_count": 32,
   "metadata": {},
   "outputs": [
    {
     "data": {
      "text/plain": [
       "Text(0.5, 0.98, 'Распределение среднего количества минут разговора, по месяцам')"
      ]
     },
     "execution_count": 32,
     "metadata": {},
     "output_type": "execute_result"
    },
    {
     "data": {
      "image/png": "[encoded data removed]",
      "text/plain": [
       "<Figure size 432x288 with 2 Axes>"
      ]
     },
     "metadata": {
      "needs_background": "light"
     },
     "output_type": "display_data"
    }
   ],
   "source": [
    "# визуализируем\n",
    "sns.heatmap(calls_mean)\n",
    "plt.suptitle(\"Распределение среднего количества минут разговора, по месяцам\")"
   ]
  },
  {
   "cell_type": "markdown",
   "metadata": {},
   "source": [
    "Видно, что в среднем пользователи тарифа ультра больше говорят по телефону, примерно минут на 100 в месяц,исключение в январе, когда пользователи обоих тарифов говорили примерно поровну."
   ]
  },
  {
   "cell_type": "code",
   "execution_count": 33,
   "metadata": {},
   "outputs": [
    {
     "data": {
      "text/html": [
       "<div>\n",
       "<style scoped>\n",
       "    .dataframe tbody tr th:only-of-type {\n",
       "        vertical-align: middle;\n",
       "    }\n",
       "\n",
       "    .dataframe tbody tr th {\n",
       "        vertical-align: top;\n",
       "    }\n",
       "\n",
       "    .dataframe thead th {\n",
       "        text-align: right;\n",
       "    }\n",
       "</style>\n",
       "<table border=\"1\" class=\"dataframe\">\n",
       "  <thead>\n",
       "    <tr style=\"text-align: right;\">\n",
       "      <th>tariff</th>\n",
       "      <th>date</th>\n",
       "      <th>smart</th>\n",
       "      <th>ultra</th>\n",
       "    </tr>\n",
       "  </thead>\n",
       "  <tbody>\n",
       "    <tr>\n",
       "      <td>0</td>\n",
       "      <td>1.0</td>\n",
       "      <td>24497.05</td>\n",
       "      <td>69675.21</td>\n",
       "    </tr>\n",
       "    <tr>\n",
       "      <td>1</td>\n",
       "      <td>2.0</td>\n",
       "      <td>37374.28</td>\n",
       "      <td>88728.47</td>\n",
       "    </tr>\n",
       "    <tr>\n",
       "      <td>2</td>\n",
       "      <td>3.0</td>\n",
       "      <td>38023.29</td>\n",
       "      <td>113935.91</td>\n",
       "    </tr>\n",
       "    <tr>\n",
       "      <td>3</td>\n",
       "      <td>4.0</td>\n",
       "      <td>36194.18</td>\n",
       "      <td>73899.78</td>\n",
       "    </tr>\n",
       "    <tr>\n",
       "      <td>4</td>\n",
       "      <td>5.0</td>\n",
       "      <td>36100.72</td>\n",
       "      <td>87125.19</td>\n",
       "    </tr>\n",
       "    <tr>\n",
       "      <td>5</td>\n",
       "      <td>6.0</td>\n",
       "      <td>31959.93</td>\n",
       "      <td>94514.84</td>\n",
       "    </tr>\n",
       "    <tr>\n",
       "      <td>6</td>\n",
       "      <td>7.0</td>\n",
       "      <td>33689.66</td>\n",
       "      <td>98493.11</td>\n",
       "    </tr>\n",
       "    <tr>\n",
       "      <td>7</td>\n",
       "      <td>8.0</td>\n",
       "      <td>36305.92</td>\n",
       "      <td>102010.96</td>\n",
       "    </tr>\n",
       "    <tr>\n",
       "      <td>8</td>\n",
       "      <td>9.0</td>\n",
       "      <td>35061.90</td>\n",
       "      <td>109853.64</td>\n",
       "    </tr>\n",
       "    <tr>\n",
       "      <td>9</td>\n",
       "      <td>10.0</td>\n",
       "      <td>36923.65</td>\n",
       "      <td>111279.44</td>\n",
       "    </tr>\n",
       "    <tr>\n",
       "      <td>10</td>\n",
       "      <td>11.0</td>\n",
       "      <td>33230.07</td>\n",
       "      <td>100586.78</td>\n",
       "    </tr>\n",
       "    <tr>\n",
       "      <td>11</td>\n",
       "      <td>12.0</td>\n",
       "      <td>41329.03</td>\n",
       "      <td>122741.36</td>\n",
       "    </tr>\n",
       "  </tbody>\n",
       "</table>\n",
       "</div>"
      ],
      "text/plain": [
       "tariff  date     smart      ultra\n",
       "0        1.0  24497.05   69675.21\n",
       "1        2.0  37374.28   88728.47\n",
       "2        3.0  38023.29  113935.91\n",
       "3        4.0  36194.18   73899.78\n",
       "4        5.0  36100.72   87125.19\n",
       "5        6.0  31959.93   94514.84\n",
       "6        7.0  33689.66   98493.11\n",
       "7        8.0  36305.92  102010.96\n",
       "8        9.0  35061.90  109853.64\n",
       "9       10.0  36923.65  111279.44\n",
       "10      11.0  33230.07  100586.78\n",
       "11      12.0  41329.03  122741.36"
      ]
     },
     "execution_count": 33,
     "metadata": {},
     "output_type": "execute_result"
    }
   ],
   "source": [
    "# посчитаем дисперсию для количества минут разговора по месяца\n",
    "calls_var = df.pivot_table(index='date', columns = 'tariff', values='calls_sum', aggfunc=(lambda x: round(np.var(x),2))).reset_index()\n",
    "calls_var"
   ]
  },
  {
   "cell_type": "code",
   "execution_count": 34,
   "metadata": {},
   "outputs": [
    {
     "data": {
      "text/plain": [
       "Text(0.5, 0.98, 'Распределение дисперсии количества минут разговора, по месяцам')"
      ]
     },
     "execution_count": 34,
     "metadata": {},
     "output_type": "execute_result"
    },
    {
     "data": {
      "image/png": "[encoded data removed]",
      "text/plain": [
       "<Figure size 432x288 with 2 Axes>"
      ]
     },
     "metadata": {
      "needs_background": "light"
     },
     "output_type": "display_data"
    }
   ],
   "source": [
    "# визуализируем\n",
    "sns.heatmap(calls_var)\n",
    "plt.suptitle(\"Распределение дисперсии количества минут разговора, по месяцам\")"
   ]
  },
  {
   "cell_type": "code",
   "execution_count": 35,
   "metadata": {},
   "outputs": [
    {
     "data": {
      "text/html": [
       "<div>\n",
       "<style scoped>\n",
       "    .dataframe tbody tr th:only-of-type {\n",
       "        vertical-align: middle;\n",
       "    }\n",
       "\n",
       "    .dataframe tbody tr th {\n",
       "        vertical-align: top;\n",
       "    }\n",
       "\n",
       "    .dataframe thead th {\n",
       "        text-align: right;\n",
       "    }\n",
       "</style>\n",
       "<table border=\"1\" class=\"dataframe\">\n",
       "  <thead>\n",
       "    <tr style=\"text-align: right;\">\n",
       "      <th>tariff</th>\n",
       "      <th>date</th>\n",
       "      <th>smart</th>\n",
       "      <th>ultra</th>\n",
       "    </tr>\n",
       "  </thead>\n",
       "  <tbody>\n",
       "    <tr>\n",
       "      <td>0</td>\n",
       "      <td>1.0</td>\n",
       "      <td>156.52</td>\n",
       "      <td>263.96</td>\n",
       "    </tr>\n",
       "    <tr>\n",
       "      <td>1</td>\n",
       "      <td>2.0</td>\n",
       "      <td>193.32</td>\n",
       "      <td>297.87</td>\n",
       "    </tr>\n",
       "    <tr>\n",
       "      <td>2</td>\n",
       "      <td>3.0</td>\n",
       "      <td>195.00</td>\n",
       "      <td>337.54</td>\n",
       "    </tr>\n",
       "    <tr>\n",
       "      <td>3</td>\n",
       "      <td>4.0</td>\n",
       "      <td>190.25</td>\n",
       "      <td>271.85</td>\n",
       "    </tr>\n",
       "    <tr>\n",
       "      <td>4</td>\n",
       "      <td>5.0</td>\n",
       "      <td>190.00</td>\n",
       "      <td>295.17</td>\n",
       "    </tr>\n",
       "    <tr>\n",
       "      <td>5</td>\n",
       "      <td>6.0</td>\n",
       "      <td>178.77</td>\n",
       "      <td>307.43</td>\n",
       "    </tr>\n",
       "    <tr>\n",
       "      <td>6</td>\n",
       "      <td>7.0</td>\n",
       "      <td>183.55</td>\n",
       "      <td>313.84</td>\n",
       "    </tr>\n",
       "    <tr>\n",
       "      <td>7</td>\n",
       "      <td>8.0</td>\n",
       "      <td>190.54</td>\n",
       "      <td>319.39</td>\n",
       "    </tr>\n",
       "    <tr>\n",
       "      <td>8</td>\n",
       "      <td>9.0</td>\n",
       "      <td>187.25</td>\n",
       "      <td>331.44</td>\n",
       "    </tr>\n",
       "    <tr>\n",
       "      <td>9</td>\n",
       "      <td>10.0</td>\n",
       "      <td>192.16</td>\n",
       "      <td>333.59</td>\n",
       "    </tr>\n",
       "    <tr>\n",
       "      <td>10</td>\n",
       "      <td>11.0</td>\n",
       "      <td>182.29</td>\n",
       "      <td>317.15</td>\n",
       "    </tr>\n",
       "    <tr>\n",
       "      <td>11</td>\n",
       "      <td>12.0</td>\n",
       "      <td>203.30</td>\n",
       "      <td>350.34</td>\n",
       "    </tr>\n",
       "  </tbody>\n",
       "</table>\n",
       "</div>"
      ],
      "text/plain": [
       "tariff  date   smart   ultra\n",
       "0        1.0  156.52  263.96\n",
       "1        2.0  193.32  297.87\n",
       "2        3.0  195.00  337.54\n",
       "3        4.0  190.25  271.85\n",
       "4        5.0  190.00  295.17\n",
       "5        6.0  178.77  307.43\n",
       "6        7.0  183.55  313.84\n",
       "7        8.0  190.54  319.39\n",
       "8        9.0  187.25  331.44\n",
       "9       10.0  192.16  333.59\n",
       "10      11.0  182.29  317.15\n",
       "11      12.0  203.30  350.34"
      ]
     },
     "execution_count": 35,
     "metadata": {},
     "output_type": "execute_result"
    }
   ],
   "source": [
    "# посчитаем стандартное отклонение для количества минут разговора по месяца\n",
    "calls_std = df.pivot_table(index='date', columns = 'tariff', values='calls_sum', aggfunc=(lambda x: round(np.std(x),2))).reset_index()\n",
    "calls_std"
   ]
  },
  {
   "cell_type": "code",
   "execution_count": 36,
   "metadata": {},
   "outputs": [
    {
     "data": {
      "text/plain": [
       "Text(0.5, 0.98, 'Распределение стандарного отклонения количества минут разговора, по месяцам')"
      ]
     },
     "execution_count": 36,
     "metadata": {},
     "output_type": "execute_result"
    },
    {
     "data": {
      "image/png": "[encoded data removed]",
      "text/plain": [
       "<Figure size 432x288 with 2 Axes>"
      ]
     },
     "metadata": {
      "needs_background": "light"
     },
     "output_type": "display_data"
    }
   ],
   "source": [
    "# визуализируем\n",
    "sns.heatmap(calls_std)\n",
    "plt.suptitle(\"Распределение стандарного отклонения количества минут разговора, по месяцам\")"
   ]
  },
  {
   "cell_type": "markdown",
   "metadata": {},
   "source": [
    "#### 4.2. Распределение количества сообщений, по месяцам <a id='step4.2'></a>"
   ]
  },
  {
   "cell_type": "code",
   "execution_count": 37,
   "metadata": {},
   "outputs": [
    {
     "data": {
      "text/plain": [
       "<matplotlib.legend.Legend at 0x7ff2be483a10>"
      ]
     },
     "execution_count": 37,
     "metadata": {},
     "output_type": "execute_result"
    },
    {
     "data": {
      "image/png": "[encoded data removed]",
      "text/plain": [
       "<Figure size 432x288 with 1 Axes>"
      ]
     },
     "metadata": {
      "needs_background": "light"
     },
     "output_type": "display_data"
    }
   ],
   "source": [
    "# построим гистограммы для количества отправленных смс по тарифам\n",
    "plt.suptitle(\"Зависимость количества сообщений по месяцам и тарифам\")\n",
    "df_smart['messages_count'].hist(color= 'b', range = (0,150), bins = 12)\n",
    "df_ultra['messages_count'].hist(alpha = 0.5, color= 'g', range = (0,150), bins = 12)\n",
    "plt.legend(['smart', 'ultra'])"
   ]
  },
  {
   "cell_type": "code",
   "execution_count": 38,
   "metadata": {},
   "outputs": [
    {
     "data": {
      "text/plain": [
       "(-10, 200)"
      ]
     },
     "execution_count": 38,
     "metadata": {},
     "output_type": "execute_result"
    },
    {
     "data": {
      "image/png": "[encoded data removed]",
      "text/plain": [
       "<Figure size 720x432 with 1 Axes>"
      ]
     },
     "metadata": {
      "needs_background": "light"
     },
     "output_type": "display_data"
    }
   ],
   "source": [
    "import warnings\n",
    "warnings.filterwarnings('ignore')\n",
    "\n",
    "df.boxplot(column='messages_count', by='tariff', figsize=(10, 6))\n",
    "plt.ylabel('Количество сообщений')\n",
    "plt.xlabel('Тариф')\n",
    "plt.ylim(-10, 200)"
   ]
  },
  {
   "cell_type": "markdown",
   "metadata": {},
   "source": [
    "Пик сообщений на тарифах приходится до 50 сообщений, более 125 сообщений отправляют менее 5% пользователей."
   ]
  },
  {
   "cell_type": "code",
   "execution_count": 39,
   "metadata": {},
   "outputs": [
    {
     "data": {
      "text/html": [
       "<div>\n",
       "<style scoped>\n",
       "    .dataframe tbody tr th:only-of-type {\n",
       "        vertical-align: middle;\n",
       "    }\n",
       "\n",
       "    .dataframe tbody tr th {\n",
       "        vertical-align: top;\n",
       "    }\n",
       "\n",
       "    .dataframe thead th {\n",
       "        text-align: right;\n",
       "    }\n",
       "</style>\n",
       "<table border=\"1\" class=\"dataframe\">\n",
       "  <thead>\n",
       "    <tr style=\"text-align: right;\">\n",
       "      <th>tariff</th>\n",
       "      <th>date</th>\n",
       "      <th>smart</th>\n",
       "      <th>ultra</th>\n",
       "    </tr>\n",
       "  </thead>\n",
       "  <tbody>\n",
       "    <tr>\n",
       "      <td>0</td>\n",
       "      <td>1.0</td>\n",
       "      <td>18.235294</td>\n",
       "      <td>33.777778</td>\n",
       "    </tr>\n",
       "    <tr>\n",
       "      <td>1</td>\n",
       "      <td>2.0</td>\n",
       "      <td>24.086207</td>\n",
       "      <td>21.958333</td>\n",
       "    </tr>\n",
       "    <tr>\n",
       "      <td>2</td>\n",
       "      <td>3.0</td>\n",
       "      <td>31.857143</td>\n",
       "      <td>32.297297</td>\n",
       "    </tr>\n",
       "    <tr>\n",
       "      <td>3</td>\n",
       "      <td>4.0</td>\n",
       "      <td>30.741071</td>\n",
       "      <td>31.563636</td>\n",
       "    </tr>\n",
       "    <tr>\n",
       "      <td>4</td>\n",
       "      <td>5.0</td>\n",
       "      <td>33.773050</td>\n",
       "      <td>37.850746</td>\n",
       "    </tr>\n",
       "    <tr>\n",
       "      <td>5</td>\n",
       "      <td>6.0</td>\n",
       "      <td>33.402439</td>\n",
       "      <td>41.726190</td>\n",
       "    </tr>\n",
       "    <tr>\n",
       "      <td>6</td>\n",
       "      <td>7.0</td>\n",
       "      <td>33.751244</td>\n",
       "      <td>49.846154</td>\n",
       "    </tr>\n",
       "    <tr>\n",
       "      <td>7</td>\n",
       "      <td>8.0</td>\n",
       "      <td>33.638298</td>\n",
       "      <td>48.439252</td>\n",
       "    </tr>\n",
       "    <tr>\n",
       "      <td>8</td>\n",
       "      <td>9.0</td>\n",
       "      <td>33.638462</td>\n",
       "      <td>52.286957</td>\n",
       "    </tr>\n",
       "    <tr>\n",
       "      <td>9</td>\n",
       "      <td>10.0</td>\n",
       "      <td>33.765306</td>\n",
       "      <td>58.430894</td>\n",
       "    </tr>\n",
       "    <tr>\n",
       "      <td>10</td>\n",
       "      <td>11.0</td>\n",
       "      <td>34.075949</td>\n",
       "      <td>55.791045</td>\n",
       "    </tr>\n",
       "    <tr>\n",
       "      <td>11</td>\n",
       "      <td>12.0</td>\n",
       "      <td>35.994065</td>\n",
       "      <td>60.611511</td>\n",
       "    </tr>\n",
       "  </tbody>\n",
       "</table>\n",
       "</div>"
      ],
      "text/plain": [
       "tariff  date      smart      ultra\n",
       "0        1.0  18.235294  33.777778\n",
       "1        2.0  24.086207  21.958333\n",
       "2        3.0  31.857143  32.297297\n",
       "3        4.0  30.741071  31.563636\n",
       "4        5.0  33.773050  37.850746\n",
       "5        6.0  33.402439  41.726190\n",
       "6        7.0  33.751244  49.846154\n",
       "7        8.0  33.638298  48.439252\n",
       "8        9.0  33.638462  52.286957\n",
       "9       10.0  33.765306  58.430894\n",
       "10      11.0  34.075949  55.791045\n",
       "11      12.0  35.994065  60.611511"
      ]
     },
     "execution_count": 39,
     "metadata": {},
     "output_type": "execute_result"
    }
   ],
   "source": [
    "# посчитаем среднее для количества смс по месяца\n",
    "messages_mean = df.pivot_table(index='date', columns = 'tariff', values='messages_count', aggfunc = 'mean').reset_index()\n",
    "messages_mean"
   ]
  },
  {
   "cell_type": "code",
   "execution_count": 40,
   "metadata": {},
   "outputs": [
    {
     "data": {
      "text/plain": [
       "Text(0.5, 0.98, 'Распределение среднего количества сообщений, по месяцам')"
      ]
     },
     "execution_count": 40,
     "metadata": {},
     "output_type": "execute_result"
    },
    {
     "data": {
      "image/png": "[encoded data removed]",
      "text/plain": [
       "<Figure size 432x288 with 2 Axes>"
      ]
     },
     "metadata": {
      "needs_background": "light"
     },
     "output_type": "display_data"
    }
   ],
   "source": [
    "# визуализируем\n",
    "sns.heatmap(messages_mean)\n",
    "plt.suptitle(\"Распределение среднего количества сообщений, по месяцам\")"
   ]
  },
  {
   "cell_type": "markdown",
   "metadata": {},
   "source": [
    "В начале года пользователи тарифов смарт и ультра в среднем отправляли одинаковое количество смс в день. Начиная с апреля отрыв пользователей тарифа Ультра начал увеличиваться вплоть до 25 смс больше в месяц в среднем."
   ]
  },
  {
   "cell_type": "code",
   "execution_count": 41,
   "metadata": {},
   "outputs": [
    {
     "data": {
      "text/html": [
       "<div>\n",
       "<style scoped>\n",
       "    .dataframe tbody tr th:only-of-type {\n",
       "        vertical-align: middle;\n",
       "    }\n",
       "\n",
       "    .dataframe tbody tr th {\n",
       "        vertical-align: top;\n",
       "    }\n",
       "\n",
       "    .dataframe thead th {\n",
       "        text-align: right;\n",
       "    }\n",
       "</style>\n",
       "<table border=\"1\" class=\"dataframe\">\n",
       "  <thead>\n",
       "    <tr style=\"text-align: right;\">\n",
       "      <th>tariff</th>\n",
       "      <th>date</th>\n",
       "      <th>smart</th>\n",
       "      <th>ultra</th>\n",
       "    </tr>\n",
       "  </thead>\n",
       "  <tbody>\n",
       "    <tr>\n",
       "      <td>0</td>\n",
       "      <td>1.0</td>\n",
       "      <td>254.65</td>\n",
       "      <td>836.17</td>\n",
       "    </tr>\n",
       "    <tr>\n",
       "      <td>1</td>\n",
       "      <td>2.0</td>\n",
       "      <td>464.94</td>\n",
       "      <td>686.96</td>\n",
       "    </tr>\n",
       "    <tr>\n",
       "      <td>2</td>\n",
       "      <td>3.0</td>\n",
       "      <td>709.16</td>\n",
       "      <td>1685.56</td>\n",
       "    </tr>\n",
       "    <tr>\n",
       "      <td>3</td>\n",
       "      <td>4.0</td>\n",
       "      <td>596.76</td>\n",
       "      <td>1381.70</td>\n",
       "    </tr>\n",
       "    <tr>\n",
       "      <td>4</td>\n",
       "      <td>5.0</td>\n",
       "      <td>725.81</td>\n",
       "      <td>1600.40</td>\n",
       "    </tr>\n",
       "    <tr>\n",
       "      <td>5</td>\n",
       "      <td>6.0</td>\n",
       "      <td>801.89</td>\n",
       "      <td>1962.65</td>\n",
       "    </tr>\n",
       "    <tr>\n",
       "      <td>6</td>\n",
       "      <td>7.0</td>\n",
       "      <td>795.91</td>\n",
       "      <td>2345.98</td>\n",
       "    </tr>\n",
       "    <tr>\n",
       "      <td>7</td>\n",
       "      <td>8.0</td>\n",
       "      <td>834.69</td>\n",
       "      <td>2151.44</td>\n",
       "    </tr>\n",
       "    <tr>\n",
       "      <td>8</td>\n",
       "      <td>9.0</td>\n",
       "      <td>787.58</td>\n",
       "      <td>2134.14</td>\n",
       "    </tr>\n",
       "    <tr>\n",
       "      <td>9</td>\n",
       "      <td>10.0</td>\n",
       "      <td>813.34</td>\n",
       "      <td>2675.25</td>\n",
       "    </tr>\n",
       "    <tr>\n",
       "      <td>10</td>\n",
       "      <td>11.0</td>\n",
       "      <td>803.39</td>\n",
       "      <td>2458.46</td>\n",
       "    </tr>\n",
       "    <tr>\n",
       "      <td>11</td>\n",
       "      <td>12.0</td>\n",
       "      <td>932.18</td>\n",
       "      <td>2662.68</td>\n",
       "    </tr>\n",
       "  </tbody>\n",
       "</table>\n",
       "</div>"
      ],
      "text/plain": [
       "tariff  date   smart    ultra\n",
       "0        1.0  254.65   836.17\n",
       "1        2.0  464.94   686.96\n",
       "2        3.0  709.16  1685.56\n",
       "3        4.0  596.76  1381.70\n",
       "4        5.0  725.81  1600.40\n",
       "5        6.0  801.89  1962.65\n",
       "6        7.0  795.91  2345.98\n",
       "7        8.0  834.69  2151.44\n",
       "8        9.0  787.58  2134.14\n",
       "9       10.0  813.34  2675.25\n",
       "10      11.0  803.39  2458.46\n",
       "11      12.0  932.18  2662.68"
      ]
     },
     "execution_count": 41,
     "metadata": {},
     "output_type": "execute_result"
    }
   ],
   "source": [
    "# посчитаем дисперсию для количества смс по месяца\n",
    "messages_np = df.pivot_table(index='date', columns = 'tariff', values='messages_count', aggfunc=(lambda x: round(np.var(x),2))).reset_index()\n",
    "messages_np"
   ]
  },
  {
   "cell_type": "code",
   "execution_count": 42,
   "metadata": {},
   "outputs": [
    {
     "data": {
      "text/plain": [
       "Text(0.5, 0.98, 'Распределение дисперсии количества сообщений, по месяцам')"
      ]
     },
     "execution_count": 42,
     "metadata": {},
     "output_type": "execute_result"
    },
    {
     "data": {
      "image/png": "[encoded data removed]",
      "text/plain": [
       "<Figure size 432x288 with 2 Axes>"
      ]
     },
     "metadata": {
      "needs_background": "light"
     },
     "output_type": "display_data"
    }
   ],
   "source": [
    "# визуализируем\n",
    "sns.heatmap(messages_np)\n",
    "plt.suptitle(\"Распределение дисперсии количества сообщений, по месяцам\")"
   ]
  },
  {
   "cell_type": "code",
   "execution_count": 43,
   "metadata": {},
   "outputs": [
    {
     "data": {
      "text/html": [
       "<div>\n",
       "<style scoped>\n",
       "    .dataframe tbody tr th:only-of-type {\n",
       "        vertical-align: middle;\n",
       "    }\n",
       "\n",
       "    .dataframe tbody tr th {\n",
       "        vertical-align: top;\n",
       "    }\n",
       "\n",
       "    .dataframe thead th {\n",
       "        text-align: right;\n",
       "    }\n",
       "</style>\n",
       "<table border=\"1\" class=\"dataframe\">\n",
       "  <thead>\n",
       "    <tr style=\"text-align: right;\">\n",
       "      <th>tariff</th>\n",
       "      <th>date</th>\n",
       "      <th>smart</th>\n",
       "      <th>ultra</th>\n",
       "    </tr>\n",
       "  </thead>\n",
       "  <tbody>\n",
       "    <tr>\n",
       "      <td>0</td>\n",
       "      <td>1.0</td>\n",
       "      <td>15.96</td>\n",
       "      <td>28.92</td>\n",
       "    </tr>\n",
       "    <tr>\n",
       "      <td>1</td>\n",
       "      <td>2.0</td>\n",
       "      <td>21.56</td>\n",
       "      <td>26.21</td>\n",
       "    </tr>\n",
       "    <tr>\n",
       "      <td>2</td>\n",
       "      <td>3.0</td>\n",
       "      <td>26.63</td>\n",
       "      <td>41.06</td>\n",
       "    </tr>\n",
       "    <tr>\n",
       "      <td>3</td>\n",
       "      <td>4.0</td>\n",
       "      <td>24.43</td>\n",
       "      <td>37.17</td>\n",
       "    </tr>\n",
       "    <tr>\n",
       "      <td>4</td>\n",
       "      <td>5.0</td>\n",
       "      <td>26.94</td>\n",
       "      <td>40.00</td>\n",
       "    </tr>\n",
       "    <tr>\n",
       "      <td>5</td>\n",
       "      <td>6.0</td>\n",
       "      <td>28.32</td>\n",
       "      <td>44.30</td>\n",
       "    </tr>\n",
       "    <tr>\n",
       "      <td>6</td>\n",
       "      <td>7.0</td>\n",
       "      <td>28.21</td>\n",
       "      <td>48.44</td>\n",
       "    </tr>\n",
       "    <tr>\n",
       "      <td>7</td>\n",
       "      <td>8.0</td>\n",
       "      <td>28.89</td>\n",
       "      <td>46.38</td>\n",
       "    </tr>\n",
       "    <tr>\n",
       "      <td>8</td>\n",
       "      <td>9.0</td>\n",
       "      <td>28.06</td>\n",
       "      <td>46.20</td>\n",
       "    </tr>\n",
       "    <tr>\n",
       "      <td>9</td>\n",
       "      <td>10.0</td>\n",
       "      <td>28.52</td>\n",
       "      <td>51.72</td>\n",
       "    </tr>\n",
       "    <tr>\n",
       "      <td>10</td>\n",
       "      <td>11.0</td>\n",
       "      <td>28.34</td>\n",
       "      <td>49.58</td>\n",
       "    </tr>\n",
       "    <tr>\n",
       "      <td>11</td>\n",
       "      <td>12.0</td>\n",
       "      <td>30.53</td>\n",
       "      <td>51.60</td>\n",
       "    </tr>\n",
       "  </tbody>\n",
       "</table>\n",
       "</div>"
      ],
      "text/plain": [
       "tariff  date  smart  ultra\n",
       "0        1.0  15.96  28.92\n",
       "1        2.0  21.56  26.21\n",
       "2        3.0  26.63  41.06\n",
       "3        4.0  24.43  37.17\n",
       "4        5.0  26.94  40.00\n",
       "5        6.0  28.32  44.30\n",
       "6        7.0  28.21  48.44\n",
       "7        8.0  28.89  46.38\n",
       "8        9.0  28.06  46.20\n",
       "9       10.0  28.52  51.72\n",
       "10      11.0  28.34  49.58\n",
       "11      12.0  30.53  51.60"
      ]
     },
     "execution_count": 43,
     "metadata": {},
     "output_type": "execute_result"
    }
   ],
   "source": [
    "# посчитаем стандартное отклонение для количества смс по месяца\n",
    "messages_std = df.pivot_table(index='date', columns = 'tariff', values='messages_count', aggfunc=(lambda x: round(np.std(x),2))).reset_index()\n",
    "messages_std"
   ]
  },
  {
   "cell_type": "code",
   "execution_count": 44,
   "metadata": {},
   "outputs": [
    {
     "data": {
      "text/plain": [
       "Text(0.5, 0.98, 'Распределение стандарного отклонения количества сообщений, по месяцам')"
      ]
     },
     "execution_count": 44,
     "metadata": {},
     "output_type": "execute_result"
    },
    {
     "data": {
      "image/png": "[encoded data removed]",
      "text/plain": [
       "<Figure size 432x288 with 2 Axes>"
      ]
     },
     "metadata": {
      "needs_background": "light"
     },
     "output_type": "display_data"
    }
   ],
   "source": [
    "# визуализируем\n",
    "sns.heatmap(messages_std)\n",
    "plt.suptitle(\"Распределение стандарного отклонения количества сообщений, по месяцам\")"
   ]
  },
  {
   "cell_type": "markdown",
   "metadata": {},
   "source": [
    "#### 4.3. Распределение количества потребляемых Гб, по месяцам <a id='step4.3'></a>"
   ]
  },
  {
   "cell_type": "code",
   "execution_count": 45,
   "metadata": {},
   "outputs": [
    {
     "data": {
      "text/plain": [
       "<matplotlib.legend.Legend at 0x7ff2bb52df10>"
      ]
     },
     "execution_count": 45,
     "metadata": {},
     "output_type": "execute_result"
    },
    {
     "data": {
      "image/png": "[encoded data removed]",
      "text/plain": [
       "<Figure size 432x288 with 1 Axes>"
      ]
     },
     "metadata": {
      "needs_background": "light"
     },
     "output_type": "display_data"
    }
   ],
   "source": [
    "# построим гистограммы количества используемых Гб в месяц по тарифам\n",
    "plt.suptitle(\"Зависимость количества используемых Гб в месяц по тарифам\")\n",
    "df_smart['gb_used'].hist(color= 'b', range = (0,48), bins = 12)\n",
    "df_ultra['gb_used'].hist(alpha = 0.5, color= 'g', range = (0,48), bins = 12)\n",
    "plt.legend(['smart', 'ultra'])"
   ]
  },
  {
   "cell_type": "code",
   "execution_count": 46,
   "metadata": {},
   "outputs": [
    {
     "data": {
      "text/plain": [
       "Text(0.5, 0, 'Тариф')"
      ]
     },
     "execution_count": 46,
     "metadata": {},
     "output_type": "execute_result"
    },
    {
     "data": {
      "image/png": "[encoded data removed]",
      "text/plain": [
       "<Figure size 720x432 with 1 Axes>"
      ]
     },
     "metadata": {
      "needs_background": "light"
     },
     "output_type": "display_data"
    }
   ],
   "source": [
    "import warnings\n",
    "warnings.filterwarnings('ignore')\n",
    "\n",
    "df.boxplot(column='gb_used', by='tariff', figsize=(10, 6))\n",
    "plt.ylabel('Объем трафика')\n",
    "plt.xlabel('Тариф')"
   ]
  },
  {
   "cell_type": "code",
   "execution_count": 47,
   "metadata": {},
   "outputs": [
    {
     "data": {
      "text/html": [
       "<div>\n",
       "<style scoped>\n",
       "    .dataframe tbody tr th:only-of-type {\n",
       "        vertical-align: middle;\n",
       "    }\n",
       "\n",
       "    .dataframe tbody tr th {\n",
       "        vertical-align: top;\n",
       "    }\n",
       "\n",
       "    .dataframe thead th {\n",
       "        text-align: right;\n",
       "    }\n",
       "</style>\n",
       "<table border=\"1\" class=\"dataframe\">\n",
       "  <thead>\n",
       "    <tr style=\"text-align: right;\">\n",
       "      <th>tariff</th>\n",
       "      <th>date</th>\n",
       "      <th>smart</th>\n",
       "      <th>ultra</th>\n",
       "    </tr>\n",
       "  </thead>\n",
       "  <tbody>\n",
       "    <tr>\n",
       "      <td>0</td>\n",
       "      <td>1.0</td>\n",
       "      <td>7.735294</td>\n",
       "      <td>12.333333</td>\n",
       "    </tr>\n",
       "    <tr>\n",
       "      <td>1</td>\n",
       "      <td>2.0</td>\n",
       "      <td>10.862069</td>\n",
       "      <td>11.083333</td>\n",
       "    </tr>\n",
       "    <tr>\n",
       "      <td>2</td>\n",
       "      <td>3.0</td>\n",
       "      <td>14.246753</td>\n",
       "      <td>16.702703</td>\n",
       "    </tr>\n",
       "    <tr>\n",
       "      <td>3</td>\n",
       "      <td>4.0</td>\n",
       "      <td>12.651786</td>\n",
       "      <td>16.000000</td>\n",
       "    </tr>\n",
       "    <tr>\n",
       "      <td>4</td>\n",
       "      <td>5.0</td>\n",
       "      <td>14.950355</td>\n",
       "      <td>18.462687</td>\n",
       "    </tr>\n",
       "    <tr>\n",
       "      <td>5</td>\n",
       "      <td>6.0</td>\n",
       "      <td>14.987805</td>\n",
       "      <td>17.976190</td>\n",
       "    </tr>\n",
       "    <tr>\n",
       "      <td>6</td>\n",
       "      <td>7.0</td>\n",
       "      <td>14.920398</td>\n",
       "      <td>19.549451</td>\n",
       "    </tr>\n",
       "    <tr>\n",
       "      <td>7</td>\n",
       "      <td>8.0</td>\n",
       "      <td>15.791489</td>\n",
       "      <td>18.644860</td>\n",
       "    </tr>\n",
       "    <tr>\n",
       "      <td>8</td>\n",
       "      <td>9.0</td>\n",
       "      <td>15.430769</td>\n",
       "      <td>18.260870</td>\n",
       "    </tr>\n",
       "    <tr>\n",
       "      <td>9</td>\n",
       "      <td>10.0</td>\n",
       "      <td>15.925170</td>\n",
       "      <td>19.097561</td>\n",
       "    </tr>\n",
       "    <tr>\n",
       "      <td>10</td>\n",
       "      <td>11.0</td>\n",
       "      <td>16.031646</td>\n",
       "      <td>18.843284</td>\n",
       "    </tr>\n",
       "    <tr>\n",
       "      <td>11</td>\n",
       "      <td>12.0</td>\n",
       "      <td>17.243323</td>\n",
       "      <td>20.812950</td>\n",
       "    </tr>\n",
       "  </tbody>\n",
       "</table>\n",
       "</div>"
      ],
      "text/plain": [
       "tariff  date      smart      ultra\n",
       "0        1.0   7.735294  12.333333\n",
       "1        2.0  10.862069  11.083333\n",
       "2        3.0  14.246753  16.702703\n",
       "3        4.0  12.651786  16.000000\n",
       "4        5.0  14.950355  18.462687\n",
       "5        6.0  14.987805  17.976190\n",
       "6        7.0  14.920398  19.549451\n",
       "7        8.0  15.791489  18.644860\n",
       "8        9.0  15.430769  18.260870\n",
       "9       10.0  15.925170  19.097561\n",
       "10      11.0  16.031646  18.843284\n",
       "11      12.0  17.243323  20.812950"
      ]
     },
     "execution_count": 47,
     "metadata": {},
     "output_type": "execute_result"
    }
   ],
   "source": [
    "# посчитаем среднее количество Гб в месяц\n",
    "internet_mean = df.pivot_table(index='date', columns = 'tariff', values='gb_used', aggfunc= 'mean').reset_index()\n",
    "internet_mean"
   ]
  },
  {
   "cell_type": "code",
   "execution_count": 48,
   "metadata": {},
   "outputs": [
    {
     "data": {
      "text/plain": [
       "Text(0.5, 0.98, 'Распределение среднего количества Гб, по месяцам')"
      ]
     },
     "execution_count": 48,
     "metadata": {},
     "output_type": "execute_result"
    },
    {
     "data": {
      "image/png": "[encoded data removed]",
      "text/plain": [
       "<Figure size 432x288 with 2 Axes>"
      ]
     },
     "metadata": {
      "needs_background": "light"
     },
     "output_type": "display_data"
    }
   ],
   "source": [
    "# визуализируем\n",
    "sns.heatmap(internet_mean)\n",
    "plt.suptitle(\"Распределение среднего количества Гб, по месяцам\")"
   ]
  },
  {
   "cell_type": "markdown",
   "metadata": {},
   "source": [
    "В среднем пользователи тарифа ультра используют на 2-4 Гб в месяц. При чем среднее количество Гб растет к концу года."
   ]
  },
  {
   "cell_type": "code",
   "execution_count": 49,
   "metadata": {},
   "outputs": [
    {
     "data": {
      "text/html": [
       "<div>\n",
       "<style scoped>\n",
       "    .dataframe tbody tr th:only-of-type {\n",
       "        vertical-align: middle;\n",
       "    }\n",
       "\n",
       "    .dataframe tbody tr th {\n",
       "        vertical-align: top;\n",
       "    }\n",
       "\n",
       "    .dataframe thead th {\n",
       "        text-align: right;\n",
       "    }\n",
       "</style>\n",
       "<table border=\"1\" class=\"dataframe\">\n",
       "  <thead>\n",
       "    <tr style=\"text-align: right;\">\n",
       "      <th>tariff</th>\n",
       "      <th>date</th>\n",
       "      <th>smart</th>\n",
       "      <th>ultra</th>\n",
       "    </tr>\n",
       "  </thead>\n",
       "  <tbody>\n",
       "    <tr>\n",
       "      <td>0</td>\n",
       "      <td>1.0</td>\n",
       "      <td>38.25</td>\n",
       "      <td>40.89</td>\n",
       "    </tr>\n",
       "    <tr>\n",
       "      <td>1</td>\n",
       "      <td>2.0</td>\n",
       "      <td>36.57</td>\n",
       "      <td>102.66</td>\n",
       "    </tr>\n",
       "    <tr>\n",
       "      <td>2</td>\n",
       "      <td>3.0</td>\n",
       "      <td>32.11</td>\n",
       "      <td>112.32</td>\n",
       "    </tr>\n",
       "    <tr>\n",
       "      <td>3</td>\n",
       "      <td>4.0</td>\n",
       "      <td>30.80</td>\n",
       "      <td>87.49</td>\n",
       "    </tr>\n",
       "    <tr>\n",
       "      <td>4</td>\n",
       "      <td>5.0</td>\n",
       "      <td>34.63</td>\n",
       "      <td>94.34</td>\n",
       "    </tr>\n",
       "    <tr>\n",
       "      <td>5</td>\n",
       "      <td>6.0</td>\n",
       "      <td>32.00</td>\n",
       "      <td>81.26</td>\n",
       "    </tr>\n",
       "    <tr>\n",
       "      <td>6</td>\n",
       "      <td>7.0</td>\n",
       "      <td>33.33</td>\n",
       "      <td>95.52</td>\n",
       "    </tr>\n",
       "    <tr>\n",
       "      <td>7</td>\n",
       "      <td>8.0</td>\n",
       "      <td>30.01</td>\n",
       "      <td>103.59</td>\n",
       "    </tr>\n",
       "    <tr>\n",
       "      <td>8</td>\n",
       "      <td>9.0</td>\n",
       "      <td>26.05</td>\n",
       "      <td>85.11</td>\n",
       "    </tr>\n",
       "    <tr>\n",
       "      <td>9</td>\n",
       "      <td>10.0</td>\n",
       "      <td>32.97</td>\n",
       "      <td>90.59</td>\n",
       "    </tr>\n",
       "    <tr>\n",
       "      <td>10</td>\n",
       "      <td>11.0</td>\n",
       "      <td>27.17</td>\n",
       "      <td>93.10</td>\n",
       "    </tr>\n",
       "    <tr>\n",
       "      <td>11</td>\n",
       "      <td>12.0</td>\n",
       "      <td>29.68</td>\n",
       "      <td>101.81</td>\n",
       "    </tr>\n",
       "  </tbody>\n",
       "</table>\n",
       "</div>"
      ],
      "text/plain": [
       "tariff  date  smart   ultra\n",
       "0        1.0  38.25   40.89\n",
       "1        2.0  36.57  102.66\n",
       "2        3.0  32.11  112.32\n",
       "3        4.0  30.80   87.49\n",
       "4        5.0  34.63   94.34\n",
       "5        6.0  32.00   81.26\n",
       "6        7.0  33.33   95.52\n",
       "7        8.0  30.01  103.59\n",
       "8        9.0  26.05   85.11\n",
       "9       10.0  32.97   90.59\n",
       "10      11.0  27.17   93.10\n",
       "11      12.0  29.68  101.81"
      ]
     },
     "execution_count": 49,
     "metadata": {},
     "output_type": "execute_result"
    }
   ],
   "source": [
    "# посчитаем дисперсию для использованных Гб по месяца\n",
    "internet_var = df.pivot_table(index='date', columns = 'tariff', values='gb_used', aggfunc=(lambda x: round(np.var(x),2))).reset_index()\n",
    "internet_var"
   ]
  },
  {
   "cell_type": "code",
   "execution_count": 50,
   "metadata": {},
   "outputs": [
    {
     "data": {
      "text/plain": [
       "Text(0.5, 0.98, 'Распределение дисперсии количества Гб, по месяцам')"
      ]
     },
     "execution_count": 50,
     "metadata": {},
     "output_type": "execute_result"
    },
    {
     "data": {
      "image/png": "[encoded data removed]",
      "text/plain": [
       "<Figure size 432x288 with 2 Axes>"
      ]
     },
     "metadata": {
      "needs_background": "light"
     },
     "output_type": "display_data"
    }
   ],
   "source": [
    "# визуализируем\n",
    "sns.heatmap(internet_var)\n",
    "plt.suptitle(\"Распределение дисперсии количества Гб, по месяцам\")"
   ]
  },
  {
   "cell_type": "code",
   "execution_count": 51,
   "metadata": {},
   "outputs": [
    {
     "data": {
      "text/html": [
       "<div>\n",
       "<style scoped>\n",
       "    .dataframe tbody tr th:only-of-type {\n",
       "        vertical-align: middle;\n",
       "    }\n",
       "\n",
       "    .dataframe tbody tr th {\n",
       "        vertical-align: top;\n",
       "    }\n",
       "\n",
       "    .dataframe thead th {\n",
       "        text-align: right;\n",
       "    }\n",
       "</style>\n",
       "<table border=\"1\" class=\"dataframe\">\n",
       "  <thead>\n",
       "    <tr style=\"text-align: right;\">\n",
       "      <th>tariff</th>\n",
       "      <th>date</th>\n",
       "      <th>smart</th>\n",
       "      <th>ultra</th>\n",
       "    </tr>\n",
       "  </thead>\n",
       "  <tbody>\n",
       "    <tr>\n",
       "      <td>0</td>\n",
       "      <td>1.0</td>\n",
       "      <td>6.18</td>\n",
       "      <td>6.39</td>\n",
       "    </tr>\n",
       "    <tr>\n",
       "      <td>1</td>\n",
       "      <td>2.0</td>\n",
       "      <td>6.05</td>\n",
       "      <td>10.13</td>\n",
       "    </tr>\n",
       "    <tr>\n",
       "      <td>2</td>\n",
       "      <td>3.0</td>\n",
       "      <td>5.67</td>\n",
       "      <td>10.60</td>\n",
       "    </tr>\n",
       "    <tr>\n",
       "      <td>3</td>\n",
       "      <td>4.0</td>\n",
       "      <td>5.55</td>\n",
       "      <td>9.35</td>\n",
       "    </tr>\n",
       "    <tr>\n",
       "      <td>4</td>\n",
       "      <td>5.0</td>\n",
       "      <td>5.88</td>\n",
       "      <td>9.71</td>\n",
       "    </tr>\n",
       "    <tr>\n",
       "      <td>5</td>\n",
       "      <td>6.0</td>\n",
       "      <td>5.66</td>\n",
       "      <td>9.01</td>\n",
       "    </tr>\n",
       "    <tr>\n",
       "      <td>6</td>\n",
       "      <td>7.0</td>\n",
       "      <td>5.77</td>\n",
       "      <td>9.77</td>\n",
       "    </tr>\n",
       "    <tr>\n",
       "      <td>7</td>\n",
       "      <td>8.0</td>\n",
       "      <td>5.48</td>\n",
       "      <td>10.18</td>\n",
       "    </tr>\n",
       "    <tr>\n",
       "      <td>8</td>\n",
       "      <td>9.0</td>\n",
       "      <td>5.10</td>\n",
       "      <td>9.23</td>\n",
       "    </tr>\n",
       "    <tr>\n",
       "      <td>9</td>\n",
       "      <td>10.0</td>\n",
       "      <td>5.74</td>\n",
       "      <td>9.52</td>\n",
       "    </tr>\n",
       "    <tr>\n",
       "      <td>10</td>\n",
       "      <td>11.0</td>\n",
       "      <td>5.21</td>\n",
       "      <td>9.65</td>\n",
       "    </tr>\n",
       "    <tr>\n",
       "      <td>11</td>\n",
       "      <td>12.0</td>\n",
       "      <td>5.45</td>\n",
       "      <td>10.09</td>\n",
       "    </tr>\n",
       "  </tbody>\n",
       "</table>\n",
       "</div>"
      ],
      "text/plain": [
       "tariff  date  smart  ultra\n",
       "0        1.0   6.18   6.39\n",
       "1        2.0   6.05  10.13\n",
       "2        3.0   5.67  10.60\n",
       "3        4.0   5.55   9.35\n",
       "4        5.0   5.88   9.71\n",
       "5        6.0   5.66   9.01\n",
       "6        7.0   5.77   9.77\n",
       "7        8.0   5.48  10.18\n",
       "8        9.0   5.10   9.23\n",
       "9       10.0   5.74   9.52\n",
       "10      11.0   5.21   9.65\n",
       "11      12.0   5.45  10.09"
      ]
     },
     "execution_count": 51,
     "metadata": {},
     "output_type": "execute_result"
    }
   ],
   "source": [
    "#Посчитаем стандартное отклонение для количества использованных ГБ по месяца\n",
    "internet_std = df.pivot_table(index='date', columns = 'tariff', values='gb_used', aggfunc=(lambda x: round(np.std(x),2))).reset_index()\n",
    "internet_std"
   ]
  },
  {
   "cell_type": "code",
   "execution_count": 52,
   "metadata": {},
   "outputs": [
    {
     "data": {
      "text/plain": [
       "Text(0.5, 0.98, 'Распределение стандарного отклонения количества Гб, по месяцам')"
      ]
     },
     "execution_count": 52,
     "metadata": {},
     "output_type": "execute_result"
    },
    {
     "data": {
      "image/png": "[encoded data removed]",
      "text/plain": [
       "<Figure size 432x288 with 2 Axes>"
      ]
     },
     "metadata": {
      "needs_background": "light"
     },
     "output_type": "display_data"
    }
   ],
   "source": [
    "# визуализируем\n",
    "sns.heatmap(internet_std)\n",
    "plt.suptitle(\"Распределение стандарного отклонения количества Гб, по месяцам\")"
   ]
  },
  {
   "cell_type": "markdown",
   "metadata": {},
   "source": [
    "#### 4.4. Зависимость стоимости в месяц по тарифам <a id='step4.4'></a>"
   ]
  },
  {
   "cell_type": "code",
   "execution_count": 53,
   "metadata": {},
   "outputs": [
    {
     "data": {
      "text/plain": [
       "count    3216.000000\n",
       "mean     1165.777363\n",
       "std       592.724818\n",
       "min       550.000000\n",
       "25%       682.000000\n",
       "50%       846.000000\n",
       "75%      1950.000000\n",
       "max      3705.000000\n",
       "Name: rev, dtype: float64"
      ]
     },
     "execution_count": 53,
     "metadata": {},
     "output_type": "execute_result"
    }
   ],
   "source": [
    "df['rev'].describe()"
   ]
  },
  {
   "cell_type": "code",
   "execution_count": 54,
   "metadata": {},
   "outputs": [
    {
     "data": {
      "text/plain": [
       "<matplotlib.legend.Legend at 0x7ff2bb0a2990>"
      ]
     },
     "execution_count": 54,
     "metadata": {},
     "output_type": "execute_result"
    },
    {
     "data": {
      "image/png": "[encoded data removed]",
      "text/plain": [
       "<Figure size 432x288 with 1 Axes>"
      ]
     },
     "metadata": {
      "needs_background": "light"
     },
     "output_type": "display_data"
    }
   ],
   "source": [
    "# построим так же гистограммы стоимости в месяц по тарифам\n",
    "plt.suptitle(\"Зависимость стоимости в месяц по тарифам\")\n",
    "df_smart['rev'].hist(color= 'b', range = (550,2250), bins = 20)\n",
    "df_ultra['rev'].hist(alpha = 0.5, color= 'g', range = (550,2250), bins = 20)\n",
    "plt.legend(['smart', 'ultra'])"
   ]
  },
  {
   "cell_type": "code",
   "execution_count": 55,
   "metadata": {},
   "outputs": [
    {
     "data": {
      "text/html": [
       "<div>\n",
       "<style scoped>\n",
       "    .dataframe tbody tr th:only-of-type {\n",
       "        vertical-align: middle;\n",
       "    }\n",
       "\n",
       "    .dataframe tbody tr th {\n",
       "        vertical-align: top;\n",
       "    }\n",
       "\n",
       "    .dataframe thead th {\n",
       "        text-align: right;\n",
       "    }\n",
       "</style>\n",
       "<table border=\"1\" class=\"dataframe\">\n",
       "  <thead>\n",
       "    <tr style=\"text-align: right;\">\n",
       "      <th>tariff</th>\n",
       "      <th>date</th>\n",
       "      <th>smart</th>\n",
       "      <th>ultra</th>\n",
       "    </tr>\n",
       "  </thead>\n",
       "  <tbody>\n",
       "    <tr>\n",
       "      <td>0</td>\n",
       "      <td>1.0</td>\n",
       "      <td>588.058824</td>\n",
       "      <td>1950.000000</td>\n",
       "    </tr>\n",
       "    <tr>\n",
       "      <td>1</td>\n",
       "      <td>2.0</td>\n",
       "      <td>648.844828</td>\n",
       "      <td>1962.500000</td>\n",
       "    </tr>\n",
       "    <tr>\n",
       "      <td>2</td>\n",
       "      <td>3.0</td>\n",
       "      <td>768.181818</td>\n",
       "      <td>1962.162162</td>\n",
       "    </tr>\n",
       "    <tr>\n",
       "      <td>3</td>\n",
       "      <td>4.0</td>\n",
       "      <td>726.660714</td>\n",
       "      <td>1960.909091</td>\n",
       "    </tr>\n",
       "    <tr>\n",
       "      <td>4</td>\n",
       "      <td>5.0</td>\n",
       "      <td>760.950355</td>\n",
       "      <td>1963.432836</td>\n",
       "    </tr>\n",
       "    <tr>\n",
       "      <td>5</td>\n",
       "      <td>6.0</td>\n",
       "      <td>766.829268</td>\n",
       "      <td>1964.285714</td>\n",
       "    </tr>\n",
       "    <tr>\n",
       "      <td>6</td>\n",
       "      <td>7.0</td>\n",
       "      <td>781.796020</td>\n",
       "      <td>1973.076923</td>\n",
       "    </tr>\n",
       "    <tr>\n",
       "      <td>7</td>\n",
       "      <td>8.0</td>\n",
       "      <td>816.761702</td>\n",
       "      <td>1972.429907</td>\n",
       "    </tr>\n",
       "    <tr>\n",
       "      <td>8</td>\n",
       "      <td>9.0</td>\n",
       "      <td>808.346154</td>\n",
       "      <td>1966.956522</td>\n",
       "    </tr>\n",
       "    <tr>\n",
       "      <td>9</td>\n",
       "      <td>10.0</td>\n",
       "      <td>831.010204</td>\n",
       "      <td>1968.292683</td>\n",
       "    </tr>\n",
       "    <tr>\n",
       "      <td>10</td>\n",
       "      <td>11.0</td>\n",
       "      <td>830.287975</td>\n",
       "      <td>1970.149254</td>\n",
       "    </tr>\n",
       "    <tr>\n",
       "      <td>11</td>\n",
       "      <td>12.0</td>\n",
       "      <td>921.172107</td>\n",
       "      <td>1974.820144</td>\n",
       "    </tr>\n",
       "  </tbody>\n",
       "</table>\n",
       "</div>"
      ],
      "text/plain": [
       "tariff  date       smart        ultra\n",
       "0        1.0  588.058824  1950.000000\n",
       "1        2.0  648.844828  1962.500000\n",
       "2        3.0  768.181818  1962.162162\n",
       "3        4.0  726.660714  1960.909091\n",
       "4        5.0  760.950355  1963.432836\n",
       "5        6.0  766.829268  1964.285714\n",
       "6        7.0  781.796020  1973.076923\n",
       "7        8.0  816.761702  1972.429907\n",
       "8        9.0  808.346154  1966.956522\n",
       "9       10.0  831.010204  1968.292683\n",
       "10      11.0  830.287975  1970.149254\n",
       "11      12.0  921.172107  1974.820144"
      ]
     },
     "execution_count": 55,
     "metadata": {},
     "output_type": "execute_result"
    }
   ],
   "source": [
    "# изучим среднюю стоимость по месяцам\n",
    "rev_mean = df.pivot_table(index='date', columns = 'tariff', values='rev', aggfunc= 'mean').reset_index()\n",
    "rev_mean"
   ]
  },
  {
   "cell_type": "markdown",
   "metadata": {},
   "source": [
    "#### Вывод<a id='step4.1'></a>"
   ]
  },
  {
   "cell_type": "markdown",
   "metadata": {},
   "source": [
    "    Пользователи тарифа Ультра в среднем немного превышают свой тариф за 1950. Пользователи тарифа Смарт чаще превышают свой лимит за 550 р в среднем на 250р."
   ]
  },
  {
   "cell_type": "markdown",
   "metadata": {},
   "source": [
    "    Пользователи тарифа Смарт составляют, группу клиентов, без значительного разброса значений по длительности разговоров, количеству отправляемых сообщений и объему использованного интернет-трафика.\n",
    "    Группа пользователей тарифа Ультра неоднородна: в них есть и те, кто очень много разговаривает и те, кто отправляет очень много сообщений, есть и активные пользователи интернета.\n",
    "    В результате проведенного анализа установлено, что большинство клиентов тарифа Смарт не разговаривают более 950 минут в месяц. Тогда как длительность разговоров клиентов тарифа Ультра распределена более равномерно и на более широком диапазоне почти до 1400 минут.\n",
    "    Обнаружено, что клиенты тарифа Смарт в основном ограничиваются 115 сообщениями в месяц. Распределение количества отправляемых в месяц сообщений клиентами тарифа Ультра гораздо шире, до 175 сообщений.\n",
    "    Распределение потребляемого в месяц интернет-трафика клиентами тарифа Смарт довольно узкое и ограничено объемом 28 гб. Тогда как распределение потребляемого в месяц интернет-трафика клиентами тарифа Ультра более равномерно распределено и значительно шире: порядка 47 гб."
   ]
  },
  {
   "cell_type": "markdown",
   "metadata": {},
   "source": [
    "## 5. Проверим гипотезы<a id='step5'></a>"
   ]
  },
  {
   "cell_type": "markdown",
   "metadata": {},
   "source": [
    "#### 5.1. Средняя выручка пользователей тарифов «Ультра» и «Смарт» различается <a id='step5.1'></a>"
   ]
  },
  {
   "cell_type": "markdown",
   "metadata": {},
   "source": [
    "\n",
    "    Мы рассматриваем две генеральные сопокупности – пользователей разных тарифов мобильного оператора. Проверим две (двусторонние) гипотезы о равенстве среднего двух генеральных совокупностей по взятым из них выборкам. Чтобы понять, различается ли средняя выручка пользователей разных тарифов и населенных пунктов, значима ли разница между средними значениями, проведем статистические тест"
   ]
  },
  {
   "cell_type": "markdown",
   "metadata": {},
   "source": [
    "    Нулевая гипотеза H-0:\n",
    "Средняя выручка пользователей тарифов Ультра и Смарт не различается"
   ]
  },
  {
   "cell_type": "markdown",
   "metadata": {},
   "source": [
    "    Исходя из H-0 формулируется альтернативная гипотеза H-1:\n",
    "Средняя выручка пользователей тарифов Ультра и Смарт различается"
   ]
  },
  {
   "cell_type": "code",
   "execution_count": 56,
   "metadata": {},
   "outputs": [],
   "source": [
    "# сделаем выборки по тарифам\n",
    "df_smart = df.query('tariff == \"smart\"')\n",
    "df_ultra = df.query('tariff == \"ultra\"')"
   ]
  },
  {
   "cell_type": "markdown",
   "metadata": {},
   "source": [
    "Проверим гипотезу о равенстве средней выручки пользователей тарифов «Ультра» и «Смарт».\n",
    "Критический уровень статистической значимости зададим значение 0.05."
   ]
  },
  {
   "cell_type": "code",
   "execution_count": 57,
   "metadata": {},
   "outputs": [
    {
     "name": "stdout",
     "output_type": "stream",
     "text": [
      "p-значение: 0.0\n",
      "Отвергаем нулевую гипотезу\n"
     ]
    }
   ],
   "source": [
    "alpha = 0.05 \n",
    "\n",
    "results = st.ttest_ind(\n",
    "    df_smart['rev'], \n",
    "    df_ultra['rev'])\n",
    "\n",
    "print('p-значение:', results.pvalue)\n",
    "\n",
    "if (results.pvalue < alpha):\n",
    "    print(\"Отвергаем нулевую гипотезу\")\n",
    "else:\n",
    "    print(\"Не получилось отвергнуть нулевую гипотезу\")"
   ]
  },
  {
   "cell_type": "markdown",
   "metadata": {},
   "source": [
    "    Средняя выручка по тарифам не равная, и практически нулевая вероятность говорит о том, что случайно получить такое отличие в значениях практически не получится. Следовательно, средняя выручка пользователей тарифов Ультра и Смарт действительно различается и наша гипотеза подтвердилась."
   ]
  },
  {
   "cell_type": "markdown",
   "metadata": {},
   "source": [
    "<strong>Выручка по тарифам отличается</strong>    "
   ]
  },
  {
   "cell_type": "markdown",
   "metadata": {},
   "source": [
    "#### 5.2. Средняя выручка пользователей из Москвы отличается от выручки пользователей из других регионов<a id='step5.2'></a>"
   ]
  },
  {
   "cell_type": "code",
   "execution_count": 58,
   "metadata": {},
   "outputs": [],
   "source": [
    "# начнем с формирования двух массивов со средними выручками по городам\n",
    "rev_moscow = df.query('city == \"Москва\"')\n",
    "rev_other = df.query('city != \"Москва\"')"
   ]
  },
  {
   "cell_type": "markdown",
   "metadata": {},
   "source": [
    "    Нулевая гипотеза H-0:\n",
    "Cредняя выручка пользователей из Москвы не отличается от выручки пользователей из других регионов"
   ]
  },
  {
   "cell_type": "markdown",
   "metadata": {},
   "source": [
    "    Исходя из H-0 формулируется альтернативная гипотеза H-1:\n",
    "Cредняя выручка пользователей из Москвы отличается от выручки пользователей из других регионов"
   ]
  },
  {
   "cell_type": "markdown",
   "metadata": {},
   "source": [
    "Проверим гипотезу о равенстве средней выручки пользователей из Москвы и других городов.\n",
    "Критический уровень статистической значимости зададим значение 0.05."
   ]
  },
  {
   "cell_type": "code",
   "execution_count": 59,
   "metadata": {},
   "outputs": [
    {
     "name": "stdout",
     "output_type": "stream",
     "text": [
      "p-значение: 0.004807736166322075\n",
      "Отвергаем нулевую гипотезу\n"
     ]
    }
   ],
   "source": [
    "alpha = 0.05 \n",
    "\n",
    "results = st.ttest_ind(\n",
    "    rev_moscow['rev'], \n",
    "    rev_other['rev'])\n",
    "\n",
    "print('p-значение:', results.pvalue)\n",
    "\n",
    "if (results.pvalue < alpha):\n",
    "    print(\"Отвергаем нулевую гипотезу\")\n",
    "else:\n",
    "    print(\"Не получилось отвергнуть нулевую гипотезу\")"
   ]
  },
  {
   "cell_type": "markdown",
   "metadata": {},
   "source": [
    "    Полученное значение p-value говорит о том, что хотя средняя выручка пользователей из Москвы и регионов равная, с вероятностью в почти 48% такое различие можно получить случайно. Как мы уже знаем, это слишком большая вероятность, чтобы делать вывод о значимом различии между средними выручками. Таким образом, средняя выручка пользователей из Москвы не отличается от выручки пользователей из других регионов, и наша гипотеза не подтвердилась."
   ]
  },
  {
   "cell_type": "markdown",
   "metadata": {},
   "source": [
    "## 6. Выводы<a id='step6'></a>"
   ]
  },
  {
   "cell_type": "markdown",
   "metadata": {},
   "source": [
    "Загружены датасеты с информацией о клиентах сотовой связи, потраченных ими минутах на разговоры по мобильному телефону, использованному интернету и отправленных смс, о тарифах, которые они используют.\n",
    "\n",
    "Данные были проверены на ошибки и пропуски. Если у клиента значилось 0 минут нразговора или 0 Мб интернета, то принято округление в большую сторону до единицы, так как тариф все равно был подключен.\n",
    "\n",
    "На этапе подготовки данных были посчитаны:\n",
    "    - количество сделанных звонков и израсходованных минут разговора по месяцам;\n",
    "    - количество отправленных сообщений по месяцам;\n",
    "    - объем израсходованного интернет-трафика, в Гб по месяцам;\n",
    "    \n",
    "<strong>Анализ позволил установить и выявить следующие факты:</strong>\n",
    "    - Чаще на тарифе смарт клиенты тратят примерно 400-500 минут в месяц, а пользователи тарифа ультра в широком диапазоне от 0 до 900 минут.Видно, что в среднем пользователи тарифа ультра больше говорят по телефону, примерно минут на 100 в месяц,исключение в январе, когдп пользователи обоих тарифов говорили примерно поровну.\n",
    "    - Хвост гистограммы тарифа Ультра идет больше 110 минут. Пользователи тарифа смарт чаще всего отправляют около 40 смс в месяц, а пользователи тарифа ультра больше 45. В начале года пользователи тарифов смарт и ультра в среднем отправляли одинаковое количество смс в день. Начиная с апреля отрыв пользователей тарифа Ультра начал увеличиваться вплоть до 25 смс больше в месяц в среднем.\n",
    "    - В среднем пользователи тарифа ультра используют на 2-4 Гб в месяц. При чем среднее количепство Гб растет к конце года.Пользователи тарифа ультра используют в среднем на 1.5ГБ в месяц больше, чем пользователи тарифа смарт. Пользователи тарифа смартчаще всего используют 15,5 Гб в месяц, а пользователи тарифа ультра 19Гб.\n",
    "    - Пользователи тарифа Ультра в среднем немного превышают свой тариф за 1950. Пользователи тарифа Смарт чаще превышают свой лимит за 550 р в среднем на 250р. \n",
    "    \n",
    "При проведении подсчета среднего количества, дисперсии и стандартного отклонения для звонков, смс и интернета, установлено, что в среднем дисперсия и среднее отклонение по всем эти показателям для пользователей тарифа Ультра выше.\n",
    "\n",
    "Были выдвинуты гипотезы :\n",
    "    - о равенстве средней выручки пользователей тарифов «Ультра» и «Смарт»\n",
    "    - о равенстве средней выручки пользователей услугами сотовой связи из Москвы и других городов\n",
    "    \n",
    "<strong>Обе гипотезы были отвергнуты после p-value тестирования</strong>  \n",
    "\n",
    "Клиенты, которые используют тариф Ультра, выгоднее обходятся компании, так как стоимость их тарифа больше чем в 3 раза выше стоимости тарифа Смарт, а звонков и смс они в основном тратят значительно ниже лимита. При этом, судя по итоговой стоимости, в среднем пользователи тарифа Ультра лишь немного могут превышать свой лимит в месяц."
   ]
  }
 ],
 "metadata": {
  "kernelspec": {
   "display_name": "Python 3",
   "language": "python",
   "name": "python3"
  },
  "language_info": {
   "codemirror_mode": {
    "name": "ipython",
    "version": 3
   },
   "file_extension": ".py",
   "mimetype": "text/x-python",
   "name": "python",
   "nbconvert_exporter": "python",
   "pygments_lexer": "ipython3",
   "version": "3.7.8"
  },
  "toc": {
   "base_numbering": 1,
   "nav_menu": {},
   "number_sections": true,
   "sideBar": true,
   "skip_h1_title": false,
   "title_cell": "Table of Contents",
   "title_sidebar": "Contents",
   "toc_cell": false,
   "toc_position": {},
   "toc_section_display": true,
   "toc_window_display": false
  }
 },
 "nbformat": 4,
 "nbformat_minor": 2
}
